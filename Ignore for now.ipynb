{
 "cells": [
  {
   "cell_type": "code",
   "execution_count": 1,
   "id": "7bd95d8c-f35b-415b-bcc2-a8365f36c7ea",
   "metadata": {},
   "outputs": [],
   "source": [
    "# Import libraries\n",
    "import pandas as pd\n",
    "import numpy as np\n",
    "\n",
    "#make the split here\n",
    "from sklearn.model_selection import train_test_split\n",
    "from sklearn.linear_model import LogisticRegression\n",
    "from sklearn.preprocessing import StandardScaler\n",
    "from sklearn.metrics import confusion_matrix, classification_report\n",
    "\n",
    "import seaborn as sns\n",
    "import matplotlib.pyplot as plt\n",
    "\n",
    "from sklearn.metrics import accuracy_score\n",
    "from sklearn.metrics import f1_score\n",
    "from sklearn.metrics import precision_score\n",
    "from sklearn.neural_network import MLPClassifier\n",
    "from catboost import CatBoostClassifier\n",
    "\n",
    "from sklearn.model_selection import StratifiedKFold\n",
    "import time\n",
    "\n",
    "from utils import *\n",
    "from utils_feature_selection import check_performace\n",
    "from utils_dicts import *\n",
    "\n",
    "import warnings\n",
    "warnings.filterwarnings('ignore')"
   ]
  },
  {
   "cell_type": "code",
   "execution_count": 2,
   "id": "36ce2d95-5615-4fba-b0c5-e3f2f0a56aa2",
   "metadata": {},
   "outputs": [],
   "source": [
    "config = {\n",
    "    # Model Dependent\n",
    "    \"iterations\": 500,  \n",
    "    \"learning_rate\": 0.05,  \n",
    "    \"depth\": 6,           \n",
    "    \"l2_leaf_reg\": 6,                 \n",
    "    \"bagging_temperature\":0.4,                         \n",
    "    \"random_state\":69\n",
    "}"
   ]
  },
  {
   "cell_type": "code",
   "execution_count": 3,
   "id": "8c1d5353-ddd4-4500-aa55-5086a6cb0dba",
   "metadata": {},
   "outputs": [],
   "source": [
    "# Import dataset\n",
    "train_df = pd.read_csv('preprocessed_data/train_data.csv', index_col=\"Claim Identifier\")"
   ]
  },
  {
   "cell_type": "code",
   "execution_count": 4,
   "id": "80dc9bed-8092-432e-ad2f-be08e02d83a6",
   "metadata": {},
   "outputs": [
    {
     "data": {
      "text/plain": [
       "Claim Injury Type Encoded\n",
       "1    290695\n",
       "3    148370\n",
       "2     68858\n",
       "4     48248\n",
       "0     12414\n",
       "5      4203\n",
       "7       457\n",
       "6        97\n",
       "Name: count, dtype: int64"
      ]
     },
     "execution_count": 4,
     "metadata": {},
     "output_type": "execute_result"
    }
   ],
   "source": [
    "train_df[\"Claim Injury Type Encoded\"].value_counts()"
   ]
  },
  {
   "cell_type": "code",
   "execution_count": 5,
   "id": "469e18ac-6dbf-4c71-a5bd-12b9793dba31",
   "metadata": {},
   "outputs": [],
   "source": [
    "def map_claim_injury_type(y_series):\n",
    "    # Define the mapping rules\n",
    "    mapping = {\n",
    "        0: [1, 3],        # Map values 1 and 3 to 0\n",
    "        1: [2, 4, 0, 5, 6, 7]   # Map values 2, 4, and 0 to 1\n",
    "    }\n",
    "\n",
    "    # Create a reverse mapping for efficient lookup\n",
    "    reverse_mapping = {value: key for key, values in mapping.items() for value in values}\n",
    "\n",
    "    # Map the series using the reverse mapping\n",
    "    return y_series.map(reverse_mapping)"
   ]
  },
  {
   "cell_type": "code",
   "execution_count": 6,
   "id": "cff45868-8eb0-4a0b-9b8f-1dfafedadd79",
   "metadata": {},
   "outputs": [],
   "source": [
    "X = train_df.drop([\"Claim Injury Type Encoded\"], axis = 1)\n",
    "y = train_df[\"Claim Injury Type Encoded\"]"
   ]
  },
  {
   "cell_type": "code",
   "execution_count": 7,
   "id": "4873fc22-37a6-4dbf-8479-748e0087803f",
   "metadata": {},
   "outputs": [],
   "source": [
    "feature_selection = []"
   ]
  },
  {
   "cell_type": "code",
   "execution_count": 8,
   "id": "a9ebab30-a783-4268-9f14-6797184957c3",
   "metadata": {},
   "outputs": [],
   "source": [
    "y_mapped = map_claim_injury_type(train_df[\"Claim Injury Type Encoded\"])"
   ]
  },
  {
   "cell_type": "code",
   "execution_count": 9,
   "id": "2e555180-63ec-44ff-a2c4-2f62b651c6c9",
   "metadata": {},
   "outputs": [
    {
     "data": {
      "text/plain": [
       "Claim Injury Type Encoded\n",
       "1    290695\n",
       "3    148370\n",
       "2     68858\n",
       "4     48248\n",
       "0     12414\n",
       "5      4203\n",
       "7       457\n",
       "6        97\n",
       "Name: count, dtype: int64"
      ]
     },
     "execution_count": 9,
     "metadata": {},
     "output_type": "execute_result"
    }
   ],
   "source": [
    "y.value_counts()"
   ]
  },
  {
   "cell_type": "code",
   "execution_count": 10,
   "id": "b5d8e74b-697c-4dce-9b3f-680f7ab877be",
   "metadata": {},
   "outputs": [
    {
     "data": {
      "text/plain": [
       "Claim Injury Type Encoded\n",
       "0    439065\n",
       "1    117106\n",
       "2     17171\n",
       "Name: count, dtype: int64"
      ]
     },
     "execution_count": 10,
     "metadata": {},
     "output_type": "execute_result"
    }
   ],
   "source": [
    "y_mapped.value_counts()"
   ]
  },
  {
   "cell_type": "code",
   "execution_count": 11,
   "id": "fb5bd723-a0d7-4339-83ae-92569633014f",
   "metadata": {},
   "outputs": [],
   "source": [
    "X_train, X_val, y_train, y_val = train_test_split(X,y_mapped, test_size = 0.2, stratify = y, shuffle = True)"
   ]
  },
  {
   "cell_type": "code",
   "execution_count": 12,
   "id": "a4cc6082-aa60-4f0b-bc23-778375d62dd9",
   "metadata": {},
   "outputs": [],
   "source": [
    "X_train, X_val = apply_frequency_encoding(X_train, X_val)\n",
    "\n",
    "NA_imputer(X_train,X_val)\n",
    "create_new_features(X_train,X_val)"
   ]
  },
  {
   "cell_type": "code",
   "execution_count": 13,
   "id": "172efaf5-e3ce-4ec0-8b10-0d04ef06f84d",
   "metadata": {},
   "outputs": [],
   "source": [
    "scaler = StandardScaler().fit(X_train[numerical_features])\n",
    "X_train[numerical_features]  = scaler.transform(X_train[numerical_features])\n",
    "X_val[numerical_features]  = scaler.transform(X_val[numerical_features]) "
   ]
  },
  {
   "cell_type": "code",
   "execution_count": 14,
   "id": "5c8978ff-c865-400d-babb-a186ada9e577",
   "metadata": {},
   "outputs": [],
   "source": [
    "drop_list = [\"Average Weekly Wage\"]\n",
    "if feature_selection != []:\n",
    "    for col in X_train.columns:\n",
    "        if col not in feature_selection:\n",
    "            drop_list.append(col)\n",
    "X_train = X_train.drop(drop_list, axis=1)\n",
    "X_val = X_val.drop(drop_list, axis=1)"
   ]
  },
  {
   "cell_type": "code",
   "execution_count": 15,
   "id": "bc42804b-597a-43f7-8b1e-7fc4edb03b7f",
   "metadata": {},
   "outputs": [],
   "source": [
    "# Model para 0, 1 ou 2"
   ]
  },
  {
   "cell_type": "code",
   "execution_count": 16,
   "id": "2bd138aa-3f83-4eae-9f77-09889b5ce7ef",
   "metadata": {},
   "outputs": [],
   "source": [
    "model = CatBoostClassifier(\n",
    "        iterations=config[\"iterations\"],\n",
    "        learning_rate=config[\"learning_rate\"],\n",
    "        depth=config[\"depth\"],\n",
    "        l2_leaf_reg=config[\"l2_leaf_reg\"],\n",
    "        bagging_temperature=config[\"bagging_temperature\"],\n",
    "        # -------------------\n",
    "        random_state=config[\"random_state\"],\n",
    "        custom_metric='F1', \n",
    "        early_stopping_rounds=50,\n",
    "        verbose=0\n",
    "    )"
   ]
  },
  {
   "cell_type": "code",
   "execution_count": 17,
   "id": "ef63f73f-c66b-495f-ba42-389dd8f148f4",
   "metadata": {},
   "outputs": [
    {
     "data": {
      "text/plain": [
       "<catboost.core.CatBoostClassifier at 0x242b65db7d0>"
      ]
     },
     "execution_count": 17,
     "metadata": {},
     "output_type": "execute_result"
    }
   ],
   "source": [
    "model.fit(X_train, y_train)"
   ]
  },
  {
   "cell_type": "code",
   "execution_count": 18,
   "id": "7ec3c27b-3c34-4bc8-a9b0-152ebb85903b",
   "metadata": {},
   "outputs": [],
   "source": [
    "y_train_pred = model.predict(X_train)\n",
    "y_val_pred = model.predict(X_val)"
   ]
  },
  {
   "cell_type": "code",
   "execution_count": 19,
   "id": "bde07957-d904-4aff-a2c5-203b098e8ca2",
   "metadata": {},
   "outputs": [
    {
     "name": "stdout",
     "output_type": "stream",
     "text": [
      "\n",
      "Classification Report:\n",
      "              precision    recall  f1-score   support\n",
      "\n",
      "           0       0.83      0.96      0.89    351252\n",
      "           1       0.71      0.33      0.45     93684\n",
      "           2       0.76      0.34      0.47     13737\n",
      "\n",
      "    accuracy                           0.81    458673\n",
      "   macro avg       0.76      0.54      0.60    458673\n",
      "weighted avg       0.80      0.81      0.79    458673\n",
      "\n"
     ]
    }
   ],
   "source": [
    "print(\"\\nClassification Report:\")\n",
    "print(classification_report(y_train, y_train_pred))"
   ]
  },
  {
   "cell_type": "code",
   "execution_count": 20,
   "id": "97faf35d-3119-4a1b-862f-ad3a3a0e0a73",
   "metadata": {},
   "outputs": [
    {
     "name": "stdout",
     "output_type": "stream",
     "text": [
      "\n",
      "Classification Report:\n",
      "              precision    recall  f1-score   support\n",
      "\n",
      "           0       0.83      0.96      0.89     87813\n",
      "           1       0.70      0.32      0.44     23422\n",
      "           2       0.75      0.34      0.47      3434\n",
      "\n",
      "    accuracy                           0.81    114669\n",
      "   macro avg       0.76      0.54      0.60    114669\n",
      "weighted avg       0.80      0.81      0.78    114669\n",
      "\n"
     ]
    }
   ],
   "source": [
    "print(\"\\nClassification Report:\")\n",
    "print(classification_report(y_val, y_val_pred))"
   ]
  },
  {
   "cell_type": "code",
   "execution_count": 21,
   "id": "e43eca9b-42e3-4ce2-96cf-9cbd67558295",
   "metadata": {},
   "outputs": [],
   "source": [
    "X_train, X_val, y_train, y_val = train_test_split(X,y, test_size = 0.2, stratify = y, shuffle = True)"
   ]
  },
  {
   "cell_type": "code",
   "execution_count": 22,
   "id": "3d944287-b5fd-48a6-b4bf-123083baa64a",
   "metadata": {},
   "outputs": [],
   "source": [
    "X_train, X_val = apply_frequency_encoding(X_train, X_val)\n",
    "NA_imputer(X_train,X_val)\n",
    "create_new_features(X_train,X_val)"
   ]
  },
  {
   "cell_type": "code",
   "execution_count": 23,
   "id": "d3989f82-7a04-45cc-bb55-1f14090c1b78",
   "metadata": {},
   "outputs": [],
   "source": [
    "scaler = StandardScaler().fit(X_train[numerical_features])\n",
    "X_train[numerical_features]  = scaler.transform(X_train[numerical_features])\n",
    "X_val[numerical_features]  = scaler.transform(X_val[numerical_features]) "
   ]
  },
  {
   "cell_type": "code",
   "execution_count": 24,
   "id": "257689c5-6bf2-44d4-9ef7-de0d3b92885a",
   "metadata": {},
   "outputs": [],
   "source": [
    "drop_list = [\"Average Weekly Wage\"]\n",
    "if feature_selection != []:\n",
    "    for col in X_train.columns:\n",
    "        if col not in feature_selection:\n",
    "            drop_list.append(col)\n",
    "X_train = X_train.drop(drop_list, axis=1)\n",
    "X_val = X_val.drop(drop_list, axis=1)"
   ]
  },
  {
   "cell_type": "code",
   "execution_count": 25,
   "id": "e4f8093a-f35b-42c3-90ac-d94de5e94d53",
   "metadata": {},
   "outputs": [],
   "source": [
    "y_mapped_train = model.predict(X_train)\n",
    "y_mapped_val = model.predict(X_val)\n",
    "X_train[\"rarity\"] = y_mapped_train\n",
    "X_val[\"rarity\"] = y_mapped_val"
   ]
  },
  {
   "cell_type": "code",
   "execution_count": 26,
   "id": "5c248100-521c-470e-973c-ecb32999c74a",
   "metadata": {},
   "outputs": [],
   "source": [
    "model = CatBoostClassifier(\n",
    "        iterations=config[\"iterations\"],\n",
    "        learning_rate=config[\"learning_rate\"],\n",
    "        depth=config[\"depth\"],\n",
    "        l2_leaf_reg=config[\"l2_leaf_reg\"],\n",
    "        bagging_temperature=config[\"bagging_temperature\"],\n",
    "        # -------------------\n",
    "        random_state=config[\"random_state\"],\n",
    "        custom_metric='F1', \n",
    "        early_stopping_rounds=50,\n",
    "        verbose=0\n",
    "    )"
   ]
  },
  {
   "cell_type": "code",
   "execution_count": 27,
   "id": "ca40cf50-7441-4cf0-93b2-49f6d2a8e0ea",
   "metadata": {},
   "outputs": [
    {
     "data": {
      "text/plain": [
       "<catboost.core.CatBoostClassifier at 0x242b6506e40>"
      ]
     },
     "execution_count": 27,
     "metadata": {},
     "output_type": "execute_result"
    }
   ],
   "source": [
    "model.fit(X_train,y_train)"
   ]
  },
  {
   "cell_type": "code",
   "execution_count": 28,
   "id": "51695aa5-269f-4d9f-9bc3-39c5121d046d",
   "metadata": {},
   "outputs": [],
   "source": [
    "y_train_pred = model.predict(X_train)\n",
    "y_val_pred = model.predict(X_val)"
   ]
  },
  {
   "cell_type": "code",
   "execution_count": 29,
   "id": "2782214f-da28-4958-a5d9-9fdfc581d9ca",
   "metadata": {},
   "outputs": [
    {
     "name": "stdout",
     "output_type": "stream",
     "text": [
      "Confusion Matrix:\n",
      "[[  4812   4383    126    577     28      0      0      5]\n",
      " [  1559 223783    942   5818    432      0      0     22]\n",
      " [    51  32541   3750  15778   2956      0      0     10]\n",
      " [    46  28489   1919  80530   7656      3      0     53]\n",
      " [     4   1538    546  13706  22803      1      0      0]\n",
      " [     0      8     36   2796    519      3      0      0]\n",
      " [     0      2      0     66     10      0      0      0]\n",
      " [     3     51      7    178      8      0      0    119]]\n",
      "\n",
      "Classification Report:\n",
      "              precision    recall  f1-score   support\n",
      "\n",
      "           0       0.74      0.48      0.59      9931\n",
      "           1       0.77      0.96      0.86    232556\n",
      "           2       0.51      0.07      0.12     55086\n",
      "           3       0.67      0.68      0.68    118696\n",
      "           4       0.66      0.59      0.62     38598\n",
      "           5       0.43      0.00      0.00      3362\n",
      "           6       0.00      0.00      0.00        78\n",
      "           7       0.57      0.33      0.41       366\n",
      "\n",
      "    accuracy                           0.73    458673\n",
      "   macro avg       0.54      0.39      0.41    458673\n",
      "weighted avg       0.70      0.73      0.69    458673\n",
      "\n"
     ]
    }
   ],
   "source": [
    "print(\"Confusion Matrix:\")\n",
    "print(confusion_matrix(y_train, y_train_pred))\n",
    "print(\"\\nClassification Report:\")\n",
    "print(classification_report(y_train, y_train_pred))"
   ]
  },
  {
   "cell_type": "code",
   "execution_count": 30,
   "id": "9a48906b-74d0-4464-a882-fec1bd9e4dfb",
   "metadata": {},
   "outputs": [
    {
     "name": "stdout",
     "output_type": "stream",
     "text": [
      "Confusion Matrix:\n",
      "[[  4812   4383    126    577     28      0      0      5]\n",
      " [  1559 223783    942   5818    432      0      0     22]\n",
      " [    51  32541   3750  15778   2956      0      0     10]\n",
      " [    46  28489   1919  80530   7656      3      0     53]\n",
      " [     4   1538    546  13706  22803      1      0      0]\n",
      " [     0      8     36   2796    519      3      0      0]\n",
      " [     0      2      0     66     10      0      0      0]\n",
      " [     3     51      7    178      8      0      0    119]]\n",
      "\n",
      "Classification Report:\n",
      "              precision    recall  f1-score   support\n",
      "\n",
      "           0       0.74      0.47      0.58      2483\n",
      "           1       0.77      0.96      0.85     58139\n",
      "           2       0.50      0.07      0.12     13772\n",
      "           3       0.67      0.67      0.67     29674\n",
      "           4       0.66      0.59      0.62      9650\n",
      "           5       0.00      0.00      0.00       841\n",
      "           6       0.00      0.00      0.00        19\n",
      "           7       0.44      0.19      0.26        91\n",
      "\n",
      "    accuracy                           0.73    114669\n",
      "   macro avg       0.47      0.37      0.39    114669\n",
      "weighted avg       0.70      0.73      0.69    114669\n",
      "\n"
     ]
    }
   ],
   "source": [
    "print(\"Confusion Matrix:\")\n",
    "print(confusion_matrix(y_train, y_train_pred))\n",
    "print(\"\\nClassification Report:\")\n",
    "print(classification_report(y_val, y_val_pred))"
   ]
  },
  {
   "cell_type": "code",
   "execution_count": null,
   "id": "961fe1ec-65ca-4337-b1df-96dff68b7c84",
   "metadata": {},
   "outputs": [],
   "source": []
  }
 ],
 "metadata": {
  "kernelspec": {
   "display_name": "Python 3 (ipykernel)",
   "language": "python",
   "name": "python3"
  },
  "language_info": {
   "codemirror_mode": {
    "name": "ipython",
    "version": 3
   },
   "file_extension": ".py",
   "mimetype": "text/x-python",
   "name": "python",
   "nbconvert_exporter": "python",
   "pygments_lexer": "ipython3",
   "version": "3.12.6"
  }
 },
 "nbformat": 4,
 "nbformat_minor": 5
}
