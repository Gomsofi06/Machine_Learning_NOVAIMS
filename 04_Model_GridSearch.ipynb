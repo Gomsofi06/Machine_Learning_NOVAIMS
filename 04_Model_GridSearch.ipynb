{
 "cells": [
  {
   "cell_type": "code",
   "execution_count": 1,
   "id": "81a2bdb0-993a-40d4-abcc-95e392642b28",
   "metadata": {},
   "outputs": [],
   "source": [
    "# General Imports\n",
    "import numpy as np\n",
    "import pandas as pd\n",
    "import seaborn as sns\n",
    "import matplotlib.pyplot as plt\n",
    "\n",
    "# Sklearn packages\n",
    "from sklearn.preprocessing import StandardScaler, MinMaxScaler, RobustScaler\n",
    "from sklearn.model_selection import train_test_split\n",
    "from sklearn.impute import KNNImputer\n",
    "\n",
    "# Models\n",
    "from sklearn.linear_model import LogisticRegression\n",
    "from sklearn.neighbors import KNeighborsClassifier\n",
    "from sklearn.tree import DecisionTreeClassifier\n",
    "\n",
    "from sklearn.feature_selection import RFE\n",
    "\n",
    "from sklearn.model_selection import StratifiedKFold\n",
    "\n",
    "# Ray\n",
    "from ray import tune\n",
    "from ray.tune.schedulers import ASHAScheduler\n",
    "from ray.air import session\n",
    "\n",
    "import xgboost as xgb\n",
    "\n",
    "from sklearn.preprocessing import LabelEncoder\n",
    "\n",
    "from imblearn.over_sampling import SMOTE\n",
    "from imblearn.under_sampling import RandomUnderSampler\n",
    "from sklearn.ensemble import IsolationForest\n",
    "\n",
    "from sklearn.metrics import classification_report, f1_score\n",
    "\n",
    "from utils import *\n",
    "from utils_dicts import *\n",
    "\n",
    "from functools import partial\n",
    "\n",
    "import warnings\n",
    "warnings.filterwarnings(\"ignore\")\n",
    "\n",
    "%load_ext autoreload\n",
    "%autoreload 2"
   ]
  },
  {
   "cell_type": "code",
   "execution_count": 2,
   "id": "4a39009b-0985-4283-a659-f0676473d26c",
   "metadata": {},
   "outputs": [],
   "source": [
    "from xgboost import XGBClassifier\n",
    "from catboost import CatBoostClassifier"
   ]
  },
  {
   "cell_type": "code",
   "execution_count": 3,
   "id": "4f8cf77e-3289-4a75-a11f-89fbacb09b9e",
   "metadata": {},
   "outputs": [],
   "source": [
    "import os\n",
    "os.environ[\"RAY_AIR_NEW_OUTPUT\"] = \"1\""
   ]
  },
  {
   "cell_type": "code",
   "execution_count": 4,
   "id": "932c3c78-86a1-406f-91a9-c5b87f1c01a1",
   "metadata": {},
   "outputs": [],
   "source": [
    "try:\n",
    "    import torch\n",
    "    import ray\n",
    "except:\n",
    "    !pip install torch\n",
    "    import torch\n",
    "    import ray\n",
    "device = \"GPU\" if torch.cuda.is_available() else \"CPU\""
   ]
  },
  {
   "cell_type": "code",
   "execution_count": 5,
   "id": "475a86c6-fb40-426b-b67a-bc843513fc1a",
   "metadata": {},
   "outputs": [],
   "source": [
    "import time\n",
    "start = start_time = time.time()"
   ]
  },
  {
   "cell_type": "code",
   "execution_count": 6,
   "id": "b7e246db-e2ef-4fc9-91d2-7686df91ea1c",
   "metadata": {},
   "outputs": [],
   "source": [
    "# Fazer para CatBoosted, XGBoosted, GB, LightGBM e um modelo da lista"
   ]
  },
  {
   "cell_type": "code",
   "execution_count": 7,
   "id": "c24bc475-d08e-45d4-a57b-78891c991c6d",
   "metadata": {},
   "outputs": [
    {
     "name": "stderr",
     "output_type": "stream",
     "text": [
      "2024-12-13 08:24:32,576\tINFO worker.py:1777 -- Started a local Ray instance. View the dashboard at \u001b[1m\u001b[32mhttp://127.0.0.1:8265 \u001b[39m\u001b[22m\n"
     ]
    },
    {
     "data": {
      "application/vnd.jupyter.widget-view+json": {
       "model_id": "78237cee2bd0423a8dd2e782a37bbf46",
       "version_major": 2,
       "version_minor": 0
      },
      "text/html": [
       "<div class=\"lm-Widget p-Widget lm-Panel p-Panel jp-Cell-outputWrapper\">\n",
       "    <div style=\"margin-left: 50px;display: flex;flex-direction: row;align-items: center\">\n",
       "        <div class=\"jp-RenderedHTMLCommon\" style=\"display: flex; flex-direction: row;\">\n",
       "  <svg viewBox=\"0 0 567 224\" fill=\"none\" xmlns=\"http://www.w3.org/2000/svg\" style=\"height: 3em;\">\n",
       "    <g clip-path=\"url(#clip0_4338_178347)\">\n",
       "        <path d=\"M341.29 165.561H355.29L330.13 129.051C345.63 123.991 354.21 112.051 354.21 94.2307C354.21 71.3707 338.72 58.1807 311.88 58.1807H271V165.561H283.27V131.661H311.8C314.25 131.661 316.71 131.501 319.01 131.351L341.25 165.561H341.29ZM283.29 119.851V70.0007H311.82C331.3 70.0007 342.34 78.2907 342.34 94.5507C342.34 111.271 331.34 119.861 311.82 119.861L283.29 119.851ZM451.4 138.411L463.4 165.561H476.74L428.74 58.1807H416L367.83 165.561H380.83L392.83 138.411H451.4ZM446.19 126.601H398L422 72.1407L446.24 126.601H446.19ZM526.11 128.741L566.91 58.1807H554.35L519.99 114.181L485.17 58.1807H472.44L514.01 129.181V165.541H526.13V128.741H526.11Z\" fill=\"var(--jp-ui-font-color0)\"/>\n",
       "        <path d=\"M82.35 104.44C84.0187 97.8827 87.8248 92.0678 93.1671 87.9146C98.5094 83.7614 105.083 81.5067 111.85 81.5067C118.617 81.5067 125.191 83.7614 130.533 87.9146C135.875 92.0678 139.681 97.8827 141.35 104.44H163.75C164.476 101.562 165.622 98.8057 167.15 96.2605L127.45 56.5605C121.071 60.3522 113.526 61.6823 106.235 60.3005C98.9443 58.9187 92.4094 54.9203 87.8602 49.0574C83.3109 43.1946 81.0609 35.8714 81.5332 28.4656C82.0056 21.0599 85.1679 14.0819 90.4252 8.8446C95.6824 3.60726 102.672 0.471508 110.08 0.0272655C117.487 -0.416977 124.802 1.86091 130.647 6.4324C136.493 11.0039 140.467 17.5539 141.821 24.8501C143.175 32.1463 141.816 39.6859 138 46.0505L177.69 85.7505C182.31 82.9877 187.58 81.4995 192.962 81.4375C198.345 81.3755 203.648 82.742 208.33 85.3976C213.012 88.0532 216.907 91.9029 219.616 96.5544C222.326 101.206 223.753 106.492 223.753 111.875C223.753 117.258 222.326 122.545 219.616 127.197C216.907 131.848 213.012 135.698 208.33 138.353C203.648 141.009 198.345 142.375 192.962 142.313C187.58 142.251 182.31 140.763 177.69 138L138 177.7C141.808 184.071 143.155 191.614 141.79 198.91C140.424 206.205 136.44 212.75 130.585 217.313C124.731 221.875 117.412 224.141 110.004 223.683C102.596 223.226 95.6103 220.077 90.3621 214.828C85.1139 209.58 81.9647 202.595 81.5072 195.187C81.0497 187.779 83.3154 180.459 87.878 174.605C92.4405 168.751 98.9853 164.766 106.281 163.401C113.576 162.035 121.119 163.383 127.49 167.19L167.19 127.49C165.664 124.941 164.518 122.182 163.79 119.3H141.39C139.721 125.858 135.915 131.673 130.573 135.826C125.231 139.98 118.657 142.234 111.89 142.234C105.123 142.234 98.5494 139.98 93.2071 135.826C87.8648 131.673 84.0587 125.858 82.39 119.3H60C58.1878 126.495 53.8086 132.78 47.6863 136.971C41.5641 141.163 34.1211 142.972 26.7579 142.059C19.3947 141.146 12.6191 137.574 7.70605 132.014C2.79302 126.454 0.0813599 119.29 0.0813599 111.87C0.0813599 104.451 2.79302 97.2871 7.70605 91.7272C12.6191 86.1673 19.3947 82.5947 26.7579 81.6817C34.1211 80.7686 41.5641 82.5781 47.6863 86.7696C53.8086 90.9611 58.1878 97.2456 60 104.44H82.35ZM100.86 204.32C103.407 206.868 106.759 208.453 110.345 208.806C113.93 209.159 117.527 208.258 120.522 206.256C123.517 204.254 125.725 201.276 126.771 197.828C127.816 194.38 127.633 190.677 126.253 187.349C124.874 184.021 122.383 181.274 119.205 179.577C116.027 177.88 112.359 177.337 108.826 178.042C105.293 178.746 102.113 180.654 99.8291 183.44C97.5451 186.226 96.2979 189.718 96.3 193.32C96.2985 195.364 96.7006 197.388 97.4831 199.275C98.2656 201.163 99.4132 202.877 100.86 204.32ZM204.32 122.88C206.868 120.333 208.453 116.981 208.806 113.396C209.159 109.811 208.258 106.214 206.256 103.219C204.254 100.223 201.275 98.0151 197.827 96.97C194.38 95.9249 190.676 96.1077 187.348 97.4873C184.02 98.8669 181.274 101.358 179.577 104.536C177.879 107.714 177.337 111.382 178.041 114.915C178.746 118.448 180.653 121.627 183.439 123.911C186.226 126.195 189.717 127.443 193.32 127.44C195.364 127.443 197.388 127.042 199.275 126.259C201.163 125.476 202.878 124.328 204.32 122.88ZM122.88 19.4205C120.333 16.8729 116.981 15.2876 113.395 14.9347C109.81 14.5817 106.213 15.483 103.218 17.4849C100.223 19.4868 98.0146 22.4654 96.9696 25.9131C95.9245 29.3608 96.1073 33.0642 97.4869 36.3922C98.8665 39.7202 101.358 42.4668 104.535 44.1639C107.713 45.861 111.381 46.4036 114.914 45.6992C118.447 44.9949 121.627 43.0871 123.911 40.301C126.195 37.515 127.442 34.0231 127.44 30.4205C127.44 28.3772 127.038 26.3539 126.255 24.4664C125.473 22.5788 124.326 20.8642 122.88 19.4205ZM19.42 100.86C16.8725 103.408 15.2872 106.76 14.9342 110.345C14.5813 113.93 15.4826 117.527 17.4844 120.522C19.4863 123.518 22.4649 125.726 25.9127 126.771C29.3604 127.816 33.0638 127.633 36.3918 126.254C39.7198 124.874 42.4664 122.383 44.1635 119.205C45.8606 116.027 46.4032 112.359 45.6988 108.826C44.9944 105.293 43.0866 102.114 40.3006 99.8296C37.5145 97.5455 34.0227 96.2983 30.42 96.3005C26.2938 96.3018 22.337 97.9421 19.42 100.86ZM100.86 100.86C98.3125 103.408 96.7272 106.76 96.3742 110.345C96.0213 113.93 96.9226 117.527 98.9244 120.522C100.926 123.518 103.905 125.726 107.353 126.771C110.8 127.816 114.504 127.633 117.832 126.254C121.16 124.874 123.906 122.383 125.604 119.205C127.301 116.027 127.843 112.359 127.139 108.826C126.434 105.293 124.527 102.114 121.741 99.8296C118.955 97.5455 115.463 96.2983 111.86 96.3005C109.817 96.299 107.793 96.701 105.905 97.4835C104.018 98.2661 102.303 99.4136 100.86 100.86Z\" fill=\"#00AEEF\"/>\n",
       "    </g>\n",
       "    <defs>\n",
       "        <clipPath id=\"clip0_4338_178347\">\n",
       "            <rect width=\"566.93\" height=\"223.75\" fill=\"white\"/>\n",
       "        </clipPath>\n",
       "    </defs>\n",
       "  </svg>\n",
       "</div>\n",
       "\n",
       "        <table class=\"jp-RenderedHTMLCommon\" style=\"border-collapse: collapse;color: var(--jp-ui-font-color1);font-size: var(--jp-ui-font-size1);\">\n",
       "    <tr>\n",
       "        <td style=\"text-align: left\"><b>Python version:</b></td>\n",
       "        <td style=\"text-align: left\"><b>3.11.9</b></td>\n",
       "    </tr>\n",
       "    <tr>\n",
       "        <td style=\"text-align: left\"><b>Ray version:</b></td>\n",
       "        <td style=\"text-align: left\"><b>2.37.0</b></td>\n",
       "    </tr>\n",
       "    <tr>\n",
       "    <td style=\"text-align: left\"><b>Dashboard:</b></td>\n",
       "    <td style=\"text-align: left\"><b><a href=\"http://127.0.0.1:8265\" target=\"_blank\">http://127.0.0.1:8265</a></b></td>\n",
       "</tr>\n",
       "\n",
       "</table>\n",
       "\n",
       "    </div>\n",
       "</div>\n"
      ],
      "text/plain": [
       "RayContext(dashboard_url='127.0.0.1:8265', python_version='3.11.9', ray_version='2.37.0', ray_commit='1b620f244c4fb67d80661046091573fb6eefecb6')"
      ]
     },
     "execution_count": 7,
     "metadata": {},
     "output_type": "execute_result"
    }
   ],
   "source": [
    "ray.init(local_mode=True,include_dashboard=True)"
   ]
  },
  {
   "cell_type": "code",
   "execution_count": 8,
   "id": "5713d02c-ddbc-46fd-80aa-a3485ddbcbb1",
   "metadata": {},
   "outputs": [
    {
     "name": "stdout",
     "output_type": "stream",
     "text": [
      "{'accelerator_type:G': 1.0, 'node:__internal_head__': 1.0, 'CPU': 24.0, 'memory': 13583740110.0, 'node:127.0.0.1': 1.0, 'object_store_memory': 6791870054.0, 'GPU': 1.0}\n"
     ]
    }
   ],
   "source": [
    "print(ray.available_resources())"
   ]
  },
  {
   "cell_type": "code",
   "execution_count": 9,
   "id": "1321700a-4039-4d20-a0fc-3cb6109cf7f1",
   "metadata": {},
   "outputs": [],
   "source": [
    "train_df = pd.read_csv(\"./preprocessed_data/train_data.csv\", index_col=\"Claim Identifier\")"
   ]
  },
  {
   "cell_type": "code",
   "execution_count": 10,
   "id": "062b51ae-e71b-4168-aa59-a39e20f84993",
   "metadata": {},
   "outputs": [
    {
     "name": "stdout",
     "output_type": "stream",
     "text": [
      "Enc County of Injury\n",
      "Enc District Name\n",
      "Enc Industry Code\n",
      "Enc WCIO Cause of Injury Code\n",
      "Enc WCIO Nature of Injury Code\n",
      "Enc WCIO Part Of Body Code\n",
      "Enc Zip Code\n",
      "Relative_Wage\n",
      "Financial Impact Category\n",
      "Age_Group\n",
      "-------\n",
      "Accident Date\n",
      "County of Injury\n",
      "District Name\n",
      "Industry Code\n",
      "WCIO Cause of Injury Code\n",
      "WCIO Nature of Injury Code\n",
      "WCIO Part Of Body Code\n",
      "Zip Code\n",
      "Claim Injury Type Encoded\n"
     ]
    }
   ],
   "source": [
    "for col in numerical_features+categorical_features:\n",
    "    if col not in train_df.columns:\n",
    "        print(col)\n",
    "print(\"-------\")\n",
    "for col in train_df.columns:\n",
    "    if col not in numerical_features+categorical_features:\n",
    "        print(col)"
   ]
  },
  {
   "cell_type": "code",
   "execution_count": 11,
   "id": "b083e626-4e07-4c7b-b2ef-010e0a145ab4",
   "metadata": {},
   "outputs": [],
   "source": [
    "# Install Ray and Cuda\n",
    "\n",
    "# What to do with NAs in Wage (and Industry Code)\n",
    "\n",
    "# Model Selection\n",
    "\n",
    "    # Feature Selection\n",
    "\n",
    "    # Kfold load (Have a script that will create 3 versions for Kfold for 4-6 folds)\n",
    "    # Impute\n",
    "\n",
    "    # Which models (catboosted)\n",
    "    # Compare validation to 10% test\n",
    "\n",
    "# Model Gridsearch\n",
    "    # Find 2-3 models that are good\n",
    "    # Look at the parameters and create dict with them\n",
    "    # Run Ray.Tune on models and paramenter - how?\n",
    "    # Compare best for each model to 10%\n",
    "\n",
    "# Test Predict\n",
    "    # Train best model\n",
    "    # Predict\n",
    "    # Profit"
   ]
  },
  {
   "cell_type": "markdown",
   "id": "59b68a3c-9617-4bee-b46c-4684824fdd62",
   "metadata": {},
   "source": [
    "Claim Injury Type\n",
    "- 2. NON-COMP        291078\n",
    "- 4. TEMPORARY       148507\n",
    "- 3. MED ONLY         68906\n",
    "- 5. PPD SCH LOSS     48280\n",
    "- 1. CANCELLED        12477\n",
    "- 6. PPD NSL           4211\n",
    "- 8. DEATH              470\n",
    "- 7. PTD                 97"
   ]
  },
  {
   "cell_type": "code",
   "execution_count": 12,
   "id": "1407989c-7e7c-4ccc-90e9-82d7305d4e40",
   "metadata": {},
   "outputs": [],
   "source": [
    "X = train_df.drop([\"Claim Injury Type Encoded\"], axis = 1)\n",
    "y = train_df[\"Claim Injury Type Encoded\"]"
   ]
  },
  {
   "cell_type": "code",
   "execution_count": 13,
   "id": "3ce2fa9b-0f97-4620-8de8-c4dc2927592d",
   "metadata": {},
   "outputs": [],
   "source": [
    "X_train, X_val, y_train, y_val = train_test_split(X,y, test_size = 0.75, stratify = y, shuffle = True)"
   ]
  },
  {
   "cell_type": "code",
   "execution_count": 14,
   "id": "383ef6e0-b19d-4bad-9eaa-eac531009f3a",
   "metadata": {},
   "outputs": [],
   "source": [
    "X_train, X_val = apply_frequency_encoding(X_train, X_val)"
   ]
  },
  {
   "cell_type": "code",
   "execution_count": 15,
   "id": "41c6360a-e320-47ac-98a3-5a11c933c143",
   "metadata": {},
   "outputs": [],
   "source": [
    "NA_imputer(X_train,X_val)"
   ]
  },
  {
   "cell_type": "code",
   "execution_count": 16,
   "id": "be0b9518-b570-4913-b55e-ca5ad99af778",
   "metadata": {},
   "outputs": [],
   "source": [
    "create_new_features(X_train,X_val)"
   ]
  },
  {
   "cell_type": "code",
   "execution_count": 17,
   "id": "5819bbe9-8a6a-4551-8467-30a175e59e37",
   "metadata": {},
   "outputs": [],
   "source": [
    "scaler_train = StandardScaler()\n",
    "X_train[numerical_features] = scaler_train.fit_transform(X_train[numerical_features])\n",
    "X_val[numerical_features] = scaler_train.transform(X_val[numerical_features])"
   ]
  },
  {
   "cell_type": "code",
   "execution_count": 18,
   "id": "2098a46b-af35-452b-aaa7-f0bc99db060d",
   "metadata": {},
   "outputs": [],
   "source": [
    "#X_train = X_train[features_to_use]\n",
    "#X_val = X_val[features_to_use]"
   ]
  },
  {
   "cell_type": "code",
   "execution_count": 19,
   "id": "1df87e9e-7089-47cc-8477-0e5e546c44ec",
   "metadata": {},
   "outputs": [],
   "source": [
    "X_train_ray = ray.put(X_train)\n",
    "y_train_ray = ray.put(y_train)\n",
    "X_val_ray = ray.put(X_val)\n",
    "y_val_ray = ray.put(y_val)"
   ]
  },
  {
   "cell_type": "code",
   "execution_count": 20,
   "id": "7b99f5c1-f826-47b1-b50b-15013d5e9134",
   "metadata": {},
   "outputs": [],
   "source": [
    "search_space = {\n",
    "    # Model Dependent\n",
    "    \"iterations\": tune.grid_search([200, 500, 800, 1000, 1500, 2000]),  \n",
    "    \"learning_rate\": tune.grid_search([0.03, 0.05, 0.1, 0.15, 0.2,]),        \n",
    "    \"depth\": tune.grid_search([6, 8, 10]),           \n",
    "    \"l2_leaf_reg\": tune.grid_search([5, 10, 15]),                 \n",
    "    \"bagging_temperature\": tune.grid_search([0, 0.1, 0.5, 1]),         \n",
    "    \"border_count\": tune.grid_search([32, 64, 128]),    \n",
    "    \"random_strength\": tune.grid_search([0, 0.1, 0.5, 1]),              \n",
    "    \"grow_policy\": tune.grid_search([\"SymmetricTree\", \"Depthwise\"]), \n",
    "    \"min_data_in_leaf\": tune.grid_search([1, 5, 10]),                  \n",
    "    \"colsample_bylevel\": tune.grid_search([0.5, 0.7, 0.9]),          \n",
    "    \n",
    "    # Always Use\n",
    "    #\"use_feature_selection\": tune.choice([essential_features, reduced_features, all_features]),\n",
    "    #\"task_type\" : device,\n",
    "    \"use_SMOTE\": tune.grid_search([True, False]),\n",
    "    \"use_RandomUnderSampler\": tune.grid_search([True, False]),\n",
    "    #\"use_Isolation_Forests\":tune.choice([True,False])\n",
    "}"
   ]
  },
  {
   "cell_type": "code",
   "execution_count": 21,
   "id": "1b5eb1fc-9ea4-40fb-aa35-edb7a35d6d0a",
   "metadata": {},
   "outputs": [],
   "source": [
    "def CatBoosted_GridSearch(config):\n",
    "    X_train_gridsearch = ray.get(X_train_ray)\n",
    "    y_train_gridsearch = ray.get(y_train_ray)\n",
    "    X_val_gridsearch = ray.get(X_val_ray)\n",
    "    y_val_gridsearch = ray.get(y_val_ray)\n",
    "    \n",
    "    # Use feature selection\n",
    "    #features_to_drop = [feature for feature in X_train_gridsearch.columns if feature not in config[\"use_feature_selection\"]]\n",
    "    #X_train_gridsearch = X_train_gridsearch.drop(features_to_drop, axis=1)\n",
    "    #X_val_gridsearch = X_val_gridsearch.drop(features_to_drop, axis=1)\n",
    "\n",
    "    # SMOTE and RandomUnderSampling\n",
    "    if config[\"use_SMOTE\"] and not config[\"use_RandomUnderSampler\"]:\n",
    "        smote = SMOTE()\n",
    "        X_train_gridsearch, y_train_gridsearch = smote.fit_resample(X_train_gridsearch, y_train_gridsearch)\n",
    "    elif config[\"use_RandomUnderSampler\"] and not config[\"use_SMOTE\"]:\n",
    "        rus = RandomUnderSampler()\n",
    "        X_train_gridsearch, y_train_gridsearch = rus.fit_resample(X_train_gridsearch, y_train_gridsearch)\n",
    "\n",
    "\n",
    "    #use isolation Forests\n",
    "    #if config[\"use_Isolation_Forests\"]:\n",
    "    #    iso_forest = IsolationForest()\n",
    "    #    y_pred = iso_forest.fit_predict(X_train_gridsearch)\n",
    "    #    train_remove = X_train_gridsearch[y_pred == -1]\n",
    "    #    X_train_gridsearch = X_train_gridsearch.drop(train_remove.index, axis=0)     \n",
    "    #    y_val_gridsearch = y_val_gridsearch.drop(train_remove.index, axis=0) \n",
    "    \n",
    "    model = CatBoostClassifier(\n",
    "        iterations=config[\"iterations\"],\n",
    "        learning_rate=config[\"learning_rate\"],\n",
    "        depth=config[\"depth\"],\n",
    "        l2_leaf_reg=config[\"l2_leaf_reg\"],\n",
    "        bagging_temperature=config[\"bagging_temperature\"],\n",
    "        border_count=config[\"border_count\"],\n",
    "        random_strength=config[\"random_strength\"],\n",
    "        grow_policy=config[\"grow_policy\"],\n",
    "        min_data_in_leaf=config[\"min_data_in_leaf\"],\n",
    "        colsample_bylevel=config[\"colsample_bylevel\"],\n",
    "        # -------------------\n",
    "        loss_function=\"MultiClass\", \n",
    "        eval_metric=\"MultiClass\",  \n",
    "        custom_metric='F1', \n",
    "        verbose=0\n",
    "    )\n",
    "\n",
    "    model.fit(X_train_gridsearch,y_train_gridsearch)\n",
    "    \n",
    "    # Predict on validation data\n",
    "    y_pred = model.predict(X_val_gridsearch)\n",
    "\n",
    "    # Compute F1 score\n",
    "    f1 = f1_score(y_val_gridsearch, y_pred, average=\"macro\")\n",
    "\n",
    "    # Report results to Ray Tune\n",
    "    session.report({\"f1_score\": f1})"
   ]
  },
  {
   "cell_type": "code",
   "execution_count": null,
   "id": "6846e8e5-41ac-47df-ac2f-15ba410c2b0a",
   "metadata": {
    "scrolled": true
   },
   "outputs": [
    {
     "data": {
      "text/html": [],
      "text/plain": [
       "<IPython.core.display.HTML object>"
      ]
     },
     "metadata": {},
     "output_type": "display_data"
    }
   ],
   "source": [
    "analysis = tune.run(\n",
    "    CatBoosted_GridSearch,\n",
    "    config=search_space, \n",
    "    scheduler=ASHAScheduler(metric=\"f1_score\", mode=\"max\", grace_period=5),\n",
    "    resources_per_trial={\"cpu\": 8, \"gpu\": 1},\n",
    "    trial_dirname_creator=custom_trial_dirname,\n",
    "    verbose=1\n",
    ")"
   ]
  },
  {
   "cell_type": "code",
   "execution_count": null,
   "id": "a28fe8bb-c2f9-4fed-bd9c-93ef0a5c39b0",
   "metadata": {},
   "outputs": [],
   "source": [
    "best_trial = analysis.get_best_trial(metric=\"f1_score\", mode=\"max\")\n",
    "print(\"Best trial config: \", best_trial.config)\n",
    "print(\"Best trial final F1 score: \", best_trial.last_result[\"f1_score\"])"
   ]
  },
  {
   "cell_type": "code",
   "execution_count": null,
   "id": "8e823037-a044-4fd5-8148-b1d91d874a68",
   "metadata": {},
   "outputs": [],
   "source": [
    "end_time = time.time()\n",
    "hours_passed = (end_time - start_time) / 3600\n",
    "print(f\"It took {hours_passed:.2f} hours\")"
   ]
  },
  {
   "cell_type": "code",
   "execution_count": null,
   "id": "b9400398-068b-4f64-aebc-508caddeb23f",
   "metadata": {},
   "outputs": [],
   "source": [
    "total_trials = len(analysis.trials)\n",
    "print(f\"Total number of trials: {total_trials}\")"
   ]
  },
  {
   "cell_type": "code",
   "execution_count": null,
   "id": "428eb2f1-c05e-4c8d-814c-4072de09c77c",
   "metadata": {},
   "outputs": [],
   "source": []
  },
  {
   "cell_type": "code",
   "execution_count": null,
   "id": "582bcd4a-e51c-4238-a436-26c4f4545f74",
   "metadata": {},
   "outputs": [],
   "source": [
    "break"
   ]
  },
  {
   "cell_type": "code",
   "execution_count": null,
   "id": "2bd63c1f-fc42-4808-abfd-df10bd1264b4",
   "metadata": {
    "scrolled": true
   },
   "outputs": [],
   "source": [
    "import joblib \n",
    "\n",
    "best_config = best_trial.config\n",
    "\n",
    "best_model = CatBoostClassifier(\n",
    "    iterations=best_config[\"iterations\"],\n",
    "    learning_rate=best_config[\"learning_rate\"],\n",
    "    depth=best_config[\"depth\"],\n",
    "    l2_leaf_reg=best_config[\"l2_leaf_reg\"],\n",
    "    loss_function=\"MultiClass\",  \n",
    "    eval_metric=\"MultiClass\",  \n",
    "    custom_metric=['F1'],  \n",
    "    verbose =  0\n",
    ")\n",
    "\n",
    "# Fit the model\n",
    "best_model.fit(X_train, y_train)\n",
    "\n",
    "# Save the trained model to a file\n",
    "model_path = \"./best_catboost_model.joblib\"\n",
    "joblib.dump(best_model, model_path)\n",
    "\n",
    "print(f\"Best model saved to {model_path}\")"
   ]
  },
  {
   "cell_type": "code",
   "execution_count": null,
   "id": "fcaff8fa-7165-49d7-87c3-a01a4f3d4044",
   "metadata": {},
   "outputs": [],
   "source": [
    "# Predict on validation data\n",
    "y_pred = best_model.predict(X_val)\n",
    "\n",
    "print(classification_report(y_val, y_pred))"
   ]
  }
 ],
 "metadata": {
  "kernelspec": {
   "display_name": "Python 3 (ipykernel)",
   "language": "python",
   "name": "python3"
  },
  "language_info": {
   "codemirror_mode": {
    "name": "ipython",
    "version": 3
   },
   "file_extension": ".py",
   "mimetype": "text/x-python",
   "name": "python",
   "nbconvert_exporter": "python",
   "pygments_lexer": "ipython3",
   "version": "3.11.9"
  }
 },
 "nbformat": 4,
 "nbformat_minor": 5
}
