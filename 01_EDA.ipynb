{
 "cells": [
  {
   "cell_type": "markdown",
   "metadata": {},
   "source": [
    "# <center>Machine Learning Project</center>\n",
    "\n",
    "** **\n",
    "## <center>*01 - Exploratory Data Analysis & Preprocessing*</center>\n",
    "\n",
    "** **\n",
    "\n",
    "The members of the `team` are:\n",
    "- Ana Farinha - 20211514\n",
    "- Francisco Capontes - 20211692\n",
    "- Maria Cruz - 20230760\n",
    "- Sofia Gomes - 20240848\n",
    "- Tahiya Laboni - 20240943\n"
   ]
  },
  {
   "cell_type": "markdown",
   "metadata": {},
   "source": [
    "## <span style=\"color:salmon\"> Description of the project  </span> \n",
    "\n",
    "The New York Workers’ Compensation Board (WCB) administers and regulates workers’ compensation, disability, volunteer firefighters, volunteer ambulance workers, and volunteer civil defence workers’ benefits. As the regulating authority, the WCB is responsible for assembling and deciding on claims whenever it becomes aware of a workplace injury. Since 2000, the WCB has assembled and reviewed more than 5 million claims.\n",
    "\n",
    "However, manually reviewing all claims is an arduous and time-consuming process. For that reason, the WCB has reached out to Nova IMS to assist them in the creation of a model that can automate the decision-making whenever a new claim is received."
   ]
  },
  {
   "cell_type": "markdown",
   "metadata": {},
   "source": [
    "## <span style=\"color:salmon\"> Table of Contents </span>\n",
    "\n",
    "<a class=\"anchor\" id=\"top\"></a>\n",
    "\n",
    "1. [Importing Libraries & Data](#1-importing-libraries--data) <br><br>\n",
    "\n",
    "2. [Exploratory Data Analysis](#2-exploratory-data-analysis) <br>  \n",
    "   2.1 [Initial Exploration](#21-initial-exploration) <br>  \n",
    "   2.2 [Duplicates](#22-duplicates) <br>  \n",
    "   2.3 [Missing Values](#23-missing-values) <br>  \n",
    "   2.4 [Target Distribution](#24-target-distribution) <br>  \n",
    "   2.5 [Numerical Variables](#25-numerical-variables) <br>  \n",
    "   2.6 [Categorical Variables](#26-categorical-variables) <br>  \n",
    "   2.7 [Date Variables](#27-date-variables) <br><br>  \n",
    "\n",
    "3. [Clean and Pre-processing](#3-clean-and-pre-processing) <br>  \n",
    "   3.1 [Data Types](#31-data-types) <br>  \n",
    "   3.2 [Incoherencies](#32-incoherencies) <br>  \n",
    "   3.3 [Handling Missing Values](#33-handling-missing-values) <br>  \n",
    "   3.4 [Removing Outliers](#34-removing-outliers) <br><br>  \n",
    "\n",
    "4. [Feature Engineering](#4-feature-engineering) <br>  \n",
    "   4.1 [Creating New Features](#41-creating-new-features) <br>  \n",
    "   4.2 [Transforming Existing Features](#42-transforming-existing-features) <br><br>  \n",
    "\n",
    "5. [Other Visualizations](#5-other-visualizations) <br><br>  \n",
    "\n",
    "6. [Variable Encoding](#6-variable-encoding) <br><br>\n",
    "\n",
    "7. [Scaling](#7-scaling) <br><br>\n",
    "\n",
    "8. [Feature Selection](#8-feature-selection) <br><br>  \n",
    "\n",
    "9. [Export Dataset](#9-export-dataset) <br>\n"
   ]
  },
  {
   "cell_type": "markdown",
   "metadata": {},
   "source": [
    "#### <span style=\"color:yellow\"> Put the hyperlinks in Table of Contents working</span> "
   ]
  },
  {
   "cell_type": "markdown",
   "metadata": {},
   "source": [
    "## <span style=\"color:salmon\"> 1. Import Libraries & Data  </span> "
   ]
  },
  {
   "cell_type": "code",
   "execution_count": 1,
   "metadata": {},
   "outputs": [],
   "source": [
    "import pandas as pd\n",
    "import numpy as np\n",
    "from scipy import stats\n",
    "from sklearn.model_selection import train_test_split\n",
    "from sklearn.preprocessing import MinMaxScaler\n",
    "\n",
    "# Missing Values\n",
    "import missingno as msno\n",
    "\n",
    "# Visualization libraries\n",
    "import seaborn as sns\n",
    "import matplotlib.pyplot as plt\n",
    "import geopandas as gpd\n",
    "\n",
    "# Encoding libraries\n",
    "from sklearn.preprocessing import OneHotEncoder\n",
    "from sklearn.preprocessing import OrdinalEncoder\n",
    "from sklearn.preprocessing import LabelEncoder\n",
    "from sklearn.preprocessing import StandardScaler\n",
    "\n",
    "from utils import *"
   ]
  },
  {
   "cell_type": "code",
   "execution_count": 2,
   "metadata": {},
   "outputs": [
    {
     "name": "stderr",
     "output_type": "stream",
     "text": [
      "/var/folders/9b/jd3m9d1938sb3269cy5k5rzh0000gn/T/ipykernel_74403/1279091846.py:1: DtypeWarning: Columns (29) have mixed types. Specify dtype option on import or set low_memory=False.\n",
      "  train_df = pd.read_csv('./project_data/train_data.csv')\n"
     ]
    },
    {
     "data": {
      "text/html": [
       "<div>\n",
       "<style scoped>\n",
       "    .dataframe tbody tr th:only-of-type {\n",
       "        vertical-align: middle;\n",
       "    }\n",
       "\n",
       "    .dataframe tbody tr th {\n",
       "        vertical-align: top;\n",
       "    }\n",
       "\n",
       "    .dataframe thead th {\n",
       "        text-align: right;\n",
       "    }\n",
       "</style>\n",
       "<table border=\"1\" class=\"dataframe\">\n",
       "  <thead>\n",
       "    <tr style=\"text-align: right;\">\n",
       "      <th></th>\n",
       "      <th>Accident Date</th>\n",
       "      <th>Age at Injury</th>\n",
       "      <th>Alternative Dispute Resolution</th>\n",
       "      <th>Assembly Date</th>\n",
       "      <th>Attorney/Representative</th>\n",
       "      <th>Average Weekly Wage</th>\n",
       "      <th>Birth Year</th>\n",
       "      <th>C-2 Date</th>\n",
       "      <th>C-3 Date</th>\n",
       "      <th>Carrier Name</th>\n",
       "      <th>...</th>\n",
       "      <th>WCIO Cause of Injury Code</th>\n",
       "      <th>WCIO Cause of Injury Description</th>\n",
       "      <th>WCIO Nature of Injury Code</th>\n",
       "      <th>WCIO Nature of Injury Description</th>\n",
       "      <th>WCIO Part Of Body Code</th>\n",
       "      <th>WCIO Part Of Body Description</th>\n",
       "      <th>Zip Code</th>\n",
       "      <th>Agreement Reached</th>\n",
       "      <th>WCB Decision</th>\n",
       "      <th>Number of Dependents</th>\n",
       "    </tr>\n",
       "  </thead>\n",
       "  <tbody>\n",
       "    <tr>\n",
       "      <th>0</th>\n",
       "      <td>2019-12-30</td>\n",
       "      <td>31.0</td>\n",
       "      <td>N</td>\n",
       "      <td>2020-01-01</td>\n",
       "      <td>N</td>\n",
       "      <td>0.00</td>\n",
       "      <td>1988.0</td>\n",
       "      <td>2019-12-31</td>\n",
       "      <td>NaN</td>\n",
       "      <td>NEW HAMPSHIRE INSURANCE CO</td>\n",
       "      <td>...</td>\n",
       "      <td>27.0</td>\n",
       "      <td>FROM LIQUID OR GREASE SPILLS</td>\n",
       "      <td>10.0</td>\n",
       "      <td>CONTUSION</td>\n",
       "      <td>62.0</td>\n",
       "      <td>BUTTOCKS</td>\n",
       "      <td>13662</td>\n",
       "      <td>0.0</td>\n",
       "      <td>Not Work Related</td>\n",
       "      <td>1.0</td>\n",
       "    </tr>\n",
       "    <tr>\n",
       "      <th>1</th>\n",
       "      <td>2019-08-30</td>\n",
       "      <td>46.0</td>\n",
       "      <td>N</td>\n",
       "      <td>2020-01-01</td>\n",
       "      <td>Y</td>\n",
       "      <td>1745.93</td>\n",
       "      <td>1973.0</td>\n",
       "      <td>2020-01-01</td>\n",
       "      <td>2020-01-14</td>\n",
       "      <td>ZURICH AMERICAN INSURANCE CO</td>\n",
       "      <td>...</td>\n",
       "      <td>97.0</td>\n",
       "      <td>REPETITIVE MOTION</td>\n",
       "      <td>49.0</td>\n",
       "      <td>SPRAIN OR TEAR</td>\n",
       "      <td>38.0</td>\n",
       "      <td>SHOULDER(S)</td>\n",
       "      <td>14569</td>\n",
       "      <td>1.0</td>\n",
       "      <td>Not Work Related</td>\n",
       "      <td>4.0</td>\n",
       "    </tr>\n",
       "    <tr>\n",
       "      <th>2</th>\n",
       "      <td>2019-12-06</td>\n",
       "      <td>40.0</td>\n",
       "      <td>N</td>\n",
       "      <td>2020-01-01</td>\n",
       "      <td>N</td>\n",
       "      <td>1434.80</td>\n",
       "      <td>1979.0</td>\n",
       "      <td>2020-01-01</td>\n",
       "      <td>NaN</td>\n",
       "      <td>INDEMNITY INSURANCE CO OF</td>\n",
       "      <td>...</td>\n",
       "      <td>79.0</td>\n",
       "      <td>OBJECT BEING LIFTED OR HANDLED</td>\n",
       "      <td>7.0</td>\n",
       "      <td>CONCUSSION</td>\n",
       "      <td>10.0</td>\n",
       "      <td>MULTIPLE HEAD INJURY</td>\n",
       "      <td>12589</td>\n",
       "      <td>0.0</td>\n",
       "      <td>Not Work Related</td>\n",
       "      <td>6.0</td>\n",
       "    </tr>\n",
       "    <tr>\n",
       "      <th>3</th>\n",
       "      <td>NaN</td>\n",
       "      <td>NaN</td>\n",
       "      <td>NaN</td>\n",
       "      <td>2020-01-01</td>\n",
       "      <td>NaN</td>\n",
       "      <td>NaN</td>\n",
       "      <td>NaN</td>\n",
       "      <td>NaN</td>\n",
       "      <td>NaN</td>\n",
       "      <td>NaN</td>\n",
       "      <td>...</td>\n",
       "      <td>NaN</td>\n",
       "      <td>NaN</td>\n",
       "      <td>NaN</td>\n",
       "      <td>NaN</td>\n",
       "      <td>NaN</td>\n",
       "      <td>NaN</td>\n",
       "      <td>NaN</td>\n",
       "      <td>NaN</td>\n",
       "      <td>NaN</td>\n",
       "      <td>NaN</td>\n",
       "    </tr>\n",
       "    <tr>\n",
       "      <th>4</th>\n",
       "      <td>2019-12-30</td>\n",
       "      <td>61.0</td>\n",
       "      <td>N</td>\n",
       "      <td>2020-01-01</td>\n",
       "      <td>N</td>\n",
       "      <td>NaN</td>\n",
       "      <td>1958.0</td>\n",
       "      <td>2019-12-31</td>\n",
       "      <td>NaN</td>\n",
       "      <td>STATE INSURANCE FUND</td>\n",
       "      <td>...</td>\n",
       "      <td>16.0</td>\n",
       "      <td>HAND TOOL, UTENSIL; NOT POWERED</td>\n",
       "      <td>43.0</td>\n",
       "      <td>PUNCTURE</td>\n",
       "      <td>36.0</td>\n",
       "      <td>FINGER(S)</td>\n",
       "      <td>12603</td>\n",
       "      <td>0.0</td>\n",
       "      <td>Not Work Related</td>\n",
       "      <td>1.0</td>\n",
       "    </tr>\n",
       "    <tr>\n",
       "      <th>...</th>\n",
       "      <td>...</td>\n",
       "      <td>...</td>\n",
       "      <td>...</td>\n",
       "      <td>...</td>\n",
       "      <td>...</td>\n",
       "      <td>...</td>\n",
       "      <td>...</td>\n",
       "      <td>...</td>\n",
       "      <td>...</td>\n",
       "      <td>...</td>\n",
       "      <td>...</td>\n",
       "      <td>...</td>\n",
       "      <td>...</td>\n",
       "      <td>...</td>\n",
       "      <td>...</td>\n",
       "      <td>...</td>\n",
       "      <td>...</td>\n",
       "      <td>...</td>\n",
       "      <td>...</td>\n",
       "      <td>...</td>\n",
       "      <td>...</td>\n",
       "    </tr>\n",
       "    <tr>\n",
       "      <th>593466</th>\n",
       "      <td>NaN</td>\n",
       "      <td>NaN</td>\n",
       "      <td>NaN</td>\n",
       "      <td>2022-12-31</td>\n",
       "      <td>NaN</td>\n",
       "      <td>NaN</td>\n",
       "      <td>NaN</td>\n",
       "      <td>NaN</td>\n",
       "      <td>NaN</td>\n",
       "      <td>NaN</td>\n",
       "      <td>...</td>\n",
       "      <td>NaN</td>\n",
       "      <td>NaN</td>\n",
       "      <td>NaN</td>\n",
       "      <td>NaN</td>\n",
       "      <td>NaN</td>\n",
       "      <td>NaN</td>\n",
       "      <td>NaN</td>\n",
       "      <td>NaN</td>\n",
       "      <td>NaN</td>\n",
       "      <td>NaN</td>\n",
       "    </tr>\n",
       "    <tr>\n",
       "      <th>593467</th>\n",
       "      <td>2022-12-13</td>\n",
       "      <td>72.0</td>\n",
       "      <td>N</td>\n",
       "      <td>2022-12-31</td>\n",
       "      <td>N</td>\n",
       "      <td>0.00</td>\n",
       "      <td>1950.0</td>\n",
       "      <td>2022-12-31</td>\n",
       "      <td>NaN</td>\n",
       "      <td>TECHNOLOGY INSURANCE CO. INC.</td>\n",
       "      <td>...</td>\n",
       "      <td>25.0</td>\n",
       "      <td>FROM DIFFERENT LEVEL (ELEVATION)</td>\n",
       "      <td>90.0</td>\n",
       "      <td>MULTIPLE PHYSICAL INJURIES ONLY</td>\n",
       "      <td>-9.0</td>\n",
       "      <td>MULTIPLE</td>\n",
       "      <td>12779</td>\n",
       "      <td>0.0</td>\n",
       "      <td>Not Work Related</td>\n",
       "      <td>3.0</td>\n",
       "    </tr>\n",
       "    <tr>\n",
       "      <th>593468</th>\n",
       "      <td>NaN</td>\n",
       "      <td>NaN</td>\n",
       "      <td>NaN</td>\n",
       "      <td>2022-12-31</td>\n",
       "      <td>NaN</td>\n",
       "      <td>NaN</td>\n",
       "      <td>NaN</td>\n",
       "      <td>NaN</td>\n",
       "      <td>NaN</td>\n",
       "      <td>NaN</td>\n",
       "      <td>...</td>\n",
       "      <td>NaN</td>\n",
       "      <td>NaN</td>\n",
       "      <td>NaN</td>\n",
       "      <td>NaN</td>\n",
       "      <td>NaN</td>\n",
       "      <td>NaN</td>\n",
       "      <td>NaN</td>\n",
       "      <td>NaN</td>\n",
       "      <td>NaN</td>\n",
       "      <td>NaN</td>\n",
       "    </tr>\n",
       "    <tr>\n",
       "      <th>593469</th>\n",
       "      <td>NaN</td>\n",
       "      <td>NaN</td>\n",
       "      <td>NaN</td>\n",
       "      <td>2022-12-31</td>\n",
       "      <td>NaN</td>\n",
       "      <td>NaN</td>\n",
       "      <td>NaN</td>\n",
       "      <td>NaN</td>\n",
       "      <td>NaN</td>\n",
       "      <td>NaN</td>\n",
       "      <td>...</td>\n",
       "      <td>NaN</td>\n",
       "      <td>NaN</td>\n",
       "      <td>NaN</td>\n",
       "      <td>NaN</td>\n",
       "      <td>NaN</td>\n",
       "      <td>NaN</td>\n",
       "      <td>NaN</td>\n",
       "      <td>NaN</td>\n",
       "      <td>NaN</td>\n",
       "      <td>NaN</td>\n",
       "    </tr>\n",
       "    <tr>\n",
       "      <th>593470</th>\n",
       "      <td>NaN</td>\n",
       "      <td>NaN</td>\n",
       "      <td>NaN</td>\n",
       "      <td>2022-12-31</td>\n",
       "      <td>NaN</td>\n",
       "      <td>NaN</td>\n",
       "      <td>NaN</td>\n",
       "      <td>NaN</td>\n",
       "      <td>NaN</td>\n",
       "      <td>NaN</td>\n",
       "      <td>...</td>\n",
       "      <td>NaN</td>\n",
       "      <td>NaN</td>\n",
       "      <td>NaN</td>\n",
       "      <td>NaN</td>\n",
       "      <td>NaN</td>\n",
       "      <td>NaN</td>\n",
       "      <td>NaN</td>\n",
       "      <td>NaN</td>\n",
       "      <td>NaN</td>\n",
       "      <td>NaN</td>\n",
       "    </tr>\n",
       "  </tbody>\n",
       "</table>\n",
       "<p>593471 rows × 33 columns</p>\n",
       "</div>"
      ],
      "text/plain": [
       "       Accident Date  Age at Injury Alternative Dispute Resolution  \\\n",
       "0         2019-12-30           31.0                              N   \n",
       "1         2019-08-30           46.0                              N   \n",
       "2         2019-12-06           40.0                              N   \n",
       "3                NaN            NaN                            NaN   \n",
       "4         2019-12-30           61.0                              N   \n",
       "...              ...            ...                            ...   \n",
       "593466           NaN            NaN                            NaN   \n",
       "593467    2022-12-13           72.0                              N   \n",
       "593468           NaN            NaN                            NaN   \n",
       "593469           NaN            NaN                            NaN   \n",
       "593470           NaN            NaN                            NaN   \n",
       "\n",
       "       Assembly Date Attorney/Representative  Average Weekly Wage  Birth Year  \\\n",
       "0         2020-01-01                       N                 0.00      1988.0   \n",
       "1         2020-01-01                       Y              1745.93      1973.0   \n",
       "2         2020-01-01                       N              1434.80      1979.0   \n",
       "3         2020-01-01                     NaN                  NaN         NaN   \n",
       "4         2020-01-01                       N                  NaN      1958.0   \n",
       "...              ...                     ...                  ...         ...   \n",
       "593466    2022-12-31                     NaN                  NaN         NaN   \n",
       "593467    2022-12-31                       N                 0.00      1950.0   \n",
       "593468    2022-12-31                     NaN                  NaN         NaN   \n",
       "593469    2022-12-31                     NaN                  NaN         NaN   \n",
       "593470    2022-12-31                     NaN                  NaN         NaN   \n",
       "\n",
       "          C-2 Date    C-3 Date                   Carrier Name  ...  \\\n",
       "0       2019-12-31         NaN     NEW HAMPSHIRE INSURANCE CO  ...   \n",
       "1       2020-01-01  2020-01-14   ZURICH AMERICAN INSURANCE CO  ...   \n",
       "2       2020-01-01         NaN      INDEMNITY INSURANCE CO OF  ...   \n",
       "3              NaN         NaN                            NaN  ...   \n",
       "4       2019-12-31         NaN           STATE INSURANCE FUND  ...   \n",
       "...            ...         ...                            ...  ...   \n",
       "593466         NaN         NaN                            NaN  ...   \n",
       "593467  2022-12-31         NaN  TECHNOLOGY INSURANCE CO. INC.  ...   \n",
       "593468         NaN         NaN                            NaN  ...   \n",
       "593469         NaN         NaN                            NaN  ...   \n",
       "593470         NaN         NaN                            NaN  ...   \n",
       "\n",
       "       WCIO Cause of Injury Code  WCIO Cause of Injury Description  \\\n",
       "0                           27.0      FROM LIQUID OR GREASE SPILLS   \n",
       "1                           97.0                 REPETITIVE MOTION   \n",
       "2                           79.0    OBJECT BEING LIFTED OR HANDLED   \n",
       "3                            NaN                               NaN   \n",
       "4                           16.0   HAND TOOL, UTENSIL; NOT POWERED   \n",
       "...                          ...                               ...   \n",
       "593466                       NaN                               NaN   \n",
       "593467                      25.0  FROM DIFFERENT LEVEL (ELEVATION)   \n",
       "593468                       NaN                               NaN   \n",
       "593469                       NaN                               NaN   \n",
       "593470                       NaN                               NaN   \n",
       "\n",
       "       WCIO Nature of Injury Code WCIO Nature of Injury Description  \\\n",
       "0                            10.0                         CONTUSION   \n",
       "1                            49.0                    SPRAIN OR TEAR   \n",
       "2                             7.0                        CONCUSSION   \n",
       "3                             NaN                               NaN   \n",
       "4                            43.0                          PUNCTURE   \n",
       "...                           ...                               ...   \n",
       "593466                        NaN                               NaN   \n",
       "593467                       90.0   MULTIPLE PHYSICAL INJURIES ONLY   \n",
       "593468                        NaN                               NaN   \n",
       "593469                        NaN                               NaN   \n",
       "593470                        NaN                               NaN   \n",
       "\n",
       "       WCIO Part Of Body Code WCIO Part Of Body Description Zip Code  \\\n",
       "0                        62.0                      BUTTOCKS    13662   \n",
       "1                        38.0                   SHOULDER(S)    14569   \n",
       "2                        10.0          MULTIPLE HEAD INJURY    12589   \n",
       "3                         NaN                           NaN      NaN   \n",
       "4                        36.0                     FINGER(S)    12603   \n",
       "...                       ...                           ...      ...   \n",
       "593466                    NaN                           NaN      NaN   \n",
       "593467                   -9.0                      MULTIPLE    12779   \n",
       "593468                    NaN                           NaN      NaN   \n",
       "593469                    NaN                           NaN      NaN   \n",
       "593470                    NaN                           NaN      NaN   \n",
       "\n",
       "       Agreement Reached      WCB Decision  Number of Dependents  \n",
       "0                    0.0  Not Work Related                   1.0  \n",
       "1                    1.0  Not Work Related                   4.0  \n",
       "2                    0.0  Not Work Related                   6.0  \n",
       "3                    NaN               NaN                   NaN  \n",
       "4                    0.0  Not Work Related                   1.0  \n",
       "...                  ...               ...                   ...  \n",
       "593466               NaN               NaN                   NaN  \n",
       "593467               0.0  Not Work Related                   3.0  \n",
       "593468               NaN               NaN                   NaN  \n",
       "593469               NaN               NaN                   NaN  \n",
       "593470               NaN               NaN                   NaN  \n",
       "\n",
       "[593471 rows x 33 columns]"
      ]
     },
     "execution_count": 2,
     "metadata": {},
     "output_type": "execute_result"
    }
   ],
   "source": [
    "train_df = pd.read_csv('./project_data/train_data.csv')\n",
    "train_df"
   ]
  },
  {
   "cell_type": "markdown",
   "metadata": {},
   "source": [
    "## <span style=\"color:salmon\"> 2. Exploratory Data Analysis  </span> "
   ]
  },
  {
   "cell_type": "markdown",
   "metadata": {},
   "source": [
    "#### <span style=\"color:salmon\"> 2.1 Initial Exploration </span> "
   ]
  },
  {
   "cell_type": "markdown",
   "metadata": {},
   "source": [
    "In order to better understand the dataset we can use some functions, like the following:"
   ]
  },
  {
   "cell_type": "markdown",
   "metadata": {},
   "source": [
    "1. See the first ten lines "
   ]
  },
  {
   "cell_type": "code",
   "execution_count": 3,
   "metadata": {},
   "outputs": [
    {
     "data": {
      "text/html": [
       "<div>\n",
       "<style scoped>\n",
       "    .dataframe tbody tr th:only-of-type {\n",
       "        vertical-align: middle;\n",
       "    }\n",
       "\n",
       "    .dataframe tbody tr th {\n",
       "        vertical-align: top;\n",
       "    }\n",
       "\n",
       "    .dataframe thead th {\n",
       "        text-align: right;\n",
       "    }\n",
       "</style>\n",
       "<table border=\"1\" class=\"dataframe\">\n",
       "  <thead>\n",
       "    <tr style=\"text-align: right;\">\n",
       "      <th></th>\n",
       "      <th>Accident Date</th>\n",
       "      <th>Age at Injury</th>\n",
       "      <th>Alternative Dispute Resolution</th>\n",
       "      <th>Assembly Date</th>\n",
       "      <th>Attorney/Representative</th>\n",
       "      <th>Average Weekly Wage</th>\n",
       "      <th>Birth Year</th>\n",
       "      <th>C-2 Date</th>\n",
       "      <th>C-3 Date</th>\n",
       "      <th>Carrier Name</th>\n",
       "      <th>...</th>\n",
       "      <th>WCIO Cause of Injury Code</th>\n",
       "      <th>WCIO Cause of Injury Description</th>\n",
       "      <th>WCIO Nature of Injury Code</th>\n",
       "      <th>WCIO Nature of Injury Description</th>\n",
       "      <th>WCIO Part Of Body Code</th>\n",
       "      <th>WCIO Part Of Body Description</th>\n",
       "      <th>Zip Code</th>\n",
       "      <th>Agreement Reached</th>\n",
       "      <th>WCB Decision</th>\n",
       "      <th>Number of Dependents</th>\n",
       "    </tr>\n",
       "  </thead>\n",
       "  <tbody>\n",
       "    <tr>\n",
       "      <th>0</th>\n",
       "      <td>2019-12-30</td>\n",
       "      <td>31.0</td>\n",
       "      <td>N</td>\n",
       "      <td>2020-01-01</td>\n",
       "      <td>N</td>\n",
       "      <td>0.00</td>\n",
       "      <td>1988.0</td>\n",
       "      <td>2019-12-31</td>\n",
       "      <td>NaN</td>\n",
       "      <td>NEW HAMPSHIRE INSURANCE CO</td>\n",
       "      <td>...</td>\n",
       "      <td>27.0</td>\n",
       "      <td>FROM LIQUID OR GREASE SPILLS</td>\n",
       "      <td>10.0</td>\n",
       "      <td>CONTUSION</td>\n",
       "      <td>62.0</td>\n",
       "      <td>BUTTOCKS</td>\n",
       "      <td>13662</td>\n",
       "      <td>0.0</td>\n",
       "      <td>Not Work Related</td>\n",
       "      <td>1.0</td>\n",
       "    </tr>\n",
       "    <tr>\n",
       "      <th>1</th>\n",
       "      <td>2019-08-30</td>\n",
       "      <td>46.0</td>\n",
       "      <td>N</td>\n",
       "      <td>2020-01-01</td>\n",
       "      <td>Y</td>\n",
       "      <td>1745.93</td>\n",
       "      <td>1973.0</td>\n",
       "      <td>2020-01-01</td>\n",
       "      <td>2020-01-14</td>\n",
       "      <td>ZURICH AMERICAN INSURANCE CO</td>\n",
       "      <td>...</td>\n",
       "      <td>97.0</td>\n",
       "      <td>REPETITIVE MOTION</td>\n",
       "      <td>49.0</td>\n",
       "      <td>SPRAIN OR TEAR</td>\n",
       "      <td>38.0</td>\n",
       "      <td>SHOULDER(S)</td>\n",
       "      <td>14569</td>\n",
       "      <td>1.0</td>\n",
       "      <td>Not Work Related</td>\n",
       "      <td>4.0</td>\n",
       "    </tr>\n",
       "    <tr>\n",
       "      <th>2</th>\n",
       "      <td>2019-12-06</td>\n",
       "      <td>40.0</td>\n",
       "      <td>N</td>\n",
       "      <td>2020-01-01</td>\n",
       "      <td>N</td>\n",
       "      <td>1434.80</td>\n",
       "      <td>1979.0</td>\n",
       "      <td>2020-01-01</td>\n",
       "      <td>NaN</td>\n",
       "      <td>INDEMNITY INSURANCE CO OF</td>\n",
       "      <td>...</td>\n",
       "      <td>79.0</td>\n",
       "      <td>OBJECT BEING LIFTED OR HANDLED</td>\n",
       "      <td>7.0</td>\n",
       "      <td>CONCUSSION</td>\n",
       "      <td>10.0</td>\n",
       "      <td>MULTIPLE HEAD INJURY</td>\n",
       "      <td>12589</td>\n",
       "      <td>0.0</td>\n",
       "      <td>Not Work Related</td>\n",
       "      <td>6.0</td>\n",
       "    </tr>\n",
       "    <tr>\n",
       "      <th>3</th>\n",
       "      <td>NaN</td>\n",
       "      <td>NaN</td>\n",
       "      <td>NaN</td>\n",
       "      <td>2020-01-01</td>\n",
       "      <td>NaN</td>\n",
       "      <td>NaN</td>\n",
       "      <td>NaN</td>\n",
       "      <td>NaN</td>\n",
       "      <td>NaN</td>\n",
       "      <td>NaN</td>\n",
       "      <td>...</td>\n",
       "      <td>NaN</td>\n",
       "      <td>NaN</td>\n",
       "      <td>NaN</td>\n",
       "      <td>NaN</td>\n",
       "      <td>NaN</td>\n",
       "      <td>NaN</td>\n",
       "      <td>NaN</td>\n",
       "      <td>NaN</td>\n",
       "      <td>NaN</td>\n",
       "      <td>NaN</td>\n",
       "    </tr>\n",
       "    <tr>\n",
       "      <th>4</th>\n",
       "      <td>2019-12-30</td>\n",
       "      <td>61.0</td>\n",
       "      <td>N</td>\n",
       "      <td>2020-01-01</td>\n",
       "      <td>N</td>\n",
       "      <td>NaN</td>\n",
       "      <td>1958.0</td>\n",
       "      <td>2019-12-31</td>\n",
       "      <td>NaN</td>\n",
       "      <td>STATE INSURANCE FUND</td>\n",
       "      <td>...</td>\n",
       "      <td>16.0</td>\n",
       "      <td>HAND TOOL, UTENSIL; NOT POWERED</td>\n",
       "      <td>43.0</td>\n",
       "      <td>PUNCTURE</td>\n",
       "      <td>36.0</td>\n",
       "      <td>FINGER(S)</td>\n",
       "      <td>12603</td>\n",
       "      <td>0.0</td>\n",
       "      <td>Not Work Related</td>\n",
       "      <td>1.0</td>\n",
       "    </tr>\n",
       "    <tr>\n",
       "      <th>5</th>\n",
       "      <td>2019-12-26</td>\n",
       "      <td>67.0</td>\n",
       "      <td>N</td>\n",
       "      <td>2020-01-01</td>\n",
       "      <td>N</td>\n",
       "      <td>0.00</td>\n",
       "      <td>1952.0</td>\n",
       "      <td>2019-12-31</td>\n",
       "      <td>NaN</td>\n",
       "      <td>INDEMNITY INS. OF N AMERICA</td>\n",
       "      <td>...</td>\n",
       "      <td>31.0</td>\n",
       "      <td>FALL, SLIP OR TRIP, NOC</td>\n",
       "      <td>10.0</td>\n",
       "      <td>CONTUSION</td>\n",
       "      <td>38.0</td>\n",
       "      <td>SHOULDER(S)</td>\n",
       "      <td>11772</td>\n",
       "      <td>0.0</td>\n",
       "      <td>Not Work Related</td>\n",
       "      <td>5.0</td>\n",
       "    </tr>\n",
       "    <tr>\n",
       "      <th>6</th>\n",
       "      <td>2019-12-28</td>\n",
       "      <td>48.0</td>\n",
       "      <td>N</td>\n",
       "      <td>2020-01-01</td>\n",
       "      <td>N</td>\n",
       "      <td>0.00</td>\n",
       "      <td>1971.0</td>\n",
       "      <td>2019-12-31</td>\n",
       "      <td>NaN</td>\n",
       "      <td>LM INSURANCE CORP</td>\n",
       "      <td>...</td>\n",
       "      <td>19.0</td>\n",
       "      <td>CUT, PUNCTURE, SCRAPE, NOC</td>\n",
       "      <td>40.0</td>\n",
       "      <td>LACERATION</td>\n",
       "      <td>36.0</td>\n",
       "      <td>FINGER(S)</td>\n",
       "      <td>13029</td>\n",
       "      <td>0.0</td>\n",
       "      <td>Not Work Related</td>\n",
       "      <td>1.0</td>\n",
       "    </tr>\n",
       "    <tr>\n",
       "      <th>7</th>\n",
       "      <td>2019-12-30</td>\n",
       "      <td>33.0</td>\n",
       "      <td>N</td>\n",
       "      <td>2020-01-01</td>\n",
       "      <td>N</td>\n",
       "      <td>0.00</td>\n",
       "      <td>1986.0</td>\n",
       "      <td>2019-12-31</td>\n",
       "      <td>2020-03-04</td>\n",
       "      <td>STATE INSURANCE FUND</td>\n",
       "      <td>...</td>\n",
       "      <td>99.0</td>\n",
       "      <td>OTHER - MISCELLANEOUS, NOC</td>\n",
       "      <td>71.0</td>\n",
       "      <td>ALL OTHER OCCUPATIONAL DISEASE INJURY, NOC</td>\n",
       "      <td>38.0</td>\n",
       "      <td>SHOULDER(S)</td>\n",
       "      <td>10305</td>\n",
       "      <td>0.0</td>\n",
       "      <td>Not Work Related</td>\n",
       "      <td>6.0</td>\n",
       "    </tr>\n",
       "    <tr>\n",
       "      <th>8</th>\n",
       "      <td>2019-12-23</td>\n",
       "      <td>55.0</td>\n",
       "      <td>N</td>\n",
       "      <td>2020-01-01</td>\n",
       "      <td>N</td>\n",
       "      <td>0.00</td>\n",
       "      <td>1964.0</td>\n",
       "      <td>2020-01-01</td>\n",
       "      <td>NaN</td>\n",
       "      <td>ROCHESTER, UNIVERSITY OF</td>\n",
       "      <td>...</td>\n",
       "      <td>99.0</td>\n",
       "      <td>OTHER - MISCELLANEOUS, NOC</td>\n",
       "      <td>59.0</td>\n",
       "      <td>ALL OTHER SPECIFIC INJURIES, NOC</td>\n",
       "      <td>60.0</td>\n",
       "      <td>LUNGS</td>\n",
       "      <td>14620</td>\n",
       "      <td>0.0</td>\n",
       "      <td>Not Work Related</td>\n",
       "      <td>6.0</td>\n",
       "    </tr>\n",
       "    <tr>\n",
       "      <th>9</th>\n",
       "      <td>2019-12-29</td>\n",
       "      <td>20.0</td>\n",
       "      <td>N</td>\n",
       "      <td>2020-01-01</td>\n",
       "      <td>N</td>\n",
       "      <td>225.00</td>\n",
       "      <td>NaN</td>\n",
       "      <td>2019-12-31</td>\n",
       "      <td>NaN</td>\n",
       "      <td>LM INSURANCE CORP</td>\n",
       "      <td>...</td>\n",
       "      <td>81.0</td>\n",
       "      <td>STRUCK OR INJURED, NOC</td>\n",
       "      <td>59.0</td>\n",
       "      <td>ALL OTHER SPECIFIC INJURIES, NOC</td>\n",
       "      <td>14.0</td>\n",
       "      <td>EYE(S)</td>\n",
       "      <td>11231</td>\n",
       "      <td>0.0</td>\n",
       "      <td>Not Work Related</td>\n",
       "      <td>6.0</td>\n",
       "    </tr>\n",
       "  </tbody>\n",
       "</table>\n",
       "<p>10 rows × 33 columns</p>\n",
       "</div>"
      ],
      "text/plain": [
       "  Accident Date  Age at Injury Alternative Dispute Resolution Assembly Date  \\\n",
       "0    2019-12-30           31.0                              N    2020-01-01   \n",
       "1    2019-08-30           46.0                              N    2020-01-01   \n",
       "2    2019-12-06           40.0                              N    2020-01-01   \n",
       "3           NaN            NaN                            NaN    2020-01-01   \n",
       "4    2019-12-30           61.0                              N    2020-01-01   \n",
       "5    2019-12-26           67.0                              N    2020-01-01   \n",
       "6    2019-12-28           48.0                              N    2020-01-01   \n",
       "7    2019-12-30           33.0                              N    2020-01-01   \n",
       "8    2019-12-23           55.0                              N    2020-01-01   \n",
       "9    2019-12-29           20.0                              N    2020-01-01   \n",
       "\n",
       "  Attorney/Representative  Average Weekly Wage  Birth Year    C-2 Date  \\\n",
       "0                       N                 0.00      1988.0  2019-12-31   \n",
       "1                       Y              1745.93      1973.0  2020-01-01   \n",
       "2                       N              1434.80      1979.0  2020-01-01   \n",
       "3                     NaN                  NaN         NaN         NaN   \n",
       "4                       N                  NaN      1958.0  2019-12-31   \n",
       "5                       N                 0.00      1952.0  2019-12-31   \n",
       "6                       N                 0.00      1971.0  2019-12-31   \n",
       "7                       N                 0.00      1986.0  2019-12-31   \n",
       "8                       N                 0.00      1964.0  2020-01-01   \n",
       "9                       N               225.00         NaN  2019-12-31   \n",
       "\n",
       "     C-3 Date                  Carrier Name  ... WCIO Cause of Injury Code  \\\n",
       "0         NaN    NEW HAMPSHIRE INSURANCE CO  ...                      27.0   \n",
       "1  2020-01-14  ZURICH AMERICAN INSURANCE CO  ...                      97.0   \n",
       "2         NaN     INDEMNITY INSURANCE CO OF  ...                      79.0   \n",
       "3         NaN                           NaN  ...                       NaN   \n",
       "4         NaN          STATE INSURANCE FUND  ...                      16.0   \n",
       "5         NaN   INDEMNITY INS. OF N AMERICA  ...                      31.0   \n",
       "6         NaN             LM INSURANCE CORP  ...                      19.0   \n",
       "7  2020-03-04          STATE INSURANCE FUND  ...                      99.0   \n",
       "8         NaN      ROCHESTER, UNIVERSITY OF  ...                      99.0   \n",
       "9         NaN             LM INSURANCE CORP  ...                      81.0   \n",
       "\n",
       "   WCIO Cause of Injury Description WCIO Nature of Injury Code  \\\n",
       "0      FROM LIQUID OR GREASE SPILLS                       10.0   \n",
       "1                 REPETITIVE MOTION                       49.0   \n",
       "2    OBJECT BEING LIFTED OR HANDLED                        7.0   \n",
       "3                               NaN                        NaN   \n",
       "4   HAND TOOL, UTENSIL; NOT POWERED                       43.0   \n",
       "5           FALL, SLIP OR TRIP, NOC                       10.0   \n",
       "6        CUT, PUNCTURE, SCRAPE, NOC                       40.0   \n",
       "7        OTHER - MISCELLANEOUS, NOC                       71.0   \n",
       "8        OTHER - MISCELLANEOUS, NOC                       59.0   \n",
       "9            STRUCK OR INJURED, NOC                       59.0   \n",
       "\n",
       "            WCIO Nature of Injury Description WCIO Part Of Body Code  \\\n",
       "0                                   CONTUSION                   62.0   \n",
       "1                              SPRAIN OR TEAR                   38.0   \n",
       "2                                  CONCUSSION                   10.0   \n",
       "3                                         NaN                    NaN   \n",
       "4                                    PUNCTURE                   36.0   \n",
       "5                                   CONTUSION                   38.0   \n",
       "6                                  LACERATION                   36.0   \n",
       "7  ALL OTHER OCCUPATIONAL DISEASE INJURY, NOC                   38.0   \n",
       "8            ALL OTHER SPECIFIC INJURIES, NOC                   60.0   \n",
       "9            ALL OTHER SPECIFIC INJURIES, NOC                   14.0   \n",
       "\n",
       "  WCIO Part Of Body Description Zip Code Agreement Reached      WCB Decision  \\\n",
       "0                      BUTTOCKS    13662               0.0  Not Work Related   \n",
       "1                   SHOULDER(S)    14569               1.0  Not Work Related   \n",
       "2          MULTIPLE HEAD INJURY    12589               0.0  Not Work Related   \n",
       "3                           NaN      NaN               NaN               NaN   \n",
       "4                     FINGER(S)    12603               0.0  Not Work Related   \n",
       "5                   SHOULDER(S)    11772               0.0  Not Work Related   \n",
       "6                     FINGER(S)    13029               0.0  Not Work Related   \n",
       "7                   SHOULDER(S)    10305               0.0  Not Work Related   \n",
       "8                         LUNGS    14620               0.0  Not Work Related   \n",
       "9                        EYE(S)    11231               0.0  Not Work Related   \n",
       "\n",
       "   Number of Dependents  \n",
       "0                   1.0  \n",
       "1                   4.0  \n",
       "2                   6.0  \n",
       "3                   NaN  \n",
       "4                   1.0  \n",
       "5                   5.0  \n",
       "6                   1.0  \n",
       "7                   6.0  \n",
       "8                   6.0  \n",
       "9                   6.0  \n",
       "\n",
       "[10 rows x 33 columns]"
      ]
     },
     "execution_count": 3,
     "metadata": {},
     "output_type": "execute_result"
    }
   ],
   "source": [
    "train_df.head(10)"
   ]
  },
  {
   "cell_type": "markdown",
   "metadata": {},
   "source": [
    "2. Get information about the data types in each column, non-null values and memory usage"
   ]
  },
  {
   "cell_type": "code",
   "execution_count": 4,
   "metadata": {},
   "outputs": [
    {
     "name": "stdout",
     "output_type": "stream",
     "text": [
      "<class 'pandas.core.frame.DataFrame'>\n",
      "RangeIndex: 593471 entries, 0 to 593470\n",
      "Data columns (total 33 columns):\n",
      " #   Column                              Non-Null Count   Dtype  \n",
      "---  ------                              --------------   -----  \n",
      " 0   Accident Date                       570337 non-null  object \n",
      " 1   Age at Injury                       574026 non-null  float64\n",
      " 2   Alternative Dispute Resolution      574026 non-null  object \n",
      " 3   Assembly Date                       593471 non-null  object \n",
      " 4   Attorney/Representative             574026 non-null  object \n",
      " 5   Average Weekly Wage                 545375 non-null  float64\n",
      " 6   Birth Year                          544948 non-null  float64\n",
      " 7   C-2 Date                            559466 non-null  object \n",
      " 8   C-3 Date                            187245 non-null  object \n",
      " 9   Carrier Name                        574026 non-null  object \n",
      " 10  Carrier Type                        574026 non-null  object \n",
      " 11  Claim Identifier                    593471 non-null  int64  \n",
      " 12  Claim Injury Type                   574026 non-null  object \n",
      " 13  County of Injury                    574026 non-null  object \n",
      " 14  COVID-19 Indicator                  574026 non-null  object \n",
      " 15  District Name                       574026 non-null  object \n",
      " 16  First Hearing Date                  150798 non-null  object \n",
      " 17  Gender                              574026 non-null  object \n",
      " 18  IME-4 Count                         132803 non-null  float64\n",
      " 19  Industry Code                       564068 non-null  float64\n",
      " 20  Industry Code Description           564068 non-null  object \n",
      " 21  Medical Fee Region                  574026 non-null  object \n",
      " 22  OIICS Nature of Injury Description  0 non-null       float64\n",
      " 23  WCIO Cause of Injury Code           558386 non-null  float64\n",
      " 24  WCIO Cause of Injury Description    558386 non-null  object \n",
      " 25  WCIO Nature of Injury Code          558369 non-null  float64\n",
      " 26  WCIO Nature of Injury Description   558369 non-null  object \n",
      " 27  WCIO Part Of Body Code              556944 non-null  float64\n",
      " 28  WCIO Part Of Body Description       556944 non-null  object \n",
      " 29  Zip Code                            545389 non-null  object \n",
      " 30  Agreement Reached                   574026 non-null  float64\n",
      " 31  WCB Decision                        574026 non-null  object \n",
      " 32  Number of Dependents                574026 non-null  float64\n",
      "dtypes: float64(11), int64(1), object(21)\n",
      "memory usage: 149.4+ MB\n"
     ]
    }
   ],
   "source": [
    "train_df.info()"
   ]
  },
  {
   "cell_type": "markdown",
   "metadata": {},
   "source": [
    "3. Get the shape of the dataset"
   ]
  },
  {
   "cell_type": "code",
   "execution_count": 5,
   "metadata": {},
   "outputs": [
    {
     "data": {
      "text/plain": [
       "(593471, 33)"
      ]
     },
     "execution_count": 5,
     "metadata": {},
     "output_type": "execute_result"
    }
   ],
   "source": [
    "train_df.shape"
   ]
  },
  {
   "cell_type": "markdown",
   "metadata": {},
   "source": [
    "#### <span style=\"color:salmon\"> 2.2 Duplicates </span> "
   ]
  },
  {
   "cell_type": "markdown",
   "metadata": {},
   "source": [
    "This section is divided into two main parts: checking for duplicated `Claim Indentifier` and searching for duplicated rows."
   ]
  },
  {
   "cell_type": "markdown",
   "metadata": {},
   "source": [
    "1.  Check for duplicated IDs\n",
    "\n",
    "This dataset contains a variable called `Claim Identifier` which should be unique to each injuty claim / row. "
   ]
  },
  {
   "cell_type": "code",
   "execution_count": 6,
   "metadata": {},
   "outputs": [
    {
     "data": {
      "text/plain": [
       "1"
      ]
     },
     "execution_count": 6,
     "metadata": {},
     "output_type": "execute_result"
    }
   ],
   "source": [
    "# Search for duplicated 'Claim Identifier'\n",
    "train_df['Claim Identifier'].duplicated().sum()"
   ]
  },
  {
   "cell_type": "markdown",
   "metadata": {},
   "source": [
    "Above, it can be verified the existence of two rows with the same `Claim Identifier`. To better understand why that happened, it can be seen below the rows with the same IDs."
   ]
  },
  {
   "cell_type": "code",
   "execution_count": 7,
   "metadata": {},
   "outputs": [
    {
     "data": {
      "text/html": [
       "<div>\n",
       "<style scoped>\n",
       "    .dataframe tbody tr th:only-of-type {\n",
       "        vertical-align: middle;\n",
       "    }\n",
       "\n",
       "    .dataframe tbody tr th {\n",
       "        vertical-align: top;\n",
       "    }\n",
       "\n",
       "    .dataframe thead th {\n",
       "        text-align: right;\n",
       "    }\n",
       "</style>\n",
       "<table border=\"1\" class=\"dataframe\">\n",
       "  <thead>\n",
       "    <tr style=\"text-align: right;\">\n",
       "      <th></th>\n",
       "      <th>Accident Date</th>\n",
       "      <th>Age at Injury</th>\n",
       "      <th>Alternative Dispute Resolution</th>\n",
       "      <th>Assembly Date</th>\n",
       "      <th>Attorney/Representative</th>\n",
       "      <th>Average Weekly Wage</th>\n",
       "      <th>Birth Year</th>\n",
       "      <th>C-2 Date</th>\n",
       "      <th>C-3 Date</th>\n",
       "      <th>Carrier Name</th>\n",
       "      <th>...</th>\n",
       "      <th>WCIO Cause of Injury Code</th>\n",
       "      <th>WCIO Cause of Injury Description</th>\n",
       "      <th>WCIO Nature of Injury Code</th>\n",
       "      <th>WCIO Nature of Injury Description</th>\n",
       "      <th>WCIO Part Of Body Code</th>\n",
       "      <th>WCIO Part Of Body Description</th>\n",
       "      <th>Zip Code</th>\n",
       "      <th>Agreement Reached</th>\n",
       "      <th>WCB Decision</th>\n",
       "      <th>Number of Dependents</th>\n",
       "    </tr>\n",
       "  </thead>\n",
       "  <tbody>\n",
       "    <tr>\n",
       "      <th>257901</th>\n",
       "      <td>NaN</td>\n",
       "      <td>NaN</td>\n",
       "      <td>NaN</td>\n",
       "      <td>2021-05-21</td>\n",
       "      <td>NaN</td>\n",
       "      <td>NaN</td>\n",
       "      <td>NaN</td>\n",
       "      <td>NaN</td>\n",
       "      <td>NaN</td>\n",
       "      <td>NaN</td>\n",
       "      <td>...</td>\n",
       "      <td>NaN</td>\n",
       "      <td>NaN</td>\n",
       "      <td>NaN</td>\n",
       "      <td>NaN</td>\n",
       "      <td>NaN</td>\n",
       "      <td>NaN</td>\n",
       "      <td>NaN</td>\n",
       "      <td>NaN</td>\n",
       "      <td>NaN</td>\n",
       "      <td>NaN</td>\n",
       "    </tr>\n",
       "    <tr>\n",
       "      <th>526445</th>\n",
       "      <td>NaN</td>\n",
       "      <td>NaN</td>\n",
       "      <td>NaN</td>\n",
       "      <td>2022-09-05</td>\n",
       "      <td>NaN</td>\n",
       "      <td>NaN</td>\n",
       "      <td>NaN</td>\n",
       "      <td>NaN</td>\n",
       "      <td>NaN</td>\n",
       "      <td>NaN</td>\n",
       "      <td>...</td>\n",
       "      <td>NaN</td>\n",
       "      <td>NaN</td>\n",
       "      <td>NaN</td>\n",
       "      <td>NaN</td>\n",
       "      <td>NaN</td>\n",
       "      <td>NaN</td>\n",
       "      <td>NaN</td>\n",
       "      <td>NaN</td>\n",
       "      <td>NaN</td>\n",
       "      <td>NaN</td>\n",
       "    </tr>\n",
       "  </tbody>\n",
       "</table>\n",
       "<p>2 rows × 33 columns</p>\n",
       "</div>"
      ],
      "text/plain": [
       "       Accident Date  Age at Injury Alternative Dispute Resolution  \\\n",
       "257901           NaN            NaN                            NaN   \n",
       "526445           NaN            NaN                            NaN   \n",
       "\n",
       "       Assembly Date Attorney/Representative  Average Weekly Wage  Birth Year  \\\n",
       "257901    2021-05-21                     NaN                  NaN         NaN   \n",
       "526445    2022-09-05                     NaN                  NaN         NaN   \n",
       "\n",
       "       C-2 Date C-3 Date Carrier Name  ... WCIO Cause of Injury Code  \\\n",
       "257901      NaN      NaN          NaN  ...                       NaN   \n",
       "526445      NaN      NaN          NaN  ...                       NaN   \n",
       "\n",
       "        WCIO Cause of Injury Description WCIO Nature of Injury Code  \\\n",
       "257901                               NaN                        NaN   \n",
       "526445                               NaN                        NaN   \n",
       "\n",
       "       WCIO Nature of Injury Description WCIO Part Of Body Code  \\\n",
       "257901                               NaN                    NaN   \n",
       "526445                               NaN                    NaN   \n",
       "\n",
       "       WCIO Part Of Body Description Zip Code Agreement Reached  WCB Decision  \\\n",
       "257901                           NaN      NaN               NaN           NaN   \n",
       "526445                           NaN      NaN               NaN           NaN   \n",
       "\n",
       "        Number of Dependents  \n",
       "257901                   NaN  \n",
       "526445                   NaN  \n",
       "\n",
       "[2 rows x 33 columns]"
      ]
     },
     "execution_count": 7,
     "metadata": {},
     "output_type": "execute_result"
    }
   ],
   "source": [
    "# Check for duplicated values in 'Claim Identifier'\n",
    "duplicated_claims = train_df['Claim Identifier'].duplicated(keep=False)\n",
    "\n",
    "train_df[duplicated_claims]"
   ]
  },
  {
   "cell_type": "markdown",
   "metadata": {},
   "source": [
    "The rows are almost empty so we decided to drop these two. Afterwards, the possibility of existing similar almost empty rows will be explored."
   ]
  },
  {
   "cell_type": "code",
   "execution_count": 8,
   "metadata": {},
   "outputs": [],
   "source": [
    "train_df.drop_duplicates(subset='Claim Identifier', keep=False, inplace=True)"
   ]
  },
  {
   "cell_type": "markdown",
   "metadata": {},
   "source": [
    "After dropping the repeated `Claim Identifier`, the variable was set as the index."
   ]
  },
  {
   "cell_type": "code",
   "execution_count": 9,
   "metadata": {},
   "outputs": [],
   "source": [
    "train_df = train_df.set_index('Claim Identifier')"
   ]
  },
  {
   "cell_type": "markdown",
   "metadata": {},
   "source": [
    "2. Search for duplicated rows"
   ]
  },
  {
   "cell_type": "code",
   "execution_count": 10,
   "metadata": {},
   "outputs": [
    {
     "name": "stdout",
     "output_type": "stream",
     "text": [
      "There are 18348 duplicated rows, which represent 3.1% of the dataset\n"
     ]
    }
   ],
   "source": [
    "print(f'There are {train_df.duplicated().sum()} duplicated rows, which represent {(train_df.duplicated().sum()/len(train_df) * 100):.1f}% of the dataset')"
   ]
  },
  {
   "cell_type": "markdown",
   "metadata": {},
   "source": [
    "Before deciding what to do with these duplicated rows, lets explore them a bit."
   ]
  },
  {
   "cell_type": "code",
   "execution_count": 11,
   "metadata": {},
   "outputs": [
    {
     "data": {
      "text/html": [
       "<div>\n",
       "<style scoped>\n",
       "    .dataframe tbody tr th:only-of-type {\n",
       "        vertical-align: middle;\n",
       "    }\n",
       "\n",
       "    .dataframe tbody tr th {\n",
       "        vertical-align: top;\n",
       "    }\n",
       "\n",
       "    .dataframe thead th {\n",
       "        text-align: right;\n",
       "    }\n",
       "</style>\n",
       "<table border=\"1\" class=\"dataframe\">\n",
       "  <thead>\n",
       "    <tr style=\"text-align: right;\">\n",
       "      <th></th>\n",
       "      <th>Age at Injury</th>\n",
       "      <th>Average Weekly Wage</th>\n",
       "      <th>Birth Year</th>\n",
       "      <th>IME-4 Count</th>\n",
       "      <th>Industry Code</th>\n",
       "      <th>OIICS Nature of Injury Description</th>\n",
       "      <th>WCIO Cause of Injury Code</th>\n",
       "      <th>WCIO Nature of Injury Code</th>\n",
       "      <th>WCIO Part Of Body Code</th>\n",
       "      <th>Agreement Reached</th>\n",
       "      <th>Number of Dependents</th>\n",
       "    </tr>\n",
       "  </thead>\n",
       "  <tbody>\n",
       "    <tr>\n",
       "      <th>count</th>\n",
       "      <td>2.0</td>\n",
       "      <td>2.0</td>\n",
       "      <td>2.0</td>\n",
       "      <td>0.0</td>\n",
       "      <td>0.0</td>\n",
       "      <td>0.0</td>\n",
       "      <td>0.0</td>\n",
       "      <td>0.0</td>\n",
       "      <td>0.0</td>\n",
       "      <td>2.0</td>\n",
       "      <td>2.0</td>\n",
       "    </tr>\n",
       "    <tr>\n",
       "      <th>mean</th>\n",
       "      <td>0.0</td>\n",
       "      <td>0.0</td>\n",
       "      <td>1968.0</td>\n",
       "      <td>NaN</td>\n",
       "      <td>NaN</td>\n",
       "      <td>NaN</td>\n",
       "      <td>NaN</td>\n",
       "      <td>NaN</td>\n",
       "      <td>NaN</td>\n",
       "      <td>0.0</td>\n",
       "      <td>0.0</td>\n",
       "    </tr>\n",
       "    <tr>\n",
       "      <th>std</th>\n",
       "      <td>0.0</td>\n",
       "      <td>0.0</td>\n",
       "      <td>0.0</td>\n",
       "      <td>NaN</td>\n",
       "      <td>NaN</td>\n",
       "      <td>NaN</td>\n",
       "      <td>NaN</td>\n",
       "      <td>NaN</td>\n",
       "      <td>NaN</td>\n",
       "      <td>0.0</td>\n",
       "      <td>0.0</td>\n",
       "    </tr>\n",
       "    <tr>\n",
       "      <th>min</th>\n",
       "      <td>0.0</td>\n",
       "      <td>0.0</td>\n",
       "      <td>1968.0</td>\n",
       "      <td>NaN</td>\n",
       "      <td>NaN</td>\n",
       "      <td>NaN</td>\n",
       "      <td>NaN</td>\n",
       "      <td>NaN</td>\n",
       "      <td>NaN</td>\n",
       "      <td>0.0</td>\n",
       "      <td>0.0</td>\n",
       "    </tr>\n",
       "    <tr>\n",
       "      <th>25%</th>\n",
       "      <td>0.0</td>\n",
       "      <td>0.0</td>\n",
       "      <td>1968.0</td>\n",
       "      <td>NaN</td>\n",
       "      <td>NaN</td>\n",
       "      <td>NaN</td>\n",
       "      <td>NaN</td>\n",
       "      <td>NaN</td>\n",
       "      <td>NaN</td>\n",
       "      <td>0.0</td>\n",
       "      <td>0.0</td>\n",
       "    </tr>\n",
       "    <tr>\n",
       "      <th>50%</th>\n",
       "      <td>0.0</td>\n",
       "      <td>0.0</td>\n",
       "      <td>1968.0</td>\n",
       "      <td>NaN</td>\n",
       "      <td>NaN</td>\n",
       "      <td>NaN</td>\n",
       "      <td>NaN</td>\n",
       "      <td>NaN</td>\n",
       "      <td>NaN</td>\n",
       "      <td>0.0</td>\n",
       "      <td>0.0</td>\n",
       "    </tr>\n",
       "    <tr>\n",
       "      <th>75%</th>\n",
       "      <td>0.0</td>\n",
       "      <td>0.0</td>\n",
       "      <td>1968.0</td>\n",
       "      <td>NaN</td>\n",
       "      <td>NaN</td>\n",
       "      <td>NaN</td>\n",
       "      <td>NaN</td>\n",
       "      <td>NaN</td>\n",
       "      <td>NaN</td>\n",
       "      <td>0.0</td>\n",
       "      <td>0.0</td>\n",
       "    </tr>\n",
       "    <tr>\n",
       "      <th>max</th>\n",
       "      <td>0.0</td>\n",
       "      <td>0.0</td>\n",
       "      <td>1968.0</td>\n",
       "      <td>NaN</td>\n",
       "      <td>NaN</td>\n",
       "      <td>NaN</td>\n",
       "      <td>NaN</td>\n",
       "      <td>NaN</td>\n",
       "      <td>NaN</td>\n",
       "      <td>0.0</td>\n",
       "      <td>0.0</td>\n",
       "    </tr>\n",
       "  </tbody>\n",
       "</table>\n",
       "</div>"
      ],
      "text/plain": [
       "       Age at Injury  Average Weekly Wage  Birth Year  IME-4 Count  \\\n",
       "count            2.0                  2.0         2.0          0.0   \n",
       "mean             0.0                  0.0      1968.0          NaN   \n",
       "std              0.0                  0.0         0.0          NaN   \n",
       "min              0.0                  0.0      1968.0          NaN   \n",
       "25%              0.0                  0.0      1968.0          NaN   \n",
       "50%              0.0                  0.0      1968.0          NaN   \n",
       "75%              0.0                  0.0      1968.0          NaN   \n",
       "max              0.0                  0.0      1968.0          NaN   \n",
       "\n",
       "       Industry Code  OIICS Nature of Injury Description  \\\n",
       "count            0.0                                 0.0   \n",
       "mean             NaN                                 NaN   \n",
       "std              NaN                                 NaN   \n",
       "min              NaN                                 NaN   \n",
       "25%              NaN                                 NaN   \n",
       "50%              NaN                                 NaN   \n",
       "75%              NaN                                 NaN   \n",
       "max              NaN                                 NaN   \n",
       "\n",
       "       WCIO Cause of Injury Code  WCIO Nature of Injury Code  \\\n",
       "count                        0.0                         0.0   \n",
       "mean                         NaN                         NaN   \n",
       "std                          NaN                         NaN   \n",
       "min                          NaN                         NaN   \n",
       "25%                          NaN                         NaN   \n",
       "50%                          NaN                         NaN   \n",
       "75%                          NaN                         NaN   \n",
       "max                          NaN                         NaN   \n",
       "\n",
       "       WCIO Part Of Body Code  Agreement Reached  Number of Dependents  \n",
       "count                     0.0                2.0                   2.0  \n",
       "mean                      NaN                0.0                   0.0  \n",
       "std                       NaN                0.0                   0.0  \n",
       "min                       NaN                0.0                   0.0  \n",
       "25%                       NaN                0.0                   0.0  \n",
       "50%                       NaN                0.0                   0.0  \n",
       "75%                       NaN                0.0                   0.0  \n",
       "max                       NaN                0.0                   0.0  "
      ]
     },
     "execution_count": 11,
     "metadata": {},
     "output_type": "execute_result"
    }
   ],
   "source": [
    "train_df[train_df.duplicated(keep=False)].describe()"
   ]
  },
  {
   "cell_type": "markdown",
   "metadata": {},
   "source": [
    "Above are the descriptive statistics of the duplicated rows.  \n",
    "We can see that the columns have missing values. Because they do not add information, we decided to remove them."
   ]
  },
  {
   "cell_type": "code",
   "execution_count": 12,
   "metadata": {},
   "outputs": [],
   "source": [
    "train_df = train_df.drop_duplicates(keep=False)"
   ]
  },
  {
   "cell_type": "markdown",
   "metadata": {},
   "source": [
    "#### <span style=\"color:salmon\"> 2.3 Missing Values </span> "
   ]
  },
  {
   "cell_type": "markdown",
   "metadata": {},
   "source": [
    "After removing the duplicated values full of missing values, we decided to see the remaining na per column."
   ]
  },
  {
   "cell_type": "code",
   "execution_count": 13,
   "metadata": {},
   "outputs": [
    {
     "data": {
      "text/plain": [
       "OIICS Nature of Injury Description    100.000000\n",
       "IME-4 Count                            76.864556\n",
       "First Hearing Date                     73.730018\n",
       "C-3 Date                               67.380632\n",
       "Birth Year                              5.065642\n",
       "Average Weekly Wage                     4.991255\n",
       "Zip Code                                4.988816\n",
       "WCIO Part Of Body Description           2.975485\n",
       "WCIO Part Of Body Code                  2.975485\n",
       "WCIO Nature of Injury Description       2.727238\n",
       "WCIO Nature of Injury Code              2.727238\n",
       "WCIO Cause of Injury Code               2.724276\n",
       "WCIO Cause of Injury Description        2.724276\n",
       "C-2 Date                                2.536131\n",
       "Industry Code Description               1.734422\n",
       "Industry Code                           1.734422\n",
       "Accident Date                           0.642308\n",
       "dtype: float64"
      ]
     },
     "execution_count": 13,
     "metadata": {},
     "output_type": "execute_result"
    }
   ],
   "source": [
    "# Display the percentage of missing values per column\n",
    "\n",
    "missing_values = train_df.isnull().sum() / len(train_df) * 100\n",
    "\n",
    "missing_values[missing_values > 0].sort_values(ascending=False)"
   ]
  },
  {
   "cell_type": "markdown",
   "metadata": {},
   "source": [
    "Columns like `OIICS Nature of Injury Description`, `IME-4 Count`, and `First Hearing Date` have over 60% missing, with some 100% missing. These may need to be removed or further investigated. Columns such as `Birth Year`, `Average Weekly Wage`, and `Zip Code` have around 5% missing and can likely be imputed. Columns like `Accident Date` and `Industry Code` have minimal missing data (below 1%) and can be imputed or removed with minimal impact.\n",
    "\n",
    "Actions include removing columns with 100% missing data, imputing or removing columns with 60%-70% missing values, imputing columns with 2%-5% missing data, and reviewing columns with <1% missing for possible imputation or removal.\n"
   ]
  },
  {
   "cell_type": "markdown",
   "metadata": {},
   "source": [
    "After seeing the columns with more missing values, let's check the rows."
   ]
  },
  {
   "cell_type": "code",
   "execution_count": 14,
   "metadata": {},
   "outputs": [
    {
     "data": {
      "text/plain": [
       "Claim Identifier\n",
       "5756485    46.875\n",
       "5866417    46.875\n",
       "5737465    46.875\n",
       "5491781    46.875\n",
       "5939237    46.875\n",
       "            ...  \n",
       "6164515     3.125\n",
       "5394022     3.125\n",
       "5393820     3.125\n",
       "5393996     3.125\n",
       "5394433     3.125\n",
       "Length: 574024, dtype: float64"
      ]
     },
     "execution_count": 14,
     "metadata": {},
     "output_type": "execute_result"
    }
   ],
   "source": [
    "# Calculate the percentage of missing values per row\n",
    "missing_percentage_per_row = (train_df.isnull().sum(axis=1) / train_df.shape[1]) * 100\n",
    "\n",
    "missing_percentage_per_row.sort_values(ascending=False)\n"
   ]
  },
  {
   "cell_type": "markdown",
   "metadata": {},
   "source": [
    "The dataset shows a wide range of missing values per row. Some rows, identified by `Claim Identifier`, have a significantly high percentage of missing values, with several rows showing 44.12% missing data. On the other hand, a few rows exhibit much lower missing percentages, as low as 2.94%. \n",
    "\n",
    "This indicates that a large proportion of the data for certain rows is missing, while others have relatively fewer missing values. Rows with more than 40% missing data may require special handling, such as imputation or removal, depending on the context and importance of the data."
   ]
  },
  {
   "cell_type": "markdown",
   "metadata": {},
   "source": [
    "**Heatmap of Missing Values**\n",
    "\n",
    "The heatmap shows correlations between missing values in different columns, revealing if missingness in one column is associated with missingness in another."
   ]
  },
  {
   "cell_type": "code",
   "execution_count": 15,
   "metadata": {},
   "outputs": [
    {
     "data": {
      "image/png": "[encoded data removed]",
      "text/plain": [
       "<Figure size 2000x1200 with 2 Axes>"
      ]
     },
     "metadata": {},
     "output_type": "display_data"
    }
   ],
   "source": [
    "msno.heatmap(train_df)\n",
    "plt.show()"
   ]
  },
  {
   "cell_type": "markdown",
   "metadata": {},
   "source": [
    "Conclusions about this heatmap:\n",
    "* A high correlation 0.9, suggesting that when one is missing, the other often is too, like in WCIO\n",
    "* A correlation 0.5 to 0.7 imply a weaker but still noteworthy relationship, like in WCIO and Industry code\n",
    "* A correlation close to zero or negative imply little to no relationship, suggesting that missingness in one column does not predict missingness in the other, like in Accident date, average weekly wage and others"
   ]
  },
  {
   "cell_type": "markdown",
   "metadata": {},
   "source": [
    "**Dendogram of Missing Values**\n",
    "\n",
    "The dendrogram groups columns with similar patterns of missing values. It’s useful for identifying clusters of columns that have related missing data patterns, which might be caused by specific conditions or categories."
   ]
  },
  {
   "cell_type": "code",
   "execution_count": 16,
   "metadata": {},
   "outputs": [
    {
     "data": {
      "text/plain": [
       "<Figure size 1200x600 with 0 Axes>"
      ]
     },
     "metadata": {},
     "output_type": "display_data"
    },
    {
     "data": {
      "image/png": "[encoded data removed]",
      "text/plain": [
       "<Figure size 2500x1000 with 1 Axes>"
      ]
     },
     "metadata": {},
     "output_type": "display_data"
    }
   ],
   "source": [
    "plt.figure(figsize=(12, 6))\n",
    "msno.dendrogram(train_df)\n",
    "plt.show()"
   ]
  },
  {
   "cell_type": "markdown",
   "metadata": {},
   "source": [
    "Conclusions about dendrogram:\n",
    "* We can divide this in two parts:\n",
    "    1. IME-4 count, first hearing date, C-3 Date\n",
    "    2. remaining columns"
   ]
  },
  {
   "cell_type": "markdown",
   "metadata": {},
   "source": [
    "#### <span style=\"color:salmon\"> 2.4 Target Distribution </span> "
   ]
  },
  {
   "cell_type": "markdown",
   "metadata": {},
   "source": [
    "To get to know our data, we started by exploring the target variable `Claim Injury Type`. To do so, we created a freaquency bar chart."
   ]
  },
  {
   "cell_type": "code",
   "execution_count": 17,
   "metadata": {},
   "outputs": [
    {
     "data": {
      "text/plain": [
       "<AxesSubplot:title={'center':'Frequency of Claim Injury Type'}, xlabel='Claim Injury Type', ylabel='count'>"
      ]
     },
     "execution_count": 17,
     "metadata": {},
     "output_type": "execute_result"
    },
    {
     "data": {
      "image/png": "[encoded data removed]",
      "text/plain": [
       "<Figure size 640x480 with 1 Axes>"
      ]
     },
     "metadata": {},
     "output_type": "display_data"
    }
   ],
   "source": [
    "# Using value_counts to get counts per state and plotting\n",
    "train_df['Claim Injury Type'].value_counts().sort_index().plot(kind='bar', xlabel='Claim Injury Type', ylabel='count', title='Frequency of Claim Injury Type')"
   ]
  },
  {
   "cell_type": "markdown",
   "metadata": {},
   "source": [
    "Conclusions about the frequency of Claim Injury type:\n",
    "* There is a large discrepancy between the values\n",
    "* The most frequent is NON-COMP\n",
    "* The one with the lowest frequency is PTD and DEATH"
   ]
  },
  {
   "cell_type": "markdown",
   "metadata": {},
   "source": [
    "#### <span style=\"color:salmon\"> 2.5 Numerical Variables </span> "
   ]
  },
  {
   "cell_type": "markdown",
   "metadata": {},
   "source": [
    "Numerical variables represent measurable quantities and can be analyzed mathematically. <br>  \n",
    "The numerical variables that exist in this dataset are:"
   ]
  },
  {
   "cell_type": "code",
   "execution_count": 18,
   "metadata": {},
   "outputs": [],
   "source": [
    "numerical_features = [\n",
    "    'Age at Injury', 'Average Weekly Wage', 'Birth Year', 'IME-4 Count', 'Number of Dependents'\n",
    "]"
   ]
  },
  {
   "cell_type": "code",
   "execution_count": 19,
   "metadata": {},
   "outputs": [
    {
     "data": {
      "text/html": [
       "<div>\n",
       "<style scoped>\n",
       "    .dataframe tbody tr th:only-of-type {\n",
       "        vertical-align: middle;\n",
       "    }\n",
       "\n",
       "    .dataframe tbody tr th {\n",
       "        vertical-align: top;\n",
       "    }\n",
       "\n",
       "    .dataframe thead th {\n",
       "        text-align: right;\n",
       "    }\n",
       "</style>\n",
       "<table border=\"1\" class=\"dataframe\">\n",
       "  <thead>\n",
       "    <tr style=\"text-align: right;\">\n",
       "      <th></th>\n",
       "      <th>Age at Injury</th>\n",
       "      <th>Average Weekly Wage</th>\n",
       "      <th>Birth Year</th>\n",
       "      <th>IME-4 Count</th>\n",
       "      <th>Number of Dependents</th>\n",
       "    </tr>\n",
       "    <tr>\n",
       "      <th>Claim Identifier</th>\n",
       "      <th></th>\n",
       "      <th></th>\n",
       "      <th></th>\n",
       "      <th></th>\n",
       "      <th></th>\n",
       "    </tr>\n",
       "  </thead>\n",
       "  <tbody>\n",
       "    <tr>\n",
       "      <th>5393875</th>\n",
       "      <td>31.0</td>\n",
       "      <td>0.00</td>\n",
       "      <td>1988.0</td>\n",
       "      <td>NaN</td>\n",
       "      <td>1.0</td>\n",
       "    </tr>\n",
       "    <tr>\n",
       "      <th>5393091</th>\n",
       "      <td>46.0</td>\n",
       "      <td>1745.93</td>\n",
       "      <td>1973.0</td>\n",
       "      <td>4.0</td>\n",
       "      <td>4.0</td>\n",
       "    </tr>\n",
       "    <tr>\n",
       "      <th>5393889</th>\n",
       "      <td>40.0</td>\n",
       "      <td>1434.80</td>\n",
       "      <td>1979.0</td>\n",
       "      <td>NaN</td>\n",
       "      <td>6.0</td>\n",
       "    </tr>\n",
       "    <tr>\n",
       "      <th>5393887</th>\n",
       "      <td>61.0</td>\n",
       "      <td>NaN</td>\n",
       "      <td>1958.0</td>\n",
       "      <td>NaN</td>\n",
       "      <td>1.0</td>\n",
       "    </tr>\n",
       "    <tr>\n",
       "      <th>5393863</th>\n",
       "      <td>67.0</td>\n",
       "      <td>0.00</td>\n",
       "      <td>1952.0</td>\n",
       "      <td>NaN</td>\n",
       "      <td>5.0</td>\n",
       "    </tr>\n",
       "    <tr>\n",
       "      <th>...</th>\n",
       "      <td>...</td>\n",
       "      <td>...</td>\n",
       "      <td>...</td>\n",
       "      <td>...</td>\n",
       "      <td>...</td>\n",
       "    </tr>\n",
       "    <tr>\n",
       "      <th>6165265</th>\n",
       "      <td>35.0</td>\n",
       "      <td>0.00</td>\n",
       "      <td>1987.0</td>\n",
       "      <td>NaN</td>\n",
       "      <td>4.0</td>\n",
       "    </tr>\n",
       "    <tr>\n",
       "      <th>6165285</th>\n",
       "      <td>33.0</td>\n",
       "      <td>0.00</td>\n",
       "      <td>1989.0</td>\n",
       "      <td>NaN</td>\n",
       "      <td>6.0</td>\n",
       "    </tr>\n",
       "    <tr>\n",
       "      <th>6165506</th>\n",
       "      <td>61.0</td>\n",
       "      <td>991.08</td>\n",
       "      <td>1961.0</td>\n",
       "      <td>1.0</td>\n",
       "      <td>3.0</td>\n",
       "    </tr>\n",
       "    <tr>\n",
       "      <th>6165339</th>\n",
       "      <td>24.0</td>\n",
       "      <td>0.00</td>\n",
       "      <td>1998.0</td>\n",
       "      <td>NaN</td>\n",
       "      <td>5.0</td>\n",
       "    </tr>\n",
       "    <tr>\n",
       "      <th>6165075</th>\n",
       "      <td>72.0</td>\n",
       "      <td>0.00</td>\n",
       "      <td>1950.0</td>\n",
       "      <td>NaN</td>\n",
       "      <td>3.0</td>\n",
       "    </tr>\n",
       "  </tbody>\n",
       "</table>\n",
       "<p>574024 rows × 5 columns</p>\n",
       "</div>"
      ],
      "text/plain": [
       "                  Age at Injury  Average Weekly Wage  Birth Year  IME-4 Count  \\\n",
       "Claim Identifier                                                                \n",
       "5393875                    31.0                 0.00      1988.0          NaN   \n",
       "5393091                    46.0              1745.93      1973.0          4.0   \n",
       "5393889                    40.0              1434.80      1979.0          NaN   \n",
       "5393887                    61.0                  NaN      1958.0          NaN   \n",
       "5393863                    67.0                 0.00      1952.0          NaN   \n",
       "...                         ...                  ...         ...          ...   \n",
       "6165265                    35.0                 0.00      1987.0          NaN   \n",
       "6165285                    33.0                 0.00      1989.0          NaN   \n",
       "6165506                    61.0               991.08      1961.0          1.0   \n",
       "6165339                    24.0                 0.00      1998.0          NaN   \n",
       "6165075                    72.0                 0.00      1950.0          NaN   \n",
       "\n",
       "                  Number of Dependents  \n",
       "Claim Identifier                        \n",
       "5393875                            1.0  \n",
       "5393091                            4.0  \n",
       "5393889                            6.0  \n",
       "5393887                            1.0  \n",
       "5393863                            5.0  \n",
       "...                                ...  \n",
       "6165265                            4.0  \n",
       "6165285                            6.0  \n",
       "6165506                            3.0  \n",
       "6165339                            5.0  \n",
       "6165075                            3.0  \n",
       "\n",
       "[574024 rows x 5 columns]"
      ]
     },
     "execution_count": 19,
     "metadata": {},
     "output_type": "execute_result"
    }
   ],
   "source": [
    "numerical_df = train_df[numerical_features]\n",
    "numerical_df"
   ]
  },
  {
   "cell_type": "markdown",
   "metadata": {},
   "source": [
    "Show some statistics about the numerical_df:"
   ]
  },
  {
   "cell_type": "code",
   "execution_count": 20,
   "metadata": {},
   "outputs": [
    {
     "data": {
      "text/html": [
       "<div>\n",
       "<style scoped>\n",
       "    .dataframe tbody tr th:only-of-type {\n",
       "        vertical-align: middle;\n",
       "    }\n",
       "\n",
       "    .dataframe tbody tr th {\n",
       "        vertical-align: top;\n",
       "    }\n",
       "\n",
       "    .dataframe thead th {\n",
       "        text-align: right;\n",
       "    }\n",
       "</style>\n",
       "<table border=\"1\" class=\"dataframe\">\n",
       "  <thead>\n",
       "    <tr style=\"text-align: right;\">\n",
       "      <th></th>\n",
       "      <th>count</th>\n",
       "      <th>mean</th>\n",
       "      <th>std</th>\n",
       "      <th>min</th>\n",
       "      <th>25%</th>\n",
       "      <th>50%</th>\n",
       "      <th>75%</th>\n",
       "      <th>max</th>\n",
       "    </tr>\n",
       "  </thead>\n",
       "  <tbody>\n",
       "    <tr>\n",
       "      <th>Age at Injury</th>\n",
       "      <td>574024.0</td>\n",
       "      <td>42.114417</td>\n",
       "      <td>14.256240</td>\n",
       "      <td>0.0</td>\n",
       "      <td>31.0</td>\n",
       "      <td>42.0</td>\n",
       "      <td>54.0</td>\n",
       "      <td>117.0</td>\n",
       "    </tr>\n",
       "    <tr>\n",
       "      <th>Average Weekly Wage</th>\n",
       "      <td>545373.0</td>\n",
       "      <td>491.090122</td>\n",
       "      <td>6092.929220</td>\n",
       "      <td>0.0</td>\n",
       "      <td>0.0</td>\n",
       "      <td>0.0</td>\n",
       "      <td>841.0</td>\n",
       "      <td>2828079.0</td>\n",
       "    </tr>\n",
       "    <tr>\n",
       "      <th>Birth Year</th>\n",
       "      <td>544946.0</td>\n",
       "      <td>1886.767305</td>\n",
       "      <td>414.645155</td>\n",
       "      <td>0.0</td>\n",
       "      <td>1965.0</td>\n",
       "      <td>1977.0</td>\n",
       "      <td>1989.0</td>\n",
       "      <td>2018.0</td>\n",
       "    </tr>\n",
       "    <tr>\n",
       "      <th>IME-4 Count</th>\n",
       "      <td>132803.0</td>\n",
       "      <td>3.207337</td>\n",
       "      <td>2.832303</td>\n",
       "      <td>1.0</td>\n",
       "      <td>1.0</td>\n",
       "      <td>2.0</td>\n",
       "      <td>4.0</td>\n",
       "      <td>73.0</td>\n",
       "    </tr>\n",
       "    <tr>\n",
       "      <th>Number of Dependents</th>\n",
       "      <td>574024.0</td>\n",
       "      <td>3.006569</td>\n",
       "      <td>2.000797</td>\n",
       "      <td>0.0</td>\n",
       "      <td>1.0</td>\n",
       "      <td>3.0</td>\n",
       "      <td>5.0</td>\n",
       "      <td>6.0</td>\n",
       "    </tr>\n",
       "  </tbody>\n",
       "</table>\n",
       "</div>"
      ],
      "text/plain": [
       "                         count         mean          std  min     25%     50%  \\\n",
       "Age at Injury         574024.0    42.114417    14.256240  0.0    31.0    42.0   \n",
       "Average Weekly Wage   545373.0   491.090122  6092.929220  0.0     0.0     0.0   \n",
       "Birth Year            544946.0  1886.767305   414.645155  0.0  1965.0  1977.0   \n",
       "IME-4 Count           132803.0     3.207337     2.832303  1.0     1.0     2.0   \n",
       "Number of Dependents  574024.0     3.006569     2.000797  0.0     1.0     3.0   \n",
       "\n",
       "                         75%        max  \n",
       "Age at Injury           54.0      117.0  \n",
       "Average Weekly Wage    841.0  2828079.0  \n",
       "Birth Year            1989.0     2018.0  \n",
       "IME-4 Count              4.0       73.0  \n",
       "Number of Dependents     5.0        6.0  "
      ]
     },
     "execution_count": 20,
     "metadata": {},
     "output_type": "execute_result"
    }
   ],
   "source": [
    "numerical_df.describe().T"
   ]
  },
  {
   "cell_type": "markdown",
   "metadata": {},
   "source": [
    "\n",
    "- **Age at Injury**: \n",
    "    - Mean age is 42.11 years with a standard deviation of 14.26\n",
    "    - The ages range from 0 to 117 years, with the 25th percentile at 31, the median at 42, and the 75th percentile at 54\n",
    "    - 75% of the people has 54 age at injury\n",
    "- **Average Weekly Wage**: \n",
    "    - Mean weekly wage is 491.09 with a very high standard deviation of 6092.92\n",
    "    - The wages range from 0 to a maximum of 2,828,079\n",
    "    - 75% have an average weekly wage of 841\n",
    "- **Birth Year**: \n",
    "    - The mean birth year is around 1886.77 with a standard deviation of 414.64\n",
    "    - The birth years range from 0 to 2018\n",
    "- **IME-4 Count**: \n",
    "    - Mean count is 3.21 with a standard deviation of 2.83\n",
    "- **Number of Dependents**: \n",
    "    - Mean is 3 and the standard deviation is 2\n",
    "    - The range of number of dependencies is 0 to 6\n",
    "\n"
   ]
  },
  {
   "cell_type": "markdown",
   "metadata": {},
   "source": [
    "For a better understanding of the numerical_features, we did some plots:"
   ]
  },
  {
   "cell_type": "code",
   "execution_count": null,
   "metadata": {},
   "outputs": [],
   "source": [
    "fig, axes = plt.subplots(len(numerical_features), 2, figsize=(15, 5*len(numerical_features)))\n",
    "fig.suptitle('Distribution of Numerical Features', fontsize=16, y=1.02)\n",
    "    \n",
    "for idx, feature in enumerate(numerical_features):\n",
    "    # Histogram with KDE\n",
    "    sns.histplot(data=numerical_df, x=feature, kde=True, ax=axes[idx, 0])\n",
    "    axes[idx, 0].set_title(f'Distribution of {feature}')\n",
    "    axes[idx, 0].set_xlabel(feature)\n",
    "        \n",
    "    # Box plot\n",
    "    sns.boxplot(data=numerical_df, y=feature, ax=axes[idx, 1])\n",
    "    axes[idx, 1].set_title(f'Box Plot of {feature}')\n",
    "    \n",
    "plt.tight_layout()\n",
    "plt.show()"
   ]
  },
  {
   "cell_type": "code",
   "execution_count": null,
   "metadata": {},
   "outputs": [],
   "source": [
    "# Specify the feature you want to analyze\n",
    "feature = \"Average Weekly Wage\"\n",
    "\n",
    "# Set up a 1x2 subplot for the histogram and box plot\n",
    "fig, axes = plt.subplots(1, 2, figsize=(15, 5))\n",
    "fig.suptitle(f'Distribution Analysis of {feature}', fontsize=16, y=1.02)\n",
    "\n",
    "# Histogram with KDE\n",
    "sns.histplot(data=numerical_df, x=feature, kde=False, ax=axes[0])\n",
    "axes[0].set_title(f'Distribution of {feature}')\n",
    "axes[0].set_xlabel(feature)\n",
    "\n",
    "# Set x-axis limits to accommodate larger values\n",
    "axes[0].set_xlim(0, 1500)  # Adjust the upper limit as needed\n",
    "\n",
    "# Box plot\n",
    "sns.boxplot(data=numerical_df, y=feature, ax=axes[1])\n",
    "axes[1].set_title(f'Box Plot of {feature}')\n",
    "\n",
    "plt.tight_layout()\n",
    "plt.show()"
   ]
  },
  {
   "cell_type": "markdown",
   "metadata": {},
   "source": [
    "- **Age at Injury**: \n",
    "    - The distribution of ages at injury is unimodal, with peaks around 30 and 60 years old.\n",
    "    - Most injuries occur between 20 and 60 years of age.\n",
    "    - There are outliers in the data, including some extremely high values that may be inaccurate.\n",
    "- **Average Weekly Wage**: \n",
    "    - A significant portion of the data has an average weekly wage of 0.0, indicating potential missing or incorrect data.\n",
    "- **Birth Year**: \n",
    "    - The data contains an invalid birth year of 0.\n",
    "- **IME-4 Count**: \n",
    "    - A majority of the IME-4 Count values are missing(NaN).\n",
    "- **Number of Dependents**: \n",
    "    - The distribution of the number of dependents is relatively uniform, with values ranging from 0 to 6.\n",
    "    - The majority of the values are between the 1 and 5 dependents\n",
    "\n"
   ]
  },
  {
   "cell_type": "markdown",
   "metadata": {},
   "source": [
    "We then created correlation matrix of numerical features."
   ]
  },
  {
   "cell_type": "code",
   "execution_count": null,
   "metadata": {},
   "outputs": [],
   "source": [
    "plt.figure(figsize=(10, 8))\n",
    "correlation_matrix = numerical_df.corr()\n",
    "sns.heatmap(correlation_matrix, \n",
    "            annot=True, \n",
    "            cmap='coolwarm', \n",
    "            center=0,\n",
    "            fmt='.2f')\n",
    "plt.title('Correlation Heatmap of Numerical Features')\n",
    "plt.show()"
   ]
  },
  {
   "cell_type": "markdown",
   "metadata": {},
   "source": [
    "As we can see, we can not see any significant correlation with any of the numerical features. We concluded that actuay they have 0 correlation between them."
   ]
  },
  {
   "cell_type": "markdown",
   "metadata": {},
   "source": [
    "We will do some scatter plots for age-related and financial features to see if we can get any relationship"
   ]
  },
  {
   "cell_type": "code",
   "execution_count": null,
   "metadata": {},
   "outputs": [],
   "source": [
    "# Setting up the figure\n",
    "fig, axes = plt.subplots(2, 2, figsize=(15, 15))\n",
    "fig.suptitle('Key Feature Relationships', fontsize=16, y=1.02)\n",
    "\n",
    "# Age at Injury vs Average Weekly Wage\n",
    "sns.scatterplot(data=numerical_df, \n",
    "                x='Age at Injury', \n",
    "                y='Average Weekly Wage',\n",
    "                ax=axes[0, 0])\n",
    "axes[0, 0].set_title('Age at Injury vs Average Weekly Wage')\n",
    "\n",
    "# Age at Injury vs Number of Dependents\n",
    "sns.scatterplot(data=numerical_df, \n",
    "                x='Age at Injury', \n",
    "                y='Number of Dependents',\n",
    "                ax=axes[0, 1])\n",
    "axes[0, 1].set_title('Age at Injury vs Number of Dependents')\n",
    "\n",
    "# Birth Year vs Average Weekly Wage\n",
    "sns.scatterplot(data=numerical_df, \n",
    "                x='Birth Year', \n",
    "                y='Average Weekly Wage',\n",
    "                ax=axes[1, 0])\n",
    "axes[1, 0].set_title('Birth Year vs Average Weekly Wage')\n",
    "\n",
    "# Average Weekly Wage vs Number of Dependents\n",
    "sns.scatterplot(data=numerical_df, \n",
    "                x='Average Weekly Wage', \n",
    "                y='Number of Dependents',\n",
    "                ax=axes[1, 1])\n",
    "axes[1, 1].set_title('Average Weekly Wage vs Number of Dependents')\n",
    "    \n",
    "plt.tight_layout()\n",
    "plt.show()"
   ]
  },
  {
   "cell_type": "markdown",
   "metadata": {},
   "source": [
    "We can't conclude much from combining feature<br>\n",
    "    *The missing values produce much noise*"
   ]
  },
  {
   "cell_type": "markdown",
   "metadata": {},
   "source": [
    "#### <span style=\"color:salmon\"> 2.6 Categorical Variables </span> "
   ]
  },
  {
   "cell_type": "markdown",
   "metadata": {},
   "source": [
    "Categorical variables represent characteristics or qualities that group data into distinct categories or labels. <br>  \n",
    "In this dataset, the categorical variables are:"
   ]
  },
  {
   "cell_type": "code",
   "execution_count": null,
   "metadata": {},
   "outputs": [],
   "source": [
    "categorical_features = [\n",
    "    'Alternative Dispute Resolution', 'Attorney/Representative',\n",
    "    'Carrier Name',  'Carrier Type', 'County of Injury',\n",
    "    'COVID-19 Indicator',  'District Name', 'Gender', 'Industry Code',\n",
    "    'Industry Code Description',  'Medical Fee Region',  'WCIO Cause of Injury Code',\n",
    "    'WCIO Cause of Injury Description',  'WCIO Nature of Injury Code',\n",
    "    'WCIO Nature of Injury Description',  'WCIO Part Of Body Code',\n",
    "    'WCIO Part Of Body Description',  'Zip Code', 'Agreement Reached',\n",
    "    'WCB Decision', 'Claim Injury Type'\n",
    "]"
   ]
  },
  {
   "cell_type": "code",
   "execution_count": null,
   "metadata": {},
   "outputs": [],
   "source": [
    "categorical_df = train_df[categorical_features]\n",
    "categorical_df"
   ]
  },
  {
   "cell_type": "markdown",
   "metadata": {},
   "source": [
    "Show some statistics about the categorical_df:"
   ]
  },
  {
   "cell_type": "code",
   "execution_count": null,
   "metadata": {},
   "outputs": [],
   "source": [
    "categorical_df.describe().T"
   ]
  },
  {
   "cell_type": "markdown",
   "metadata": {},
   "source": [
    "To facilitate the exploration of the categorical data, the second step taken was to see the unique values that each categorical variable has."
   ]
  },
  {
   "cell_type": "code",
   "execution_count": null,
   "metadata": {},
   "outputs": [],
   "source": [
    "# Check unique values of the categorical variables\n",
    "for column in categorical_df.columns:\n",
    "    print('=========================')\n",
    "    print(categorical_df[column].value_counts())\n",
    "    print(f'Missing values: {categorical_df[column].isna().sum()}')\n",
    "    print('=========================')\n",
    "    print()"
   ]
  },
  {
   "cell_type": "markdown",
   "metadata": {},
   "source": [
    "*Conclusiona about Categorical variables*\n",
    "- **Alternative Dispute Resolution**: \n",
    "    - Majority with 'N' (571,412)\n",
    "    - Minor counts of 'Y' (2,609) and 'U' (5), indicating few unspecified cases\n",
    "- **Carrier Name**: \n",
    "    - Diverse field with *STATE INSURANCE FUND* as the largest category\n",
    "    - Total of 2,046 unique insurance providers\n",
    "- **Claim Injury Type**: \n",
    "    - Target variable with 8 distinct categories\n",
    "- **County of Injury**: \n",
    "    - 63 unique counties, with significant representation from *SUFFOLK* and *QUEENS*\n",
    "- **Attorney/Representative**: \n",
    "    - Majority of claims without legal representation ('N': 392,291 vs 'Y': 181,735)\n",
    "- **Gender**: \n",
    "    - Gender variable includes unknown values ('U' and 'X'), which will be replaced with 'Unknown'\n",
    "- **Industry Code Description**: \n",
    "    - Significant representation in sectors like *Health Care* and *Public Administration*\n",
    "\n"
   ]
  },
  {
   "cell_type": "markdown",
   "metadata": {},
   "source": [
    "In order to examine the distribution of categorical features, focusing on rare categories, unknown values, or high cardinality, we create some plots:"
   ]
  },
  {
   "cell_type": "markdown",
   "metadata": {},
   "source": [
    "First, let's get information about the number of unique values in each feature."
   ]
  },
  {
   "cell_type": "markdown",
   "metadata": {},
   "source": [
    "This information is very useful because:\n",
    "\n",
    "- It helps you understand the complexity of each feature\n",
    "\n",
    "- It guides how you should visualize each feature\n",
    "    Binary features might be best as pie charts\n",
    "    Features with few categories work well as bar plots\n",
    "    Features with many categories might need to be grouped or shown partially\n",
    "\n",
    "\n",
    "- It helps identify potential data quality issues\n",
    "    Too many unique values might indicate spelling errors or inconsistent data entry\n",
    "    Too few unique values might indicate missing categories"
   ]
  },
  {
   "cell_type": "code",
   "execution_count": null,
   "metadata": {},
   "outputs": [],
   "source": [
    "unique_counts = categorical_df.nunique().sort_values(ascending=True)\n",
    "print(\"Number of unique values in each feature:\")\n",
    "print(unique_counts)"
   ]
  },
  {
   "cell_type": "code",
   "execution_count": null,
   "metadata": {},
   "outputs": [],
   "source": [
    "# Separate features based on number of unique values\n",
    "few_categories = [feat for feat in categorical_features if train_df[feat].nunique() <= 10]\n",
    "many_categories = [feat for feat in categorical_features if train_df[feat].nunique() > 10]"
   ]
  },
  {
   "cell_type": "code",
   "execution_count": null,
   "metadata": {},
   "outputs": [],
   "source": [
    "print(\"\\nPlotting features with few categories\")\n",
    "if few_categories:\n",
    "    plot_value_counts(train_df, few_categories)\n",
    "    \n",
    "print(\"\\nPlotting features with many categories (top 10 values shown)\")\n",
    "if many_categories:\n",
    "    plot_value_counts(train_df, many_categories)"
   ]
  },
  {
   "cell_type": "code",
   "execution_count": null,
   "metadata": {},
   "outputs": [],
   "source": [
    "# Run the visualization\n",
    "plot_categorical_features(categorical_df, categorical_features)"
   ]
  },
  {
   "cell_type": "markdown",
   "metadata": {},
   "source": [
    "*Number of cases in each county*"
   ]
  },
  {
   "cell_type": "code",
   "execution_count": null,
   "metadata": {},
   "outputs": [],
   "source": [
    "plot_cases_by_county(train_df)"
   ]
  },
  {
   "cell_type": "markdown",
   "metadata": {},
   "source": [
    "#### <span style=\"color:salmon\"> 2.7 Date Variables </span> "
   ]
  },
  {
   "cell_type": "code",
   "execution_count": null,
   "metadata": {},
   "outputs": [],
   "source": [
    "date_features = ['Accident Date', 'Assembly Date', 'C-2 Date', 'C-3 Date', 'First Hearing Date']"
   ]
  },
  {
   "cell_type": "code",
   "execution_count": null,
   "metadata": {},
   "outputs": [],
   "source": [
    "date_train_df = train_df[date_features]\n",
    "date_train_df"
   ]
  },
  {
   "cell_type": "markdown",
   "metadata": {},
   "source": [
    "## <span style=\"color:salmon\"> 3. Clean and pre-processing  </span> "
   ]
  },
  {
   "cell_type": "markdown",
   "metadata": {},
   "source": [
    "The transformations applied in the training dataset must also be applied to the validation and test dataset. As such, at the start of this section we will import the test dataset and create the validation dataset when its necessary to avoid information leakage."
   ]
  },
  {
   "cell_type": "code",
   "execution_count": null,
   "metadata": {},
   "outputs": [],
   "source": [
    "test_df = pd.read_csv('./project_data/test_data.csv', index_col='Claim Identifier')\n",
    "test_df"
   ]
  },
  {
   "cell_type": "markdown",
   "metadata": {},
   "source": [
    "Before strating cleaning and preprocessing the dataframes, we decided to compare the two dataframes."
   ]
  },
  {
   "cell_type": "code",
   "execution_count": null,
   "metadata": {},
   "outputs": [],
   "source": [
    "# Get the columns that are in train_df but not in test_df\n",
    "missing_columns_in_test = set(train_df.columns) - set(test_df.columns)\n",
    "\n",
    "# Print the result\n",
    "print(\"Columns in train_df but not in test_df:\", missing_columns_in_test)\n"
   ]
  },
  {
   "cell_type": "markdown",
   "metadata": {},
   "source": [
    "Above, we can see that `test_df` does not have three columns that are in`train_df`. One is the target and the other we are going to put on the side."
   ]
  },
  {
   "cell_type": "markdown",
   "metadata": {},
   "source": [
    "#### <span style=\"color:salmon\"> 3.1 Data Types </span> "
   ]
  },
  {
   "cell_type": "markdown",
   "metadata": {},
   "source": [
    "To see the types of each columns of the dataset"
   ]
  },
  {
   "cell_type": "code",
   "execution_count": null,
   "metadata": {},
   "outputs": [],
   "source": [
    "train_df.dtypes"
   ]
  },
  {
   "cell_type": "code",
   "execution_count": null,
   "metadata": {},
   "outputs": [],
   "source": [
    "test_df.dtypes"
   ]
  },
  {
   "cell_type": "markdown",
   "metadata": {},
   "source": [
    "Above, it can be seen that the dates are considered objects while they should be considered dates. Additionally, the variables hat are codes should be considered strings not floats."
   ]
  },
  {
   "cell_type": "markdown",
   "metadata": {},
   "source": [
    "*Change date columns data type:*"
   ]
  },
  {
   "cell_type": "code",
   "execution_count": null,
   "metadata": {},
   "outputs": [],
   "source": [
    "# Select date columns\n",
    "date_cols = train_df.columns[train_df.columns.str.contains('Date')]\n",
    "# Transform into date using pandas\n",
    "train_df[date_cols] = train_df[date_cols].apply(pd.to_datetime)\n",
    "test_df[date_cols] = test_df[date_cols].apply(pd.to_datetime)"
   ]
  },
  {
   "cell_type": "markdown",
   "metadata": {},
   "source": [
    "*Change code columns to strings:*"
   ]
  },
  {
   "cell_type": "code",
   "execution_count": null,
   "metadata": {},
   "outputs": [],
   "source": [
    "# Select code columns\n",
    "code_cols = train_df.columns[train_df.columns.str.contains('Code')]\n",
    "# Transform code columns to float\n",
    "train_df[code_cols] = train_df[code_cols].astype('str')\n",
    "test_df[code_cols] = test_df[code_cols].astype('str')"
   ]
  },
  {
   "cell_type": "markdown",
   "metadata": {},
   "source": [
    "Also, the data type of the column \"Age at Injury\" and \"Birth Year\" is float, and we have to change to int"
   ]
  },
  {
   "cell_type": "code",
   "execution_count": null,
   "metadata": {},
   "outputs": [],
   "source": [
    "train_df['Birth Year'] = pd.to_numeric(train_df['Birth Year'], errors='coerce').astype('Int64')\n",
    "test_df['Birth Year'] = pd.to_numeric(test_df['Birth Year'], errors='coerce').astype('Int64')\n",
    "\n",
    "train_df['Age at Injury'] = pd.to_numeric(train_df['Age at Injury'], errors='coerce').astype('Int64')\n",
    "test_df['Age at Injury'] = pd.to_numeric(test_df['Age at Injury'], errors='coerce').astype('Int64')"
   ]
  },
  {
   "cell_type": "markdown",
   "metadata": {},
   "source": [
    "#### <span style=\"color:salmon\">  3.2 Incoherencies </span> "
   ]
  },
  {
   "cell_type": "markdown",
   "metadata": {},
   "source": [
    "1. There is some \"Birth date\" equal to 0. This values should became NAN values."
   ]
  },
  {
   "cell_type": "code",
   "execution_count": null,
   "metadata": {},
   "outputs": [],
   "source": [
    "train_df['Birth Year'].value_counts().sort_index()"
   ]
  },
  {
   "cell_type": "code",
   "execution_count": null,
   "metadata": {},
   "outputs": [],
   "source": [
    "train_df['Birth Year'] = train_df['Birth Year'].replace(0, np.nan)\n",
    "test_df['Birth Year'] = test_df['Birth Year'].replace(0, np.nan)"
   ]
  },
  {
   "cell_type": "markdown",
   "metadata": {},
   "source": [
    "2. The min Age at injury shoudn´t be equal to 0\n"
   ]
  },
  {
   "cell_type": "code",
   "execution_count": null,
   "metadata": {},
   "outputs": [],
   "source": [
    "train_df['Age at Injury'] = train_df['Age at Injury'].replace(0, np.nan)\n",
    "test_df['Age at Injury'] = test_df['Age at Injury'].replace(0, np.nan)"
   ]
  },
  {
   "cell_type": "markdown",
   "metadata": {},
   "source": [
    "3. \"Person Age\" shoud be greather than \"Age at injury\""
   ]
  },
  {
   "cell_type": "code",
   "execution_count": null,
   "metadata": {},
   "outputs": [],
   "source": [
    "# Calculate the age at accident (from the birth year and accident date)\n",
    "train_df['Calculated_Age_at_Accident'] = train_df['Accident Date'].dt.year - train_df['Birth Year']"
   ]
  },
  {
   "cell_type": "code",
   "execution_count": null,
   "metadata": {},
   "outputs": [],
   "source": [
    "train_df[(train_df['Age at Injury'].notna()) & \n",
    "                 (train_df['Calculated_Age_at_Accident'].notna()) &\n",
    "                 (train_df['Age at Injury'] != train_df['Calculated_Age_at_Accident']) &\n",
    "                 (abs(train_df['Age at Injury'] - train_df['Calculated_Age_at_Accident']) > 1)]"
   ]
  },
  {
   "cell_type": "code",
   "execution_count": null,
   "metadata": {},
   "outputs": [],
   "source": [
    "train_df = train_df.drop('Calculated_Age_at_Accident', axis=1)"
   ]
  },
  {
   "cell_type": "markdown",
   "metadata": {},
   "source": [
    "4. Average Weekly Wage shouldn´t be eaqual to 0 in min"
   ]
  },
  {
   "cell_type": "code",
   "execution_count": null,
   "metadata": {},
   "outputs": [],
   "source": [
    "train_df['Average Weekly Wage'] = train_df['Average Weekly Wage'].replace(0, np.nan)\n",
    "test_df['Average Weekly Wage'] = test_df['Average Weekly Wage'].replace(0, np.nan)"
   ]
  },
  {
   "cell_type": "markdown",
   "metadata": {},
   "source": [
    "5. Compare the variables Industry Code and Industry Code Description, but there there is no inconsistency"
   ]
  },
  {
   "cell_type": "code",
   "execution_count": null,
   "metadata": {},
   "outputs": [],
   "source": [
    "train_df.groupby('Industry Code')['Industry Code Description'].nunique().eq(1)"
   ]
  },
  {
   "cell_type": "markdown",
   "metadata": {},
   "source": [
    "#### <span style=\"color:salmon\"> 3.3 Handling Missing Values </span>"
   ]
  },
  {
   "cell_type": "markdown",
   "metadata": {},
   "source": [
    "Before starting, let's check the columns that can be dropped or inputed."
   ]
  },
  {
   "cell_type": "code",
   "execution_count": null,
   "metadata": {},
   "outputs": [],
   "source": [
    "# Display the percentage of missing values per column\n",
    "\n",
    "missing_values = train_df.isnull().sum() / len(train_df) * 100\n",
    "\n",
    "missing_values[missing_values > 0].sort_values(ascending=False)"
   ]
  },
  {
   "cell_type": "code",
   "execution_count": null,
   "metadata": {},
   "outputs": [],
   "source": [
    "# Display the percentage of missing values per column\n",
    "\n",
    "missing_values = test_df.isnull().sum() / len(test_df) * 100\n",
    "\n",
    "missing_values[missing_values > 0].sort_values(ascending=False)"
   ]
  },
  {
   "cell_type": "markdown",
   "metadata": {},
   "source": [
    "We decided to drop `OIICS Nature of Injury Description` because it only has missing values."
   ]
  },
  {
   "cell_type": "code",
   "execution_count": null,
   "metadata": {},
   "outputs": [],
   "source": [
    "train_df = train_df.drop('OIICS Nature of Injury Description', axis = 1)\n",
    "test_df = test_df.drop('OIICS Nature of Injury Description', axis = 1)"
   ]
  },
  {
   "cell_type": "markdown",
   "metadata": {},
   "source": [
    "*Input `Accident Date`*"
   ]
  },
  {
   "cell_type": "markdown",
   "metadata": {},
   "source": [
    "The second variable that we decided to tackle is `Accident Date`. While exploring the dataset, we noticed that in some cases that date is the same as `Assembly Date`. As such, we decided to replace the missing values with the other date."
   ]
  },
  {
   "cell_type": "code",
   "execution_count": null,
   "metadata": {},
   "outputs": [],
   "source": [
    "train_df[train_df['Accident Date'] == train_df['Assembly Date']]"
   ]
  },
  {
   "cell_type": "code",
   "execution_count": null,
   "metadata": {},
   "outputs": [],
   "source": [
    "# Filter the rows where 'Accident Date' is NaN, but 'Assembly Date' is not NaN\n",
    "condition = train_df['Accident Date'].isna() & train_df['Assembly Date'].notna()\n",
    "\n",
    "# Replace missing 'Accident Date' with 'Assembly Date' where the condition is true\n",
    "train_df.loc[condition, 'Accident Date'] = train_df.loc[condition, 'Assembly Date']"
   ]
  },
  {
   "cell_type": "code",
   "execution_count": null,
   "metadata": {},
   "outputs": [],
   "source": [
    "# Filter the rows where 'Accident Date' is NaN, but 'Assembly Date' is not NaN in the test dataset\n",
    "condition = test_df['Accident Date'].isna() & test_df['Assembly Date'].notna()\n",
    "\n",
    "# Replace missing 'Accident Date' with 'Assembly Date' where the condition is true in the test dataset\n",
    "test_df.loc[condition, 'Accident Date'] = test_df.loc[condition, 'Assembly Date']\n"
   ]
  },
  {
   "cell_type": "markdown",
   "metadata": {},
   "source": [
    "*Calculate `Age at Injury`*"
   ]
  },
  {
   "cell_type": "markdown",
   "metadata": {},
   "source": [
    "Afte, we can easily input are related to age/birth year. By using the relationship between `Age at Injury`, `Accident Date` and `Birth Year`, we can easily calculate some missing values."
   ]
  },
  {
   "cell_type": "code",
   "execution_count": null,
   "metadata": {},
   "outputs": [],
   "source": [
    "# Filter the rows where 'Age at Injury' is NaN, but 'Birth Year' and 'Accident Date' are not NaN\n",
    "condition = train_df['Age at Injury'].isna() & train_df['Birth Year'].notna() & train_df['Accident Date'].notna()\n",
    "\n",
    "# Replace missing 'Age at Injury' with the difference between 'Accident Date' and 'Birth Year'\n",
    "train_df.loc[condition, 'Age at Injury'] = train_df.loc[condition, 'Accident Date'].dt.year - train_df.loc[condition, 'Birth Year']\n",
    "\n",
    "\n",
    "# Filter the rows where 'Age at Injury' is NaN, but 'Birth Year' and 'Accident Date' are not NaN in the test dataset\n",
    "condition = test_df['Age at Injury'].isna() & test_df['Birth Year'].notna() & test_df['Accident Date'].notna()\n",
    "\n",
    "# Replace missing 'Age at Injury' with the difference between 'Accident Date' and 'Birth Year' where the condition is true\n",
    "test_df.loc[condition, 'Age at Injury'] = test_df.loc[condition, 'Accident Date'].dt.year - test_df.loc[condition, 'Birth Year']\n"
   ]
  },
  {
   "cell_type": "markdown",
   "metadata": {},
   "source": [
    "*Calculate `Birth Year`*"
   ]
  },
  {
   "cell_type": "code",
   "execution_count": null,
   "metadata": {},
   "outputs": [],
   "source": [
    "# Filter the rows where 'Birth Year' is NaN, but 'Age at Injury' and 'Accident Date' are not NaN\n",
    "condition = train_df['Birth Year'].isna() & train_df['Age at Injury'].notna() & train_df['Accident Date'].notna()\n",
    "\n",
    "# Replace missing 'Birth Year' with the difference between 'Accident Date' year and 'Age at Injury'\n",
    "train_df.loc[condition, 'Birth Year'] = train_df.loc[condition, 'Accident Date'].dt.year - train_df.loc[condition, 'Age at Injury']\n",
    "\n",
    "\n",
    "# Filter the rows where 'Birth Year' is NaN, but 'Age at Injury' and 'Accident Date' are not NaN in the test dataset\n",
    "condition = test_df['Birth Year'].isna() & test_df['Age at Injury'].notna() & test_df['Accident Date'].notna()\n",
    "\n",
    "# Replace missing 'Birth Year' with the difference between 'Accident Date' year and 'Age at Injury' where the condition is true\n",
    "test_df.loc[condition, 'Birth Year'] = test_df.loc[condition, 'Accident Date'].dt.year - test_df.loc[condition, 'Age at Injury']\n"
   ]
  },
  {
   "cell_type": "markdown",
   "metadata": {},
   "source": [
    "*Input `IME-4 Count`*"
   ]
  },
  {
   "cell_type": "markdown",
   "metadata": {},
   "source": [
    "The next colum is `IME-4 Count` which also has a high number of missing values. In this case, we started to explore the values that the variable already had."
   ]
  },
  {
   "cell_type": "code",
   "execution_count": null,
   "metadata": {},
   "outputs": [],
   "source": [
    "train_df['IME-4 Count'].unique()"
   ]
  },
  {
   "cell_type": "markdown",
   "metadata": {},
   "source": [
    "As this variables represents the number of IME-4 forms received per claim and its never 0, we reached the conclusion that the missing values mean that to IME4-forms was received for the claim. As such, we decided to replace the missing values with 0."
   ]
  },
  {
   "cell_type": "code",
   "execution_count": null,
   "metadata": {},
   "outputs": [],
   "source": [
    "train_df['IME-4 Count'] = train_df['IME-4 Count'].fillna(0)\n",
    "test_df['IME-4 Count'] = test_df['IME-4 Count'].fillna(0)"
   ]
  },
  {
   "cell_type": "markdown",
   "metadata": {},
   "source": [
    "*Some Conclusions*"
   ]
  },
  {
   "cell_type": "markdown",
   "metadata": {},
   "source": [
    "As for the other columns like `WCIO Part Of Body Description`, `WCIO Nature of Injury Description` and `WCIO Cause of Injury Description`, they are only essential to interpret the codes in the other columns so we decided not to do anything."
   ]
  },
  {
   "cell_type": "markdown",
   "metadata": {},
   "source": [
    "To conclude this section, we decided to see how many missing values we still have."
   ]
  },
  {
   "cell_type": "code",
   "execution_count": null,
   "metadata": {},
   "outputs": [],
   "source": [
    "# Display the percentage of missing values per column\n",
    "\n",
    "missing_values = train_df.isnull().sum() / len(train_df) * 100\n",
    "\n",
    "missing_values[missing_values > 0].sort_values(ascending=False)"
   ]
  },
  {
   "cell_type": "code",
   "execution_count": null,
   "metadata": {},
   "outputs": [],
   "source": [
    "# Display the percentage of missing values per column\n",
    "\n",
    "missing_values = test_df.isnull().sum() / len(test_df) * 100\n",
    "\n",
    "missing_values[missing_values > 0].sort_values(ascending=False)"
   ]
  },
  {
   "cell_type": "markdown",
   "metadata": {},
   "source": [
    "The variables `Age at Injury`, `Birth Year` and `Average Weekly Wage` will be inputed using the median. However, due to the high amount of missing values in the last one, there is a high chance that it will not be used. As for the other two, only one will be inputed because the other can be calculated after having the other one."
   ]
  },
  {
   "cell_type": "markdown",
   "metadata": {},
   "source": [
    "In the variable `First Hearing Date`, a blank space means the the claim has not yet had a hearing held. Additionally, missing values in `C2-Date` and `C3-Date` mean that the event is yet to happen. To distinguish this NAs from true missing values, we decided to replace them with -1. THis will be done in the section of feature engineering."
   ]
  },
  {
   "cell_type": "markdown",
   "metadata": {},
   "source": [
    "**Splitting the Data**"
   ]
  },
  {
   "cell_type": "code",
   "execution_count": null,
   "metadata": {},
   "outputs": [],
   "source": [
    "# Split train_df into training and validation sets\n",
    "training_df, validation_df = train_test_split(train_df, test_size=0.2, random_state=42)"
   ]
  },
  {
   "cell_type": "markdown",
   "metadata": {},
   "source": [
    "*Input `Age at Injury`*"
   ]
  },
  {
   "cell_type": "code",
   "execution_count": null,
   "metadata": {},
   "outputs": [],
   "source": [
    "# Calculate median of 'Age at Injury' in training_df\n",
    "age_at_injury_median = training_df['Age at Injury'].median()\n",
    "\n",
    "# Fill missing values in 'Age at Injury' in training_df using .loc\n",
    "training_df.loc[:, 'Age at Injury'] = training_df['Age at Injury'].fillna(age_at_injury_median)\n",
    "\n",
    "# Apply the median imputation to validation_df and test_df using .loc\n",
    "validation_df.loc[:, 'Age at Injury'] = validation_df['Age at Injury'].fillna(age_at_injury_median)\n",
    "test_df.loc[:, 'Age at Injury'] = test_df['Age at Injury'].fillna(age_at_injury_median)\n"
   ]
  },
  {
   "cell_type": "markdown",
   "metadata": {},
   "source": [
    "*Input `Birth Year`*"
   ]
  },
  {
   "cell_type": "code",
   "execution_count": null,
   "metadata": {},
   "outputs": [],
   "source": [
    "# Filter the rows where 'Birth Year' is NaN, but 'Age at Injury' and 'Accident Date' are not NaN\n",
    "condition = training_df['Birth Year'].isna() & training_df['Age at Injury'].notna() & training_df['Accident Date'].notna()\n",
    "# Replace missing 'Birth Year' with the difference between 'Accident Date' year and 'Age at Injury'\n",
    "training_df.loc[condition, 'Birth Year'] = training_df.loc[condition, 'Accident Date'].dt.year - training_df.loc[condition, 'Age at Injury']\n",
    "\n",
    "\n",
    "# Filter the rows where 'Birth Year' is NaN, but 'Age at Injury' and 'Accident Date' are not NaN\n",
    "condition = validation_df['Birth Year'].isna() & validation_df['Age at Injury'].notna() & validation_df['Accident Date'].notna()\n",
    "# Replace missing 'Birth Year' with the difference between 'Accident Date' year and 'Age at Injury'\n",
    "validation_df.loc[condition, 'Birth Year'] = validation_df.loc[condition, 'Accident Date'].dt.year - validation_df.loc[condition, 'Age at Injury']\n",
    "\n",
    "\n",
    "# Filter the rows where 'Birth Year' is NaN, but 'Age at Injury' and 'Accident Date' are not NaN in the test dataset\n",
    "condition = test_df['Birth Year'].isna() & test_df['Age at Injury'].notna() & test_df['Accident Date'].notna()\n",
    "# Replace missing 'Birth Year' with the difference between 'Accident Date' year and 'Age at Injury' where the condition is true\n",
    "test_df.loc[condition, 'Birth Year'] = test_df.loc[condition, 'Accident Date'].dt.year - test_df.loc[condition, 'Age at Injury']"
   ]
  },
  {
   "cell_type": "markdown",
   "metadata": {},
   "source": [
    "*Input `Average Weekly Wage`*"
   ]
  },
  {
   "cell_type": "code",
   "execution_count": null,
   "metadata": {},
   "outputs": [],
   "source": [
    "# Calculate median of 'Average Weekly Wage' in training_df\n",
    "average_wage_median = training_df['Average Weekly Wage'].median()\n",
    "\n",
    "# Fill missing values in 'Average Weekly Wage' in training_df using .loc\n",
    "training_df.loc[:, 'Average Weekly Wage'] = training_df['Average Weekly Wage'].fillna(average_wage_median)\n",
    "\n",
    "# Apply the median imputation to validation_df and test_df using .loc\n",
    "validation_df.loc[:, 'Average Weekly Wage'] = validation_df['Average Weekly Wage'].fillna(average_wage_median)\n",
    "test_df.loc[:, 'Average Weekly Wage'] = test_df['Average Weekly Wage'].fillna(average_wage_median)"
   ]
  },
  {
   "cell_type": "markdown",
   "metadata": {},
   "source": [
    "*Final Conclusions*"
   ]
  },
  {
   "cell_type": "markdown",
   "metadata": {},
   "source": [
    "Now, its time to verify that there are no more unexpected missing values. The features that are allowed to have NAs at this point are: `First Hearing Date`, `C-3 Date`, `WCIO Part Of Body Description`, `WCIO Nature of Injury Description `, `WCIO Cause of Injury Description` and `C-2 Date`."
   ]
  },
  {
   "cell_type": "code",
   "execution_count": null,
   "metadata": {},
   "outputs": [],
   "source": [
    "# Display the percentage of missing values per column\n",
    "\n",
    "missing_values = training_df.isnull().sum() / len(training_df) * 100\n",
    "\n",
    "missing_values[missing_values > 0].sort_values(ascending=False)"
   ]
  },
  {
   "cell_type": "code",
   "execution_count": null,
   "metadata": {},
   "outputs": [],
   "source": [
    "# Display the percentage of missing values per column\n",
    "\n",
    "missing_values = validation_df.isnull().sum() / len(validation_df) * 100\n",
    "\n",
    "missing_values[missing_values > 0].sort_values(ascending=False)"
   ]
  },
  {
   "cell_type": "code",
   "execution_count": null,
   "metadata": {},
   "outputs": [],
   "source": [
    "# Display the percentage of missing values per column\n",
    "\n",
    "missing_values = test_df.isnull().sum() / len(test_df) * 100\n",
    "\n",
    "missing_values[missing_values > 0].sort_values(ascending=False)"
   ]
  },
  {
   "cell_type": "markdown",
   "metadata": {},
   "source": [
    "#### <span style=\"color:salmon\"> 3.4 Removing Outliers </span> "
   ]
  },
  {
   "cell_type": "code",
   "execution_count": null,
   "metadata": {},
   "outputs": [],
   "source": [
    "# Cap Age at Injury at 100 to handle potential outliers\n",
    "#training_df['Age at Injury'] = np.where(training_df['Age at Injury'] > 100, 100, training_df['Age at Injury'])"
   ]
  },
  {
   "cell_type": "markdown",
   "metadata": {},
   "source": [
    "We use the method Z-score to identify the outliers based on the number of standard deviations from the mean. The threshold that we use is 3. That means that any data point with a Z-score beyond this range is considered an outlier. "
   ]
  },
  {
   "cell_type": "code",
   "execution_count": null,
   "metadata": {},
   "outputs": [],
   "source": [
    "training_df = training_df[(np.abs(stats.zscore(training_df)) < 3).all(axis=1)]"
   ]
  },
  {
   "cell_type": "markdown",
   "metadata": {},
   "source": [
    "## <span style=\"color:salmon\"> 4. Feature Engineering </span> "
   ]
  },
  {
   "cell_type": "markdown",
   "metadata": {},
   "source": [
    "#### <span style=\"color:salmon\"> 4.1 Creating New Features </span> "
   ]
  },
  {
   "cell_type": "markdown",
   "metadata": {},
   "source": [
    "*Date Features*\n",
    "\n",
    "Dates can hold a lot of valuable information. We can extract components like year, month, and day of the week, which may capture seasonality or trends.<br><br>\n",
    "For the date columns:<br>\n",
    "__1. Year, Month, Day:__ These could provide insights on seasonality.<br>\n",
    "__2. Day of Week:__ Useful for identifying patterns on specific days.<br>\n",
    "__3. Time Differences:__ Calculating time spans between dates can be useful for tracking progress or delays in cases."
   ]
  },
  {
   "cell_type": "code",
   "execution_count": null,
   "metadata": {},
   "outputs": [],
   "source": [
    "# List of date columns to extract components from\n",
    "date_columns = ['Accident Date', 'Assembly Date', 'C-2 Date', 'C-3 Date', 'First Hearing Date']\n",
    "\n",
    "# Loop through each date column and extract year, month, day, and day of the week\n",
    "for col in date_columns:\n",
    "    # Extract components from each date column, filling missing values with -1\n",
    "    training_df[f'{col}_Year'] = training_df[col].dt.year.fillna(-1).astype(int)\n",
    "    training_df[f'{col}_Month'] = training_df[col].dt.month.fillna(-1).astype(int)\n",
    "    training_df[f'{col}_Day'] = training_df[col].dt.day.fillna(-1).astype(int)\n",
    "    training_df[f'{col}_DayOfWeek'] = training_df[col].dt.dayofweek.fillna(-1).astype(int)"
   ]
  },
  {
   "cell_type": "code",
   "execution_count": null,
   "metadata": {},
   "outputs": [],
   "source": [
    "# List of date columns to extract components from\n",
    "date_columns = ['Accident Date', 'Assembly Date', 'C-2 Date', 'C-3 Date', 'First Hearing Date']\n",
    "\n",
    "# Loop through each date column and extract year, month, day, and day of the week\n",
    "for col in date_columns:\n",
    "    # Extract components from each date column, filling missing values with -1\n",
    "    validation_df[f'{col}_Year'] = validation_df[col].dt.year.fillna(-1).astype(int)\n",
    "    validation_df[f'{col}_Month'] = validation_df[col].dt.month.fillna(-1).astype(int)\n",
    "    validation_df[f'{col}_Day'] = validation_df[col].dt.day.fillna(-1).astype(int)\n",
    "    validation_df[f'{col}_DayOfWeek'] = validation_df[col].dt.dayofweek.fillna(-1).astype(int)"
   ]
  },
  {
   "cell_type": "code",
   "execution_count": null,
   "metadata": {},
   "outputs": [],
   "source": [
    "# List of date columns to extract components from\n",
    "date_columns = ['Accident Date', 'Assembly Date', 'C-2 Date', 'C-3 Date', 'First Hearing Date']\n",
    "\n",
    "# Loop through each date column and extract year, month, day, and day of the week\n",
    "for col in date_columns:\n",
    "    # Extract components from each date column in test_df, filling missing values with -1\n",
    "    test_df[f'{col}_Year'] = test_df[col].dt.year.fillna(-1).astype(int)\n",
    "    test_df[f'{col}_Month'] = test_df[col].dt.month.fillna(-1).astype(int)\n",
    "    test_df[f'{col}_Day'] = test_df[col].dt.day.fillna(-1).astype(int)\n",
    "    test_df[f'{col}_DayOfWeek'] = test_df[col].dt.dayofweek.fillna(-1).astype(int)"
   ]
  },
  {
   "cell_type": "markdown",
   "metadata": {},
   "source": [
    "*Calculate Time Differences*\n",
    "\n",
    "Create new columns to capture the elapsed time between key dates, which can help understand delays or the timeline of events."
   ]
  },
  {
   "cell_type": "code",
   "execution_count": null,
   "metadata": {},
   "outputs": [],
   "source": [
    "# Calculate the time difference between relevant dates\n",
    "training_df['Days_to_First_Hearing'] = (training_df['First Hearing Date'] - training_df['Accident Date']).dt.days\n",
    "training_df['Days_to_C2'] = (training_df['C-2 Date'] - training_df['Accident Date']).dt.days\n",
    "training_df['Days_to_C3'] = (training_df['C-3 Date'] - training_df['Accident Date']).dt.days"
   ]
  },
  {
   "cell_type": "markdown",
   "metadata": {},
   "source": [
    "Numerical features may benefit from transformations to reduce skewness or enhance interpretability."
   ]
  },
  {
   "cell_type": "markdown",
   "metadata": {},
   "source": [
    "*Age at Injury*"
   ]
  },
  {
   "cell_type": "code",
   "execution_count": null,
   "metadata": {},
   "outputs": [],
   "source": [
    "training_df['Age at Injury'].describe()"
   ]
  },
  {
   "cell_type": "markdown",
   "metadata": {},
   "source": [
    "__Binning:__ Group ages into categories like \"young\" or \"senior\" if such categories might capture different risk profiles.<br>"
   ]
  },
  {
   "cell_type": "code",
   "execution_count": null,
   "metadata": {},
   "outputs": [],
   "source": [
    "age_bins = [0, 25, 40, 55, 70, 100]\n",
    "age_labels = ['Young', 'Mid-Age', 'Experienced', 'Senior', 'Elderly']\n",
    "training_df['Age_Group'] = pd.cut(training_df['Age at Injury'], bins=age_bins, labels=age_labels)\n",
    "validation_df['Age_Group'] = pd.cut(validation_df['Age at Injury'], bins=age_bins, labels=age_labels)\n",
    "test_df['Age_Group'] = pd.cut(test_df['Age at Injury'], bins=age_bins, labels=age_labels)\n"
   ]
  },
  {
   "cell_type": "markdown",
   "metadata": {},
   "source": [
    "*Average Weekly Wage*"
   ]
  },
  {
   "cell_type": "markdown",
   "metadata": {},
   "source": [
    "Relative Wage Compared to Median Wage:<br>\n",
    "Calculate whether the injured worker’s wage is above or below the median wage for the dataset, it's potentially reflecting job type or socioeconomic factors."
   ]
  },
  {
   "cell_type": "code",
   "execution_count": null,
   "metadata": {},
   "outputs": [],
   "source": [
    "median_wage = training_df['Average Weekly Wage'].median()\n",
    "training_df['Relative_Wage'] = np.where(training_df['Average Weekly Wage'] > median_wage, 'Above Median', 'Below Median')\n",
    "validation_df['Relative_Wage'] = np.where(validation_df['Average Weekly Wage'] > median_wage, 'Above Median', 'Below Median')\n",
    "test_df['Relative_Wage'] = np.where(test_df['Average Weekly Wage'] > median_wage, 'Above Median', 'Below Median')"
   ]
  },
  {
   "cell_type": "markdown",
   "metadata": {},
   "source": [
    "*Seasonality of Accident Date*"
   ]
  },
  {
   "cell_type": "code",
   "execution_count": null,
   "metadata": {},
   "outputs": [],
   "source": [
    "# Apply the function to the 'Accident Date' column\n",
    "training_df['Accident_Season'] = training_df['Accident Date'].apply(get_season)\n",
    "validation_df['Accident_Season'] = validation_df['Accident Date'].apply(get_season)\n",
    "test_df['Accident_Season'] = test_df['Accident Date'].apply(get_season)\n"
   ]
  },
  {
   "cell_type": "markdown",
   "metadata": {},
   "source": [
    "*Accident Timing Indicator (Weekend or Holiday)*"
   ]
  },
  {
   "cell_type": "code",
   "execution_count": null,
   "metadata": {},
   "outputs": [],
   "source": [
    "# Flag public holidays\n",
    "training_df = flag_public_holiday_accidents(training_df, 'Accident Date')\n",
    "validation_df = flag_public_holiday_accidents(validation_df, 'Accident Date')\n",
    "test_df = flag_public_holiday_accidents(test_df, 'Accident Date')"
   ]
  },
  {
   "cell_type": "code",
   "execution_count": null,
   "metadata": {},
   "outputs": [],
   "source": [
    "# Flag weekends\n",
    "training_df = flag_weekend_accidents(training_df, 'Accident Date')\n",
    "validation_df = flag_weekend_accidents(validation_df, 'Accident Date')\n",
    "test_df = flag_weekend_accidents(test_df, 'Accident Date')"
   ]
  },
  {
   "cell_type": "markdown",
   "metadata": {},
   "source": [
    "#### <span style=\"color:salmon\"> 4.2 Transforming Existing Features </span> "
   ]
  },
  {
   "cell_type": "markdown",
   "metadata": {},
   "source": [
    "*Modifying `Alternative Dispute Resolution`*\n",
    "\n",
    "Before making any alterations, we decided to check the 5 cases with `U` in the variable `Alternative Disputer Resolution`."
   ]
  },
  {
   "cell_type": "code",
   "execution_count": null,
   "metadata": {},
   "outputs": [],
   "source": [
    "training_df[training_df['Alternative Dispute Resolution'] == 'U'].T"
   ]
  },
  {
   "cell_type": "markdown",
   "metadata": {},
   "source": [
    "Above, we can see that we have no data about the injury claim itself, so we decided to drop these rows."
   ]
  },
  {
   "cell_type": "code",
   "execution_count": null,
   "metadata": {},
   "outputs": [],
   "source": [
    "# Drop rows where 'Alternative Dispute Resolution' is 'U'\n",
    "training_df = training_df[training_df['Alternative Dispute Resolution'] != 'U']\n"
   ]
  },
  {
   "cell_type": "markdown",
   "metadata": {},
   "source": [
    "In the validation and test datasets the same can not be done. As such, the value `U` was replaced by the mode."
   ]
  },
  {
   "cell_type": "code",
   "execution_count": null,
   "metadata": {},
   "outputs": [],
   "source": [
    "test_df[test_df['Alternative Dispute Resolution'].isna()]"
   ]
  },
  {
   "cell_type": "code",
   "execution_count": null,
   "metadata": {},
   "outputs": [],
   "source": [
    "# Calculate the mode for 'Alternative Dispute Resolution' in training_df\n",
    "mode_alt_dispute_resol = training_df['Alternative Dispute Resolution'].mode()[0]\n",
    "\n",
    "# Replace 'U' with the mode in validation_df and test_df\n",
    "validation_df.loc[validation_df['Alternative Dispute Resolution'] == 'U', 'Alternative Dispute Resolution'] = mode_alt_dispute_resol\n",
    "test_df.loc[test_df['Alternative Dispute Resolution'] == 'U', 'Alternative Dispute Resolution'] = mode_alt_dispute_resol\n"
   ]
  },
  {
   "cell_type": "markdown",
   "metadata": {},
   "source": [
    "*Modifying `Carrier Type`*\n",
    "\n",
    "In the `Carrier Type` column, there are three values that are similar which represent different types of special funds. Only 9 special funds could be identified, leaving 1023 unkown. As such, we decided to join all of them in the unkown special funds."
   ]
  },
  {
   "cell_type": "code",
   "execution_count": null,
   "metadata": {},
   "outputs": [],
   "source": [
    "training_df['Carrier Type'] = training_df['Carrier Type'].replace({'5C. SPECIAL FUND - POI CARRIER WCB MENANDS': '5D. SPECIAL FUND - UNKNOWN'})\n",
    "training_df['Carrier Type'] = training_df['Carrier Type'].replace({'5A. SPECIAL FUND - CONS. COMM. (SECT. 25-A)': '5D. SPECIAL FUND - UNKNOWN'})\n",
    "\n",
    "validation_df['Carrier Type'] = validation_df['Carrier Type'].replace({'5C. SPECIAL FUND - POI CARRIER WCB MENANDS': '5D. SPECIAL FUND - UNKNOWN'})\n",
    "validation_df['Carrier Type'] = validation_df['Carrier Type'].replace({'5A. SPECIAL FUND - CONS. COMM. (SECT. 25-A)': '5D. SPECIAL FUND - UNKNOWN'})\n",
    "\n",
    "test_df['Carrier Type'] = test_df['Carrier Type'].replace({'5C. SPECIAL FUND - POI CARRIER WCB MENANDS': '5D. SPECIAL FUND - UNKNOWN'})\n",
    "test_df['Carrier Type'] = test_df['Carrier Type'].replace({'5A. SPECIAL FUND - CONS. COMM. (SECT. 25-A)': '5D. SPECIAL FUND - UNKNOWN'})"
   ]
  },
  {
   "cell_type": "markdown",
   "metadata": {},
   "source": [
    "*Modifying `Gender`*\n",
    "\n",
    "In the `Gender` column, we replaced the values `U` and `X` with `Unknown`. The value `U` typically indicates \"unknown\" or unspecified gender, while `X` may signify a non-binary identity. By combining these two values into `Unknown`, we simplify the data, making it easier to analyze and interpret."
   ]
  },
  {
   "cell_type": "code",
   "execution_count": null,
   "metadata": {},
   "outputs": [],
   "source": [
    "# Replace 'U' with 'Unknown'\n",
    "training_df['Gender'] = training_df['Gender'].replace({'U': 'Unknown'})\n",
    "# Replace 'X' with 'Unknown'\n",
    "training_df['Gender'] = training_df['Gender'].replace({'X': 'Unknown'})\n",
    "\n",
    "# Replace 'U' with 'Unknown'\n",
    "validation_df['Gender'] = validation_df['Gender'].replace({'U': 'Unknown'})\n",
    "# Replace 'X' with 'Unknown'\n",
    "validation_df['Gender'] = validation_df['Gender'].replace({'X': 'Unknown'})\n",
    "\n",
    "# Replace 'U' with 'Unknown'\n",
    "test_df['Gender'] = test_df['Gender'].replace({'U': 'Unknown'})\n",
    "# Replace 'X' with 'Unknown'\n",
    "test_df['Gender'] = test_df['Gender'].replace({'X': 'Unknown'})"
   ]
  },
  {
   "cell_type": "markdown",
   "metadata": {},
   "source": [
    "## <span style=\"color:salmon\"> 5. Other Visualizations </span> "
   ]
  },
  {
   "cell_type": "markdown",
   "metadata": {},
   "source": [
    "### <span style=\"color:yellow\"> Add visualizations with cleaned data </span> "
   ]
  },
  {
   "cell_type": "markdown",
   "metadata": {},
   "source": [
    "In this next section, we are going to verify how our changes afted the data starting by the numerical variables. We started by creating a correlation matrix."
   ]
  },
  {
   "cell_type": "code",
   "execution_count": null,
   "metadata": {},
   "outputs": [],
   "source": [
    "correlation_matrix = training_df[training_df[numerical_df.columns].columns].corr()\n",
    "sns.heatmap(correlation_matrix, annot=True, fmt=\".1f\", linewidth=.5, cmap=\"crest\")\n",
    "plt.show()"
   ]
  },
  {
   "cell_type": "markdown",
   "metadata": {},
   "source": [
    "##### <span style=\"color:yellow\"> VER OS VALORES </span> "
   ]
  },
  {
   "cell_type": "code",
   "execution_count": null,
   "metadata": {},
   "outputs": [],
   "source": [
    "selected_categorical_features = ['Alternative Dispute Resolution', 'Attorney/Representative', 'Carrier Type', 'County of Injury', 'COVID-19 Indicator',\n",
    "                     'District Name', 'Gender', 'Medical Fee Region', 'Industry Code Description', 'Agreement Reached', 'Claim Injury Type']\n",
    "\n",
    "for feature in selected_categorical_features:\n",
    "    plt.figure(figsize=(10, 6))\n",
    "    sns.countplot(x=training_df[feature], order=training_df[feature].value_counts().index)  # x instead of y\n",
    "    plt.title(f'Distribution of {feature}')\n",
    "    plt.xlabel(feature)\n",
    "    plt.ylabel(\"Count\")\n",
    "    plt.xticks(rotation=90)  # Optional: Rotate x-axis labels for readability\n",
    "    plt.show()"
   ]
  },
  {
   "cell_type": "markdown",
   "metadata": {},
   "source": [
    "## <span style=\"color:salmon\"> 6. Variable Encoding </span> "
   ]
  },
  {
   "cell_type": "markdown",
   "metadata": {},
   "source": [
    "To use the categorical variables, it is necessary to encode them as most models do not accept non-numerical values."
   ]
  },
  {
   "cell_type": "markdown",
   "metadata": {},
   "source": [
    "*Alternative Dispute Resolution*"
   ]
  },
  {
   "cell_type": "code",
   "execution_count": null,
   "metadata": {},
   "outputs": [],
   "source": [
    "# Initialize the encoder\n",
    "enc_adr = OneHotEncoder(sparse_output=False, drop='first')\n",
    "\n",
    "# Fit and transform on the training data\n",
    "training_df['Alternative Dispute Resolution'] = enc_adr.fit_transform(training_df[['Alternative Dispute Resolution']]).astype(int)\n",
    "\n",
    "# Transform the validation data using the same encoder\n",
    "validation_df['Alternative Dispute Resolution'] = enc_adr.transform(validation_df[['Alternative Dispute Resolution']]).astype(int)\n",
    "\n",
    "# Transform the test data using the same encoder\n",
    "test_df['Alternative Dispute Resolution'] = enc_adr.transform(test_df[['Alternative Dispute Resolution']]).astype(int)\n"
   ]
  },
  {
   "cell_type": "markdown",
   "metadata": {},
   "source": [
    "*Alternative Dispute Resolution*"
   ]
  },
  {
   "cell_type": "code",
   "execution_count": null,
   "metadata": {},
   "outputs": [],
   "source": [
    "# Initialize the encoder\n",
    "enc_ar = OneHotEncoder(sparse_output=False, drop='first')\n",
    "\n",
    "# Fit and transform on the training data\n",
    "training_df['Attorney/Representative'] = enc_ar.fit_transform(training_df[['Attorney/Representative']]).astype(int)\n",
    "\n",
    "# Transform the validation and test data using the same encoder\n",
    "validation_df['Attorney/Representative'] = enc_ar.transform(validation_df[['Attorney/Representative']]).astype(int)\n",
    "test_df['Attorney/Representative'] = enc_ar.transform(test_df[['Attorney/Representative']]).astype(int)\n"
   ]
  },
  {
   "cell_type": "markdown",
   "metadata": {},
   "source": [
    "*Carrier Type*"
   ]
  },
  {
   "cell_type": "code",
   "execution_count": null,
   "metadata": {},
   "outputs": [],
   "source": [
    "# Define the custom order of categories for 'Carrier Type'\n",
    "categories = [['UNKNOWN'] + sorted([cat for cat in training_df['Carrier Type'].unique() if cat != 'UNKNOWN'])]\n",
    "\n",
    "# Initialize the OrdinalEncoder with the predefined categories\n",
    "enc_ct = OrdinalEncoder(categories=categories)\n",
    "\n",
    "# Apply the encoder to 'Carrier Type' in the training set\n",
    "training_df['Carrier Type'] = enc_ct.fit_transform(training_df[['Carrier Type']]).astype(int)\n",
    "\n",
    "# Apply the same encoding to the 'Carrier Type' column in validation_df and test_df\n",
    "validation_df['Carrier Type'] = enc_ct.transform(validation_df[['Carrier Type']]).astype(int)\n",
    "test_df['Carrier Type'] = enc_ct.transform(test_df[['Carrier Type']]).astype(int)"
   ]
  },
  {
   "cell_type": "markdown",
   "metadata": {},
   "source": [
    "*County of Injury*"
   ]
  },
  {
   "cell_type": "code",
   "execution_count": null,
   "metadata": {},
   "outputs": [],
   "source": [
    "find_duplicate_frequencies_and_map(training_df, 'County of Injury' , validation_df, test_df)"
   ]
  },
  {
   "cell_type": "markdown",
   "metadata": {},
   "source": [
    "*COVID-19 Indicator*"
   ]
  },
  {
   "cell_type": "code",
   "execution_count": null,
   "metadata": {},
   "outputs": [],
   "source": [
    "# Initialize OneHotEncoder and fit it to the training data\n",
    "enc_covid = OneHotEncoder(sparse_output=False, drop='first')\n",
    "training_df['COVID-19 Indicator'] = enc_covid.fit_transform(training_df[['COVID-19 Indicator']]).astype(int)\n",
    "\n",
    "# Transform the validation and test data using the same encoder\n",
    "validation_df['COVID-19 Indicator'] = enc_covid.transform(validation_df[['COVID-19 Indicator']]).astype(int)\n",
    "test_df['COVID-19 Indicator'] = enc_covid.transform(test_df[['COVID-19 Indicator']]).astype(int)"
   ]
  },
  {
   "cell_type": "markdown",
   "metadata": {},
   "source": [
    "*District Name*"
   ]
  },
  {
   "cell_type": "code",
   "execution_count": null,
   "metadata": {},
   "outputs": [],
   "source": [
    "find_duplicate_frequencies_and_map(training_df, 'District Name', validation_df, test_df)"
   ]
  },
  {
   "cell_type": "markdown",
   "metadata": {},
   "source": [
    "*Gender*"
   ]
  },
  {
   "cell_type": "code",
   "execution_count": null,
   "metadata": {},
   "outputs": [],
   "source": [
    "# Perform one-hot encoding on 'Gender' in the training set\n",
    "enc_gender = OneHotEncoder(sparse_output=False, drop=None)\n",
    "encoded_gender = enc_gender.fit_transform(training_df[['Gender']])\n",
    "\n",
    "# Convert the encoded array to a DataFrame\n",
    "encoded_gender_train_df = pd.DataFrame(encoded_gender, columns=enc_gender.get_feature_names_out(['Gender']), index=training_df.index)\n",
    "\n",
    "# Concatenate the one-hot encoded gender columns to the original DataFrame\n",
    "training_df = pd.concat([training_df, encoded_gender_train_df], axis=1)\n",
    "\n",
    "# Drop 'Gender_Unknown' column as it is the baseline column (if drop='first' was used, it would be dropped automatically)\n",
    "training_df = training_df.drop('Gender_Unknown', axis=1)\n",
    "\n",
    "# Transform the validation and test data using the already fitted encoder\n",
    "encoded_gender_val = enc_gender.transform(validation_df[['Gender']])\n",
    "encoded_gender_val_df = pd.DataFrame(encoded_gender_val, columns=enc_gender.get_feature_names_out(['Gender']), index=validation_df.index)\n",
    "validation_df = pd.concat([validation_df, encoded_gender_val_df], axis=1)\n",
    "\n",
    "encoded_gender_test = enc_gender.transform(test_df[['Gender']])\n",
    "encoded_gender_test_df = pd.DataFrame(encoded_gender_test, columns=enc_gender.get_feature_names_out(['Gender']), index=test_df.index)\n",
    "test_df = pd.concat([test_df, encoded_gender_test_df], axis=1)\n",
    "\n",
    "# Drop 'Gender_Unknown' column in validation and test set, if necessary\n",
    "validation_df = validation_df.drop('Gender_Unknown', axis=1)\n",
    "test_df = test_df.drop('Gender_Unknown', axis=1)"
   ]
  },
  {
   "cell_type": "markdown",
   "metadata": {},
   "source": [
    "*Industry Code*"
   ]
  },
  {
   "cell_type": "code",
   "execution_count": null,
   "metadata": {},
   "outputs": [],
   "source": [
    "find_duplicate_frequencies_and_map(training_df, 'Industry Code', validation_df, test_df)"
   ]
  },
  {
   "cell_type": "markdown",
   "metadata": {},
   "source": [
    "*Medical Fee Region*"
   ]
  },
  {
   "cell_type": "code",
   "execution_count": null,
   "metadata": {},
   "outputs": [],
   "source": [
    "# Perform One-Hot Encoding for 'Medical Fee Region' in train_df\n",
    "enc_med_fee_reg = OneHotEncoder(sparse_output=False, drop=None)\n",
    "\n",
    "# Perform one-hot encoding and return as a dense array (not sparse)\n",
    "encoded_med_fee_reg = enc_med_fee_reg.fit_transform(train_df[['Medical Fee Region']])\n",
    "\n",
    "# Convert the array back to a DataFrame with aligned index\n",
    "encoded_med_fee_reg_train_df = pd.DataFrame(encoded_med_fee_reg, columns=enc_med_fee_reg.get_feature_names_out(['Medical Fee Region']), index=train_df.index)\n",
    "\n",
    "# Concatenate the one-hot encoded columns to the original training DataFrame\n",
    "train_df = pd.concat([train_df, encoded_med_fee_reg_train_df], axis=1)\n",
    "\n",
    "# Drop the 'Medical Fee Region_UK' column\n",
    "train_df = train_df.drop('Medical Fee Region_UK', axis=1)\n",
    "\n",
    "\n",
    "# Apply the same one-hot encoding to validation_df and test_df using the fitted encoder\n",
    "encoded_med_fee_reg_val = enc_med_fee_reg.transform(validation_df[['Medical Fee Region']])\n",
    "encoded_med_fee_reg_test = enc_med_fee_reg.transform(test_df[['Medical Fee Region']])\n",
    "\n",
    "# Convert the encoded arrays to DataFrames\n",
    "encoded_med_fee_reg_val_df = pd.DataFrame(encoded_med_fee_reg_val, columns=enc_med_fee_reg.get_feature_names_out(['Medical Fee Region']), index=validation_df.index)\n",
    "encoded_med_fee_reg_test_df = pd.DataFrame(encoded_med_fee_reg_test, columns=enc_med_fee_reg.get_feature_names_out(['Medical Fee Region']), index=test_df.index)\n",
    "\n",
    "# Concatenate the encoded columns to validation_df and test_df\n",
    "validation_df = pd.concat([validation_df, encoded_med_fee_reg_val_df], axis=1)\n",
    "test_df = pd.concat([test_df, encoded_med_fee_reg_test_df], axis=1)\n",
    "\n",
    "# Drop the 'Medical Fee Region_UK' column\n",
    "validation_df = validation_df.drop('Medical Fee Region_UK', axis=1)\n",
    "test_df = test_df.drop('Medical Fee Region_UK', axis=1)"
   ]
  },
  {
   "cell_type": "markdown",
   "metadata": {},
   "source": [
    "*WCIO Cause of Injury Code*"
   ]
  },
  {
   "cell_type": "code",
   "execution_count": null,
   "metadata": {},
   "outputs": [],
   "source": [
    "find_duplicate_frequencies_and_map(training_df, 'WCIO Cause of Injury Code', validation_df, test_df)"
   ]
  },
  {
   "cell_type": "markdown",
   "metadata": {},
   "source": [
    "*WCIO Nature of Injury Code*"
   ]
  },
  {
   "cell_type": "code",
   "execution_count": null,
   "metadata": {},
   "outputs": [],
   "source": [
    "find_duplicate_frequencies_and_map(training_df, 'WCIO Nature of Injury Code')"
   ]
  },
  {
   "cell_type": "markdown",
   "metadata": {},
   "source": [
    "#### <span style=\"color:yellow\"> Not encoded above</span> "
   ]
  },
  {
   "cell_type": "markdown",
   "metadata": {},
   "source": [
    "*WCIO Part of Body Code*"
   ]
  },
  {
   "cell_type": "code",
   "execution_count": null,
   "metadata": {},
   "outputs": [],
   "source": [
    "find_duplicate_frequencies_and_map(training_df, 'WCIO Part Of Body Code', validation_df, test_df)"
   ]
  },
  {
   "cell_type": "markdown",
   "metadata": {},
   "source": [
    "*Zip Code*"
   ]
  },
  {
   "cell_type": "code",
   "execution_count": null,
   "metadata": {},
   "outputs": [],
   "source": [
    "find_duplicate_frequencies_and_map(training_df, 'Zip Code')"
   ]
  },
  {
   "cell_type": "markdown",
   "metadata": {},
   "source": [
    "#### <span style=\"color:yellow\"> Not encoded above</span> "
   ]
  },
  {
   "cell_type": "markdown",
   "metadata": {},
   "source": [
    "*Claim Injury Type* - Target"
   ]
  },
  {
   "cell_type": "code",
   "execution_count": null,
   "metadata": {},
   "outputs": [],
   "source": [
    "# Create a sorted list of unique categories in the 'Claim Injury Type' column of training_df\n",
    "categories = sorted(cat for cat in training_df['Claim Injury Type'].unique())\n",
    "\n",
    "# Initialize a LabelEncoder\n",
    "label_encoder = LabelEncoder()\n",
    "\n",
    "# Fit the LabelEncoder to the training data\n",
    "label_encoder.fit(categories)\n",
    "\n",
    "# Encode the 'Claim Injury Type' column in training_df\n",
    "training_df['Claim Injury Type Encoded'] = label_encoder.transform(training_df['Claim Injury Type'])\n",
    "\n",
    "# Encode the 'Claim Injury Type' in validation_df using the same encoder\n",
    "validation_df['Claim Injury Type Encoded'] = label_encoder.transform(validation_df['Claim Injury Type'])\n",
    "# As it is the target, it is not applied to the test_df because it does not exist\n"
   ]
  },
  {
   "cell_type": "markdown",
   "metadata": {},
   "source": [
    "## <span style=\"color:salmon\"> 7. Scaling </span> "
   ]
  },
  {
   "cell_type": "markdown",
   "metadata": {},
   "source": [
    "#### <span style=\"color:yellow\"> Select the necessary variables</span> "
   ]
  },
  {
   "cell_type": "code",
   "execution_count": null,
   "metadata": {},
   "outputs": [],
   "source": [
    "# Define your list of selected features\n",
    "selected_features = ['Age at Injury', 'Average Weekly Wage', 'Accident Date_Year', 'Accident Date_Month']  \n",
    "\n",
    "# Initialize MinMaxScaler\n",
    "scaler = MinMaxScaler()\n",
    "\n",
    "# Fit and transform the training set with selected features\n",
    "train_scaled = scaler.fit_transform(training_df[selected_features])\n",
    "\n",
    "# Transform the validation set (using the same scaler)\n",
    "validation_scaled = scaler.transform(validation_df[selected_features])\n",
    "\n",
    "# Transform the test set (using the same scaler)\n",
    "test_scaled = scaler.transform(test_df[selected_features])\n",
    "\n",
    "# Convert back to DataFrame if needed, with original column names\n",
    "train_scaled_df = pd.DataFrame(train_scaled, columns=selected_features)\n",
    "validation_scaled_df = pd.DataFrame(validation_scaled, columns=selected_features)\n",
    "test_scaled_df = pd.DataFrame(test_scaled, columns=selected_features)"
   ]
  },
  {
   "cell_type": "markdown",
   "metadata": {},
   "source": [
    "## <span style=\"color:salmon\"> 8. Feature Selection </span> "
   ]
  },
  {
   "cell_type": "markdown",
   "metadata": {},
   "source": [
    "#### <span style=\"color:yellow\"> To do: traininng dataset only</span> "
   ]
  },
  {
   "cell_type": "markdown",
   "metadata": {},
   "source": [
    "#### <span style=\"color:salmon\"> 8.1 Chi-Squared Test  </span> "
   ]
  },
  {
   "cell_type": "code",
   "execution_count": null,
   "metadata": {},
   "outputs": [],
   "source": [
    "for var in categorical_df.columns:\n",
    "    TestIndependence(training_df[var],training_df['Claim Injury Type'], var)"
   ]
  },
  {
   "cell_type": "markdown",
   "metadata": {},
   "source": [
    "## <span style=\"color:salmon\"> 9. Export Dataset </span> "
   ]
  },
  {
   "cell_type": "markdown",
   "metadata": {},
   "source": [
    "### <span style=\"color:yellow\"> Export clean dataset </span> "
   ]
  },
  {
   "cell_type": "markdown",
   "metadata": {},
   "source": [
    "#### <span style=\"color:yellow\"> To do: Start running models in the other notebook</span> "
   ]
  }
 ],
 "metadata": {
  "kernelspec": {
   "display_name": "ML2425",
   "language": "python",
   "name": "python3"
  },
  "language_info": {
   "codemirror_mode": {
    "name": "ipython",
    "version": 3
   },
   "file_extension": ".py",
   "mimetype": "text/x-python",
   "name": "python",
   "nbconvert_exporter": "python",
   "pygments_lexer": "ipython3",
   "version": "3.10.15"
  }
 },
 "nbformat": 4,
 "nbformat_minor": 4
}
