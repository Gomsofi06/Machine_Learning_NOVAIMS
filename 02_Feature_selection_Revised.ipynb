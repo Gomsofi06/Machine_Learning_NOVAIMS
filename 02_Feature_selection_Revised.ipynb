{
 "cells": [
  {
   "cell_type": "markdown",
   "metadata": {},
   "source": [
    "# <center>Machine Learning Project</center>\n",
    "\n",
    "** **\n",
    "## <center>*02 - Feature Selection*</center>\n",
    "\n",
    "** **\n",
    "\n",
    "The members of the `team` are:\n",
    "- Ana Farinha - 20211514\n",
    "- Francisco Capontes - 20211692\n",
    "- Sofia Gomes - 20240848\n",
    "- Rui Lourenço - 2021639\n",
    "\n",
    "## <span style=\"color:salmon\"> Table of Contents </span>\n",
    "\n",
    "<a class=\"anchor\" id=\"top\"></a>\n",
    "\n",
    "\n",
    "1. [Filter Methods](#1-filter-methods)<br>  \n",
    "    1.1 [Univariate Variables](#11-univariate-variables)<br>  \n",
    "    1.2 [Correlation Indices](#12-correlation-indices)<br>    \n",
    "    1.3 [Chi-Squared](#13-chi-squared)<br><br>     \n",
    "2. [Wrapper Methods](#2-wrapper-methods)<br>    \n",
    "    2.1 [Logistic Regression](#21-logistic-regression)<br>    \n",
    "    2.2 [Support Vector Machine](#22-support-vector-machine)<br><br>      \n",
    "3. [Embedded Methods](#3-embedded-methods)<br>     \n",
    "    3.1 [LassoCV](#31-lassocv)<br>  \n",
    "\n"
   ]
  },
  {
   "cell_type": "code",
   "execution_count": 18,
   "metadata": {},
   "outputs": [
    {
     "name": "stdout",
     "output_type": "stream",
     "text": [
      "The autoreload extension is already loaded. To reload it, use:\n",
      "  %reload_ext autoreload\n"
     ]
    }
   ],
   "source": [
    "# Import libraries\n",
    "import numpy as np\n",
    "import pandas as pd\n",
    "import matplotlib.pyplot as plt\n",
    "import seaborn as sns\n",
    "sns.set()\n",
    "\n",
    "# Sklearn packages\n",
    "from sklearn.preprocessing import StandardScaler, MinMaxScaler\n",
    "from sklearn.model_selection import train_test_split\n",
    "from sklearn.impute import KNNImputer\n",
    "from sklearn.model_selection import StratifiedKFold\n",
    "from sklearn.preprocessing import LabelEncoder\n",
    "from sklearn.metrics import classification_report, f1_score\n",
    "\n",
    "# Models\n",
    "from sklearn.tree import DecisionTreeClassifier\n",
    "from xgboost import XGBClassifier\n",
    "import lightgbm as lgb\n",
    "\n",
    "# embedded methods\n",
    "from sklearn.linear_model import LassoCV\n",
    "import scipy.stats as stats\n",
    "from scipy.stats import chi2_contingency\n",
    "from sklearn.feature_selection import RFE\n",
    "\n",
    "import warnings\n",
    "warnings.filterwarnings('ignore')\n",
    "\n",
    "from utils import *\n",
    "from utils_feature_selection import *\n",
    "from utils_dicts import numerical_features, categorical_features\n",
    "\n",
    "%load_ext autoreload\n",
    "%autoreload 2"
   ]
  },
  {
   "cell_type": "markdown",
   "metadata": {},
   "source": [
    "# No train temos de input:\n",
    "- Average Weekly Wage\n",
    "- Age at Injury\n",
    "\n",
    "- Based on the new Age at Injury calcular o Birth Year"
   ]
  },
  {
   "cell_type": "markdown",
   "metadata": {},
   "source": [
    "*Input `Birth Year`*"
   ]
  },
  {
   "cell_type": "code",
   "execution_count": 8,
   "metadata": {},
   "outputs": [],
   "source": [
    "# Import dataset\n",
    "train_df = pd.read_csv('preprocessed_data/train_data.csv', index_col=\"Claim Identifier\")\n",
    "test_df =  pd.read_csv('preprocessed_data/test_data.csv', index_col=\"Claim Identifier\")"
   ]
  },
  {
   "cell_type": "code",
   "execution_count": 9,
   "metadata": {},
   "outputs": [
    {
     "name": "stdout",
     "output_type": "stream",
     "text": [
      "Age at Injury: 0.40% missing values\n",
      "Average Weekly Wage: 63.43% missing values\n",
      "Birth Year: 0.40% missing values\n",
      "Industry Code: 1.73% missing values\n",
      "WCIO Cause of Injury Code: 2.72% missing values\n",
      "WCIO Nature of Injury Code: 2.73% missing values\n",
      "WCIO Part Of Body Code: 2.98% missing values\n",
      "Zip Code: 4.99% missing values\n"
     ]
    }
   ],
   "source": [
    "missing_percentage = train_df.isna().sum() / len(train_df) * 100\n",
    "for col, percent in missing_percentage.items():\n",
    "    if not percent == 0:\n",
    "        print(f\"{col}: {percent:.2f}% missing values\")"
   ]
  },
  {
   "cell_type": "code",
   "execution_count": 10,
   "metadata": {},
   "outputs": [
    {
     "name": "stdout",
     "output_type": "stream",
     "text": [
      "'Accident Date',\n",
      "'County of Injury',\n",
      "'District Name',\n",
      "'Industry Code',\n",
      "'WCIO Cause of Injury Code',\n",
      "'WCIO Nature of Injury Code',\n",
      "'WCIO Part Of Body Code',\n",
      "'Zip Code',\n",
      "'Claim Injury Type Encoded',\n"
     ]
    }
   ],
   "source": [
    "for col in train_df.columns:\n",
    "    if not (col in numerical_features or col in categorical_features):\n",
    "        print(f\"'{col}',\")"
   ]
  },
  {
   "cell_type": "code",
   "execution_count": 19,
   "metadata": {},
   "outputs": [
    {
     "name": "stdout",
     "output_type": "stream",
     "text": [
      "'Enc County of Injury',\n",
      "'Enc District Name',\n",
      "'Enc Industry Code',\n",
      "'Enc WCIO Cause of Injury Code',\n",
      "'Enc WCIO Nature of Injury Code',\n",
      "'Enc WCIO Part Of Body Code',\n",
      "'Enc Zip Code',\n"
     ]
    }
   ],
   "source": [
    "for col in numerical_features+categorical_features:\n",
    "    if col not in train_df.columns:\n",
    "        print(f\"'{col}',\")"
   ]
  },
  {
   "cell_type": "code",
   "execution_count": null,
   "metadata": {},
   "outputs": [],
   "source": [
    "X = train_df.drop([\"Claim Injury Type Encoded\"], axis = 1)\n",
    "y = train_df[\"Claim Injury Type Encoded\"]"
   ]
  },
  {
   "cell_type": "code",
   "execution_count": null,
   "metadata": {},
   "outputs": [],
   "source": [
    "X_train, X_val, y_train, y_val = train_test_split(X,y, test_size = 0.25, stratify = y, shuffle = True)"
   ]
  },
  {
   "cell_type": "code",
   "execution_count": null,
   "metadata": {},
   "outputs": [],
   "source": [
    "apply_frequency_encoding(X_train,X_val)"
   ]
  },
  {
   "cell_type": "code",
   "execution_count": null,
   "metadata": {},
   "outputs": [],
   "source": [
    "for col in train_df.columns:\n",
    "    if not (col in numerical_features or col in categorical_features):\n",
    "        print(f\"'{col}',\")"
   ]
  },
  {
   "cell_type": "code",
   "execution_count": null,
   "metadata": {},
   "outputs": [],
   "source": [
    "for col in numerical_features+categorical_features:\n",
    "    if col not in train_df.columns:\n",
    "        print(f\"'{col}',\")"
   ]
  },
  {
   "cell_type": "markdown",
   "metadata": {},
   "source": [
    "# Input Age at Injury, Birth Year and Average Weekly Wage"
   ]
  },
  {
   "cell_type": "code",
   "execution_count": null,
   "metadata": {},
   "outputs": [],
   "source": [
    "to_impute = [\"Age at Injury\",\"Average Weekly Wage\"]\n",
    "imputation_value  = X_train[to_impute].median()\n",
    "for col in to_impute:\n",
    "        X_train[col].fillna(imputation_value[col], inplace=True)\n",
    "        X_val[col].fillna(imputation_value[col], inplace=True)"
   ]
  },
  {
   "cell_type": "code",
   "execution_count": null,
   "metadata": {},
   "outputs": [],
   "source": [
    "# Ensure 'Accident Date' is in datetime format\n",
    "X_train['Accident Date'] = pd.to_datetime(X_train['Accident Date'], errors='coerce')\n",
    "X_val['Accident Date'] = pd.to_datetime(X_val['Accident Date'], errors='coerce')\n",
    "\n",
    "# Now apply your logic\n",
    "condition = X_train['Birth Year'].isna() & X_train['Age at Injury'].notna() & X_train['Accident Date'].notna()\n",
    "X_train.loc[condition, 'Birth Year'] = X_train.loc[condition, 'Accident Date'].dt.year - X_train.loc[condition, 'Age at Injury']\n",
    "\n",
    "# Filter the rows where 'Birth Year' is NaN, but 'Age at Injury' and 'Accident Date' are not NaN\n",
    "condition = X_val['Birth Year'].isna() & X_val['Age at Injury'].notna() & X_val['Accident Date'].notna()\n",
    "# Replace missing 'Birth Year' with the difference between 'Accident Date' year and 'Age at Injury'\n",
    "X_val.loc[condition, 'Birth Year'] = X_val.loc[condition, 'Accident Date'].dt.year - X_val.loc[condition, 'Age at Injury']"
   ]
  },
  {
   "cell_type": "code",
   "execution_count": null,
   "metadata": {},
   "outputs": [],
   "source": [
    "X_train.drop('Accident Date',axis=1,inplace=True)\n",
    "X_val.drop('Accident Date',axis=1,inplace=True)"
   ]
  },
  {
   "cell_type": "markdown",
   "metadata": {},
   "source": [
    "# Creating New Features"
   ]
  },
  {
   "cell_type": "markdown",
   "metadata": {},
   "source": [
    "*Average Weekly Wage*\n",
    "\n",
    "Relative Wage Compared to Median Wage:<br>\n",
    "Calculate whether the injured worker’s wage is above or below the median wage for the dataset, it's potentially reflecting job type or socioeconomic factors."
   ]
  },
  {
   "cell_type": "code",
   "execution_count": null,
   "metadata": {},
   "outputs": [],
   "source": [
    "median_wage = X_train['Average Weekly Wage'].median()\n",
    "X_train['Relative_Wage'] = np.where(X_train['Average Weekly Wage'] > median_wage, 1,0) #('Above Median', 'Below Median')\n",
    "X_val['Relative_Wage'] = np.where(X_val['Average Weekly Wage'] > median_wage, 1,0) #('Above Median', 'Below Median')"
   ]
  },
  {
   "cell_type": "markdown",
   "metadata": {},
   "source": [
    "*Financial Impact*"
   ]
  },
  {
   "cell_type": "code",
   "execution_count": null,
   "metadata": {},
   "outputs": [],
   "source": [
    "financial_impact(X_train)\n",
    "financial_impact(X_val)"
   ]
  },
  {
   "cell_type": "markdown",
   "metadata": {},
   "source": [
    "__Binning:__ Group ages into categories like \"young\" or \"senior\" if such categories might capture different risk profiles.<br>"
   ]
  },
  {
   "cell_type": "code",
   "execution_count": null,
   "metadata": {},
   "outputs": [],
   "source": [
    "age_bins = [0, 25, 40, 55, 70, 100]\n",
    "age_labels = [0,1,2,3,4] #['Young', 'Mid-Age', 'Experienced', 'Senior', 'Elderly']\n",
    "X_train['Age_Group'] = pd.cut(X_train['Age at Injury'], bins=age_bins, labels=age_labels)\n",
    "X_val['Age_Group'] = pd.cut(X_val['Age at Injury'], bins=age_bins, labels=age_labels)"
   ]
  },
  {
   "cell_type": "markdown",
   "metadata": {},
   "source": [
    "# Scaling"
   ]
  },
  {
   "cell_type": "code",
   "execution_count": null,
   "metadata": {},
   "outputs": [],
   "source": [
    "st = StandardScaler()\n",
    "X_train[numerical_features] = st.fit_transform(X_train[numerical_features])\n",
    "X_val[numerical_features] = st.transform(X_val[numerical_features])"
   ]
  },
  {
   "cell_type": "markdown",
   "metadata": {},
   "source": [
    "# Feature Selection"
   ]
  },
  {
   "cell_type": "code",
   "execution_count": null,
   "metadata": {},
   "outputs": [],
   "source": [
    "n_features = len(X_train.columns)"
   ]
  },
  {
   "cell_type": "markdown",
   "metadata": {},
   "source": [
    "*Univariate variables*"
   ]
  },
  {
   "cell_type": "code",
   "execution_count": null,
   "metadata": {},
   "outputs": [],
   "source": [
    "X_train[numerical_features].var().sort_values()"
   ]
  },
  {
   "cell_type": "markdown",
   "metadata": {},
   "source": [
    "*Corr Matrix*"
   ]
  },
  {
   "cell_type": "code",
   "execution_count": null,
   "metadata": {},
   "outputs": [],
   "source": [
    "# initial correlation matrix with the respective values\n",
    "corr_matrix = X_train[numerical_features].corr()\n",
    "\n",
    "mask = np.tri(*corr_matrix.shape, k=0, dtype=bool)\n",
    "# Keeps values where mask is True\n",
    "corr_matrix = corr_matrix.where(mask)\n",
    "\n",
    "# defines the figure size\n",
    "fig, ax = plt.subplots(figsize=(20, 20))\n",
    "# heatmap of the initial correlation matrix\n",
    "l = sns.heatmap(corr_matrix, square=True, annot=True, fmt=\".2f\", vmax=1, vmin=-1, cmap='RdBu', ax=ax)\n",
    "plt.title('Correlation Between Variables', size=14)\n",
    "plt.show()"
   ]
  },
  {
   "cell_type": "markdown",
   "metadata": {},
   "source": [
    "*XGBoosted RFE*"
   ]
  },
  {
   "cell_type": "code",
   "execution_count": null,
   "metadata": {},
   "outputs": [],
   "source": [
    "XGB = XGBClassifier(XGBClassifier(max_depth=5, learning_rate= 0.2, n_estimators= 200))"
   ]
  },
  {
   "cell_type": "code",
   "execution_count": null,
   "metadata": {},
   "outputs": [],
   "source": [
    "best_XGB = feature_selection_RFE(X_train,y_train,n_features,model=XGB)"
   ]
  },
  {
   "cell_type": "code",
   "execution_count": null,
   "metadata": {},
   "outputs": [],
   "source": [
    "best_XGB"
   ]
  },
  {
   "cell_type": "markdown",
   "metadata": {},
   "source": [
    "*Gradient Boosted RFE*"
   ]
  },
  {
   "cell_type": "code",
   "execution_count": null,
   "metadata": {},
   "outputs": [],
   "source": [
    "LGB = lgb.LGBMClassifier(verbose=-1)"
   ]
  },
  {
   "cell_type": "code",
   "execution_count": null,
   "metadata": {
    "scrolled": true
   },
   "outputs": [],
   "source": [
    "best_LGB =feature_selection_RFE(X_train,y_train,n_features,model=LGB)"
   ]
  },
  {
   "cell_type": "code",
   "execution_count": null,
   "metadata": {},
   "outputs": [],
   "source": [
    "best_LGB"
   ]
  },
  {
   "cell_type": "markdown",
   "metadata": {},
   "source": [
    "*Decision Tree feature importance*"
   ]
  },
  {
   "cell_type": "code",
   "execution_count": null,
   "metadata": {},
   "outputs": [],
   "source": [
    "dt = DecisionTreeClassifier(max_depth=5, min_samples_leaf=10, class_weight='balanced').fit(X_train,y_train)"
   ]
  },
  {
   "cell_type": "code",
   "execution_count": null,
   "metadata": {},
   "outputs": [],
   "source": [
    "feature_importances = dt.feature_importances_\n",
    "feature_importance_df = pd.DataFrame({\n",
    "    'Feature': X_train.columns,\n",
    "    'Importance': feature_importances\n",
    "})\n",
    "\n",
    "feature_importance_df = feature_importance_df.sort_values(by='Importance', ascending=False)"
   ]
  },
  {
   "cell_type": "code",
   "execution_count": null,
   "metadata": {},
   "outputs": [],
   "source": [
    "feature_importance_df"
   ]
  },
  {
   "cell_type": "markdown",
   "metadata": {},
   "source": [
    "*Lasso*"
   ]
  },
  {
   "cell_type": "code",
   "execution_count": null,
   "metadata": {},
   "outputs": [],
   "source": [
    "feature_selection_Lasso(X_train,y_train)"
   ]
  },
  {
   "cell_type": "markdown",
   "metadata": {},
   "source": [
    "*Chi-squared test*"
   ]
  },
  {
   "cell_type": "code",
   "execution_count": null,
   "metadata": {},
   "outputs": [],
   "source": [
    "for col in categorical_features:\n",
    "    TestIndependence(X_train[col],y_train,col,alpha=0.05)"
   ]
  },
  {
   "cell_type": "markdown",
   "metadata": {},
   "source": [
    "<hr>\n",
    "\n",
    "### Numerical Data\n",
    "\n",
    "| Predictor | Spearman | RFE XGB| RFE LGB | Lasso | Feature Importance DT | What to do? (One possible way to \\\"solve\\\") |\n",
    "| --- | --- | --- | --- |--- |--- |---|\n",
    "| Age at Injury | Keep | Keep | Keep | Discard | Discard | Try with and without |\n",
    "| IME-4 Count | Keep | Keep | Keep | Include | Keep | Include in the model |\n",
    "| Days_to_First_Hearing | Keep | Keep | Keep | Include | Keep | Include in the model |\n",
    "| Days_to_C2 | Keep | Discard | Discard | Discard | Discard | Discard |\n",
    "| Days_to_C3 | Keep | Discard | Discard | Discard | Discard | Discard |\n",
    "| Average Weekly Wage | Keep | Keep | Keep | Include | Keep | Include in the model |\n",
    "| Birth Year | Keep | Keep | Keep | Discard | Discard | Try with and without |\n",
    "| Number of Dependents | Keep | Discard | Keep | Discard | Discard | Discard |\n",
    "| C-2 Date_Year | Keep | Keep | Keep | Include | Keep | Include in the model |\n",
    "| C-2 Date_Month | Keep | Discard | Discard | Discard | Discard | Discard |\n",
    "| C-2 Date_Day | Keep | Discard | Discard | Discard | Discard | Discard |\n",
    "| C-2 Date_DayOfWeek | Keep | Discard | Discard | Discard | Discard | Discard |\n",
    "| C-3 Date_Year | Keep | Keep | Keep | Include | Keep | Include in the model |\n",
    "| C-3 Date_Month | Keep | Discard | Discard | Discard | Discard | Discard |\n",
    "| C-3 Date_Day | Keep | Keep | Discard | Include | Discard | Try with and without |\n",
    "| First Hearing Date_Year | Keep | Keep | Keep | Include | Keep | Include in the model |\n",
    "| First Hearing Date_Month | Keep | Keep | Keep | Discard | Discard | Try with and without |\n",
    "| First Hearing Date_Day | Keep | Discard | Discard | Discard | Discard | Discard |\n",
    "| First Hearing Date_DayOfWeek | Keep | Discard | Discard | Discard | Discard | Discard |\n",
    "\n",
    "<hr>\n",
    "\n",
    "### Categorical Data\n",
    "\n",
    "| Predictor | Spearman | Chi-Square |\n",
    "| --- | --- | --- |\n",
    "| County of Injury | Keep | Keep |\n",
    "| District Name | Keep | Keep |\n",
    "| Industry Code | Keep | Keep |\n",
    "| Medical Fee Region | Keep | Keep |\n",
    "| Attorney/Representative | Keep | Keep |\n",
    "| COVID-19 Indicator | Keep | Keep |\n",
    "| Known C-2 Date | Keep | Keep |\n",
    "| Known C-3 Date | Keep | Keep |\n",
    "| Known First Hearing Date | Keep | Keep |\n",
    "| Accident Date_Year | Keep | Keep |\n",
    "| Accident Date_Month | Keep | Keep |\n",
    "| Accident Date_Day | Keep | Keep |\n",
    "| Gender_F | Keep | Keep |\n",
    "| Gender_M | Keep | Keep |\n",
    "| Weekend_Accident | Keep | Keep |\n",
    "\n",
    "<hr>"
   ]
  },
  {
   "cell_type": "code",
   "execution_count": null,
   "metadata": {},
   "outputs": [],
   "source": [
    "#test_encoder = LabelEncoder()\n",
    "#test_encoder.classes_ = target_decoder()"
   ]
  },
  {
   "cell_type": "code",
   "execution_count": null,
   "metadata": {},
   "outputs": [],
   "source": []
  },
  {
   "cell_type": "code",
   "execution_count": null,
   "metadata": {},
   "outputs": [],
   "source": []
  },
  {
   "cell_type": "code",
   "execution_count": null,
   "metadata": {},
   "outputs": [],
   "source": []
  }
 ],
 "metadata": {
  "kernelspec": {
   "display_name": "Python 3 (ipykernel)",
   "language": "python",
   "name": "python3"
  },
  "language_info": {
   "codemirror_mode": {
    "name": "ipython",
    "version": 3
   },
   "file_extension": ".py",
   "mimetype": "text/x-python",
   "name": "python",
   "nbconvert_exporter": "python",
   "pygments_lexer": "ipython3",
   "version": "3.12.6"
  }
 },
 "nbformat": 4,
 "nbformat_minor": 4
}
