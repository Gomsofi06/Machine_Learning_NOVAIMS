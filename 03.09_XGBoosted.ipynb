{
 "cells": [
  {
   "cell_type": "markdown",
   "metadata": {},
   "source": [
    "# <center>Machine Learning Project</center>\n",
    "\n",
    "** **\n",
    "## <center>*03.9 - XGBBoosted*</center>\n",
    "\n",
    "** **\n",
    "\n",
    "The members of the `team` are:\n",
    "- Ana Farinha - 20211514\n",
    "- Francisco Capontes - 20211692\n",
    "- Sofia Gomes - 20240848\n",
    "- Rui Lourenço - 2021639\n",
    "\n"
   ]
  },
  {
   "cell_type": "code",
   "execution_count": 1,
   "metadata": {},
   "outputs": [],
   "source": [
    "# Import libraries\n",
    "import pandas as pd\n",
    "import numpy as np\n",
    "\n",
    "#make the split here\n",
    "from sklearn.model_selection import train_test_split\n",
    "from sklearn.linear_model import LogisticRegression\n",
    "from sklearn.preprocessing import StandardScaler\n",
    "from sklearn.metrics import confusion_matrix, classification_report\n",
    "\n",
    "import seaborn as sns\n",
    "import matplotlib.pyplot as plt\n",
    "\n",
    "from sklearn.metrics import accuracy_score\n",
    "from sklearn.metrics import f1_score\n",
    "from sklearn.metrics import precision_score\n",
    "from xgboost import XGBClassifier\n",
    "\n",
    "from sklearn.model_selection import StratifiedKFold\n",
    "import time\n",
    "\n",
    "from utils import *\n",
    "from utils_feature_selection import check_performace\n",
    "from utils_dicts import *\n",
    "\n",
    "import warnings\n",
    "warnings.filterwarnings('ignore')"
   ]
  },
  {
   "cell_type": "markdown",
   "metadata": {},
   "source": [
    "## <span style=\"color:salmon\"> 1. Import Dataset </span> "
   ]
  },
  {
   "cell_type": "code",
   "execution_count": 2,
   "metadata": {},
   "outputs": [],
   "source": [
    "# Import dataset\n",
    "train_df = pd.read_csv('preprocessed_data/train_data.csv', index_col=\"Claim Identifier\")"
   ]
  },
  {
   "cell_type": "code",
   "execution_count": 3,
   "metadata": {},
   "outputs": [],
   "source": [
    "# Import dataset\n",
    "test_df = pd.read_csv('./preprocessed_data/test_data.csv', index_col = 'Claim Identifier')"
   ]
  },
  {
   "cell_type": "code",
   "execution_count": 4,
   "metadata": {},
   "outputs": [],
   "source": [
    "# Define Feature Selection: essential_features, reduced_features or []\n",
    "feature_selection = []"
   ]
  },
  {
   "cell_type": "markdown",
   "metadata": {},
   "source": [
    "## <span style=\"color:salmon\"> 2. Prepare Dataset </span> "
   ]
  },
  {
   "cell_type": "markdown",
   "metadata": {},
   "source": [
    "Define y as a target \"Claim Injury Type Encoded\" and X with all the other columns"
   ]
  },
  {
   "cell_type": "code",
   "execution_count": 5,
   "metadata": {},
   "outputs": [],
   "source": [
    "X = train_df.drop([\"Claim Injury Type Encoded\"], axis = 1)\n",
    "y = train_df[\"Claim Injury Type Encoded\"]"
   ]
  },
  {
   "cell_type": "markdown",
   "metadata": {},
   "source": [
    "## <span style=\"color:salmon\"> 3. XGBoosted </span> "
   ]
  },
  {
   "cell_type": "code",
   "execution_count": 6,
   "metadata": {},
   "outputs": [],
   "source": [
    "#config = {'max_depth': 6, 'learning_rate': 0.15, 'n_estimators': 100}"
   ]
  },
  {
   "cell_type": "code",
   "execution_count": 7,
   "metadata": {},
   "outputs": [],
   "source": [
    "#model = XGBClassifier(\n",
    "#        max_depth=config[\"max_depth\"],\n",
    "#        learning_rate=config[\"learning_rate\"],\n",
    "#        n_estimators=config[\"n_estimators\"],\n",
    "#        num_class=8, \n",
    "#        objective=\"multi:softmax\",\n",
    "#        eval_metric=\"merror\",\n",
    "#        verbose = 0\n",
    "#    )"
   ]
  },
  {
   "cell_type": "code",
   "execution_count": null,
   "metadata": {},
   "outputs": [],
   "source": [
    "model = XGBClassifier(num_class=8, \n",
    "        objective=\"multi:softmax\",\n",
    "        eval_metric=\"merror\",\n",
    "        verbose = 0)"
   ]
  },
  {
   "cell_type": "code",
   "execution_count": 8,
   "metadata": {},
   "outputs": [
    {
     "name": "stdout",
     "output_type": "stream",
     "text": [
      "Fold 1 train F1 score: 0.3611\n",
      "Fold 1 validation F1 score: 0.3118\n",
      "------------------------------\n",
      "Fold 2 train F1 score: 0.3576\n",
      "Fold 2 validation F1 score: 0.3131\n",
      "------------------------------\n",
      "Fold 3 train F1 score: 0.3499\n",
      "Fold 3 validation F1 score: 0.3128\n",
      "------------------------------\n",
      "Fold 4 train F1 score: 0.3521\n",
      "Fold 4 validation F1 score: 0.3142\n",
      "------------------------------\n",
      "Fold 5 train F1 score: 0.3472\n",
      "Fold 5 validation F1 score: 0.3169\n",
      "------------------------------\n",
      "Average Train F1 score: 0.3535796536243594\n",
      "Average Validation F1 score: 0.31376557955550777\n"
     ]
    }
   ],
   "source": [
    "check_performace(model,X,y,numerical_features,essential_features,n_folds = 5)"
   ]
  },
  {
   "cell_type": "code",
   "execution_count": 9,
   "metadata": {},
   "outputs": [
    {
     "name": "stdout",
     "output_type": "stream",
     "text": [
      "Fold 1 train F1 score: 0.4727\n",
      "Fold 1 validation F1 score: 0.3654\n",
      "------------------------------\n",
      "Fold 2 train F1 score: 0.5003\n",
      "Fold 2 validation F1 score: 0.3740\n",
      "------------------------------\n",
      "Fold 3 train F1 score: 0.4918\n",
      "Fold 3 validation F1 score: 0.3719\n",
      "------------------------------\n",
      "Fold 4 train F1 score: 0.5003\n",
      "Fold 4 validation F1 score: 0.3674\n",
      "------------------------------\n",
      "Fold 5 train F1 score: 0.4942\n",
      "Fold 5 validation F1 score: 0.3644\n",
      "------------------------------\n",
      "Average Train F1 score: 0.49185220194843843\n",
      "Average Validation F1 score: 0.3686070909952829\n"
     ]
    }
   ],
   "source": [
    "check_performace(model,X,y,numerical_features,reduced_features,n_folds = 5)"
   ]
  },
  {
   "cell_type": "code",
   "execution_count": 10,
   "metadata": {},
   "outputs": [
    {
     "name": "stdout",
     "output_type": "stream",
     "text": [
      "Fold 1 train F1 score: 0.6245\n",
      "Fold 1 validation F1 score: 0.4413\n",
      "------------------------------\n",
      "Fold 2 train F1 score: 0.6201\n",
      "Fold 2 validation F1 score: 0.4284\n",
      "------------------------------\n",
      "Fold 3 train F1 score: 0.6264\n",
      "Fold 3 validation F1 score: 0.4346\n",
      "------------------------------\n",
      "Fold 4 train F1 score: 0.6142\n",
      "Fold 4 validation F1 score: 0.4473\n",
      "------------------------------\n",
      "Fold 5 train F1 score: 0.6204\n",
      "Fold 5 validation F1 score: 0.4448\n",
      "------------------------------\n",
      "Average Train F1 score: 0.6211168856198206\n",
      "Average Validation F1 score: 0.43929690557796564\n"
     ]
    }
   ],
   "source": [
    "check_performace(model,X,y,numerical_features,[],n_folds = 5)"
   ]
  },
  {
   "cell_type": "markdown",
   "metadata": {},
   "source": [
    "#### <span style=\"color:salmon\"> 3.1  Evaluate the model </span> \n"
   ]
  },
  {
   "cell_type": "code",
   "execution_count": 11,
   "metadata": {},
   "outputs": [],
   "source": [
    "X_train, X_val, y_train, y_val = train_test_split(X,y, test_size = 0.75, stratify = y, shuffle = True)"
   ]
  },
  {
   "cell_type": "code",
   "execution_count": 12,
   "metadata": {},
   "outputs": [],
   "source": [
    "X_train, X_val = apply_frequency_encoding(X_train, X_val)\n",
    "NA_imputer(X_train,X_val)\n",
    "create_new_features(X_train,X_val)"
   ]
  },
  {
   "cell_type": "code",
   "execution_count": 13,
   "metadata": {},
   "outputs": [],
   "source": [
    "scaler = StandardScaler().fit(X_train[numerical_features])\n",
    "X_train[numerical_features]  = scaler.transform(X_train[numerical_features])\n",
    "X_val[numerical_features]  = scaler.transform(X_val[numerical_features])  "
   ]
  },
  {
   "cell_type": "code",
   "execution_count": 14,
   "metadata": {},
   "outputs": [],
   "source": [
    "drop_list = [\"Average Weekly Wage\"]\n",
    "if feature_selection != []:\n",
    "    for col in X.columns:\n",
    "        if col not in feature_selection:\n",
    "            drop_list.append(col)\n",
    "X_train = X_train.drop(drop_list, axis=1)\n",
    "X_val = X_val.drop(drop_list, axis=1)"
   ]
  },
  {
   "cell_type": "code",
   "execution_count": 1,
   "metadata": {},
   "outputs": [
    {
     "ename": "NameError",
     "evalue": "name 'model' is not defined",
     "output_type": "error",
     "traceback": [
      "\u001b[1;31m---------------------------------------------------------------------------\u001b[0m",
      "\u001b[1;31mNameError\u001b[0m                                 Traceback (most recent call last)",
      "Cell \u001b[1;32mIn[1], line 1\u001b[0m\n\u001b[1;32m----> 1\u001b[0m \u001b[43mmodel\u001b[49m\u001b[38;5;241m.\u001b[39mfit(X_train, y_train)\n",
      "\u001b[1;31mNameError\u001b[0m: name 'model' is not defined"
     ]
    }
   ],
   "source": [
    "model.fit(X_train, y_train)"
   ]
  },
  {
   "cell_type": "code",
   "execution_count": 16,
   "metadata": {},
   "outputs": [],
   "source": [
    "y_train_pred = model.predict(X_train)"
   ]
  },
  {
   "cell_type": "code",
   "execution_count": 17,
   "metadata": {},
   "outputs": [],
   "source": [
    "y_val_pred = model.predict(X_val)"
   ]
  },
  {
   "cell_type": "code",
   "execution_count": 18,
   "metadata": {},
   "outputs": [],
   "source": [
    "class_mapping = {\n",
    "    0:'1. CANCELLED', \n",
    "    1:'2. NON-COMP',\n",
    "    2:'3. MED ONLY', \n",
    "    3:'4. TEMPORARY',\n",
    "    4:'5. PPD SCH LOSS', \n",
    "    5:'6. PPD NSL', \n",
    "    6:'7. PTD', \n",
    "    7:'8. DEATH'\n",
    "}\n",
    "\n",
    "# Use the values from class_mapping as the target names\n",
    "target_names = list(class_mapping.values())"
   ]
  },
  {
   "cell_type": "markdown",
   "metadata": {},
   "source": [
    "Compute confusion matrix to evaluate the accuracy of a classification"
   ]
  },
  {
   "cell_type": "code",
   "execution_count": 19,
   "metadata": {},
   "outputs": [
    {
     "name": "stdout",
     "output_type": "stream",
     "text": [
      "Confusion Matrix:\n",
      "[[ 1716  1297    59    29     2     1     0     0]\n",
      " [  432 71609   274   326    33     0     0     0]\n",
      " [    5  8903  2252  5392   662     0     0     0]\n",
      " [   11  1839   438 33165  1637     1     0     1]\n",
      " [    0   159   123  3732  8048     0     0     0]\n",
      " [    0     0     9   727   115   200     0     0]\n",
      " [    0     0     0     0     0     0    24     0]\n",
      " [    0     0     0     1     0     0     0   113]]\n",
      "\n",
      "Classification Report:\n",
      "                 precision    recall  f1-score   support\n",
      "\n",
      "   1. CANCELLED       0.79      0.55      0.65      3104\n",
      "    2. NON-COMP       0.85      0.99      0.92     72674\n",
      "    3. MED ONLY       0.71      0.13      0.22     17214\n",
      "   4. TEMPORARY       0.76      0.89      0.82     37092\n",
      "5. PPD SCH LOSS       0.77      0.67      0.71     12062\n",
      "     6. PPD NSL       0.99      0.19      0.32      1051\n",
      "         7. PTD       1.00      1.00      1.00        24\n",
      "       8. DEATH       0.99      0.99      0.99       114\n",
      "\n",
      "       accuracy                           0.82    143335\n",
      "      macro avg       0.86      0.68      0.70    143335\n",
      "   weighted avg       0.81      0.82      0.78    143335\n",
      "\n"
     ]
    }
   ],
   "source": [
    "# Evaluate the model\n",
    "print(\"Confusion Matrix:\")\n",
    "print(confusion_matrix(y_train, y_train_pred))\n",
    "print(\"\\nClassification Report:\")\n",
    "print(classification_report(y_train, y_train_pred, target_names=target_names))"
   ]
  },
  {
   "cell_type": "code",
   "execution_count": 20,
   "metadata": {},
   "outputs": [
    {
     "name": "stdout",
     "output_type": "stream",
     "text": [
      "Confusion Matrix:\n",
      "[[  4544   4379    169    199     17      0      0      2]\n",
      " [  1494 213544   1413   1406    155      0      0      9]\n",
      " [    56  27316   4427  17661   2171      2      0     11]\n",
      " [    63   6019   2159  96479   6480     35      0     43]\n",
      " [     2    501    622  13878  21172     11      0      0]\n",
      " [     0     10     50   2651    428     13      0      0]\n",
      " [     0      0      2     65      6      0      0      0]\n",
      " [     1     44     14    197      3      0      0     84]]\n",
      "\n",
      "Classification Report:\n",
      "                 precision    recall  f1-score   support\n",
      "\n",
      "   1. CANCELLED       0.74      0.49      0.59      9310\n",
      "    2. NON-COMP       0.85      0.98      0.91    218021\n",
      "    3. MED ONLY       0.50      0.09      0.15     51644\n",
      "   4. TEMPORARY       0.73      0.87      0.79    111278\n",
      "5. PPD SCH LOSS       0.70      0.59      0.64     36186\n",
      "     6. PPD NSL       0.21      0.00      0.01      3152\n",
      "         7. PTD       0.00      0.00      0.00        73\n",
      "       8. DEATH       0.56      0.24      0.34       343\n",
      "\n",
      "       accuracy                           0.79    430007\n",
      "      macro avg       0.54      0.41      0.43    430007\n",
      "   weighted avg       0.75      0.79      0.75    430007\n",
      "\n"
     ]
    }
   ],
   "source": [
    "# Evaluate the model\n",
    "print(\"Confusion Matrix:\")\n",
    "print(confusion_matrix(y_val, y_val_pred))\n",
    "print(\"\\nClassification Report:\")\n",
    "print(classification_report(y_val, y_val_pred, target_names=target_names))\n"
   ]
  },
  {
   "cell_type": "markdown",
   "metadata": {},
   "source": [
    "## <span style=\"color:salmon\"> 4. Test Predictions </span> "
   ]
  },
  {
   "cell_type": "markdown",
   "metadata": {},
   "source": [
    "Make validation predictions:"
   ]
  },
  {
   "cell_type": "code",
   "execution_count": 21,
   "metadata": {},
   "outputs": [],
   "source": [
    "X, test_df = apply_frequency_encoding(X, test_df)\n",
    "NA_imputer(X, test_df)\n",
    "create_new_features(X, test_df)"
   ]
  },
  {
   "cell_type": "code",
   "execution_count": 22,
   "metadata": {},
   "outputs": [],
   "source": [
    "scaler = StandardScaler().fit(X[numerical_features])\n",
    "X[numerical_features]  = scaler.transform(X[numerical_features])\n",
    "test_df[numerical_features]  = scaler.transform(test_df[numerical_features])  "
   ]
  },
  {
   "cell_type": "code",
   "execution_count": 23,
   "metadata": {},
   "outputs": [],
   "source": [
    "drop_list = [\"Average Weekly Wage\"]\n",
    "if feature_selection != []:\n",
    "    for col in X.columns:\n",
    "        if col not in feature_selection:\n",
    "            drop_list.append(col)\n",
    "test_df = test_df.drop(drop_list, axis=1)"
   ]
  },
  {
   "cell_type": "code",
   "execution_count": 24,
   "metadata": {},
   "outputs": [],
   "source": [
    "# Make validation predictions\n",
    "y_test_pred = model.predict(test_df)\n",
    "y_test_pred = y_test_pred.ravel()"
   ]
  },
  {
   "cell_type": "code",
   "execution_count": 25,
   "metadata": {},
   "outputs": [],
   "source": [
    "y_test_final = np.array([class_mapping[i] for i in y_test_pred])"
   ]
  },
  {
   "cell_type": "code",
   "execution_count": 26,
   "metadata": {},
   "outputs": [],
   "source": [
    "test_id = test_df.index"
   ]
  },
  {
   "cell_type": "code",
   "execution_count": 27,
   "metadata": {},
   "outputs": [],
   "source": [
    "submission_df = pd.DataFrame({\n",
    "    'Claim Identifier': test_id,\n",
    "    'Claim Injury Type': y_test_final\n",
    "})"
   ]
  },
  {
   "cell_type": "code",
   "execution_count": 28,
   "metadata": {},
   "outputs": [],
   "source": [
    "if False:\n",
    "    version = version_control()\n",
    "    submission_df.to_csv(f'./submissions/Group49_Version{version:02}.csv', index=False)"
   ]
  }
 ],
 "metadata": {
  "kernelspec": {
   "display_name": "Python 3 (ipykernel)",
   "language": "python",
   "name": "python3"
  },
  "language_info": {
   "codemirror_mode": {
    "name": "ipython",
    "version": 3
   },
   "file_extension": ".py",
   "mimetype": "text/x-python",
   "name": "python",
   "nbconvert_exporter": "python",
   "pygments_lexer": "ipython3",
   "version": "3.11.9"
  }
 },
 "nbformat": 4,
 "nbformat_minor": 4
}
