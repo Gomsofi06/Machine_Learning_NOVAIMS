{
 "cells": [
  {
   "cell_type": "markdown",
   "metadata": {},
   "source": [
    "# <center>Machine Learning Project</center>\n",
    "\n",
    "** **\n",
    "## <center>*02 - Data Preprocessing Notebook*</center>\n",
    "\n",
    "** **\n",
    "\n",
    "Description of the notebook\n",
    "\n",
    "Handling missing values\n",
    "\n",
    "Encoding categorical variables\n",
    "\n",
    "Feature Engineering\n",
    "\n",
    "Feature scaling\n",
    "\n",
    "Feature Selection\n",
    "\n",
    "The members of the `team` are:\n",
    "- Ana Farinha - 20211514\n",
    "- Francisco Capontes - 20211692\n",
    "- Maria Cruz - 20230760\n",
    "- Sofia Gomes - 20240848\n",
    "- Tahiya Laboni - 20240943"
   ]
  }
 ],
 "metadata": {
  "language_info": {
   "name": "python"
  }
 },
 "nbformat": 4,
 "nbformat_minor": 2
}
